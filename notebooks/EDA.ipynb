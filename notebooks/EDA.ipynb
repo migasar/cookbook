{
 "cells": [
  {
   "cell_type": "markdown",
   "id": "equipped-inclusion",
   "metadata": {},
   "source": [
    "### Notebook Settings"
   ]
  },
  {
   "cell_type": "code",
   "execution_count": 1,
   "id": "fantastic-junction",
   "metadata": {},
   "outputs": [],
   "source": [
    "import numpy as np\n",
    "import pandas as pd"
   ]
  },
  {
   "cell_type": "code",
   "execution_count": 24,
   "id": "alpha-missile",
   "metadata": {},
   "outputs": [],
   "source": [
    "import json"
   ]
  },
  {
   "cell_type": "markdown",
   "id": "numerous-wallpaper",
   "metadata": {},
   "source": [
    "## Import Dataset"
   ]
  },
  {
   "cell_type": "markdown",
   "id": "southwest-authentication",
   "metadata": {},
   "source": [
    "### Import csv to df"
   ]
  },
  {
   "cell_type": "code",
   "execution_count": 21,
   "id": "sharp-trustee",
   "metadata": {},
   "outputs": [
    {
     "name": "stdout",
     "output_type": "stream",
     "text": [
      "en.openfoodfacts.org.products.csv  ocr_fr_text_only.jsonl\n"
     ]
    }
   ],
   "source": [
    "! ls ../raw_data"
   ]
  },
  {
   "cell_type": "code",
   "execution_count": 2,
   "id": "incorporated-setting",
   "metadata": {},
   "outputs": [
    {
     "name": "stderr",
     "output_type": "stream",
     "text": [
      "/home/mica/.pyenv/versions/3.8.6/envs/OpenFoodFacts/lib/python3.8/site-packages/IPython/core/interactiveshell.py:3155: DtypeWarning: Columns (0,13,19,20,21,22,23,27,28,29,31,47,52,64) have mixed types.Specify dtype option on import or set low_memory=False.\n",
      "  has_raised = await self.run_ast_nodes(code_ast.body, cell_name,\n"
     ]
    }
   ],
   "source": [
    "data = pd.read_csv('../raw_data/en.openfoodfacts.org.products.csv', sep='\\t', nrows=500_000)\n",
    "off_df = data.copy()"
   ]
  },
  {
   "cell_type": "markdown",
   "id": "central-dream",
   "metadata": {},
   "source": [
    "#### Preliminary exploration of the dataset"
   ]
  },
  {
   "cell_type": "code",
   "execution_count": 4,
   "id": "hollywood-tunnel",
   "metadata": {},
   "outputs": [
    {
     "data": {
      "text/plain": [
       "(500000, 184)"
      ]
     },
     "execution_count": 4,
     "metadata": {},
     "output_type": "execute_result"
    }
   ],
   "source": [
    "off_df.shape"
   ]
  },
  {
   "cell_type": "code",
   "execution_count": 9,
   "id": "micro-mountain",
   "metadata": {
    "collapsed": true,
    "jupyter": {
     "outputs_hidden": true
    },
    "tags": []
   },
   "outputs": [
    {
     "data": {
      "text/plain": [
       "(184,\n",
       " Index(['code', 'url', 'creator', 'created_t', 'created_datetime',\n",
       "        'last_modified_t', 'last_modified_datetime', 'product_name',\n",
       "        'abbreviated_product_name', 'generic_name',\n",
       "        ...\n",
       "        'carbon-footprint-from-meat-or-fish_100g', 'nutrition-score-fr_100g',\n",
       "        'nutrition-score-uk_100g', 'glycemic-index_100g', 'water-hardness_100g',\n",
       "        'choline_100g', 'phylloquinone_100g', 'beta-glucan_100g',\n",
       "        'inositol_100g', 'carnitine_100g'],\n",
       "       dtype='object', length=184))"
      ]
     },
     "execution_count": 9,
     "metadata": {},
     "output_type": "execute_result"
    }
   ],
   "source": [
    "len(off_df.columns), off_df.columns"
   ]
  },
  {
   "cell_type": "code",
   "execution_count": 13,
   "id": "noticed-productivity",
   "metadata": {},
   "outputs": [],
   "source": [
    "off_df_columns = list(off_df.columns)"
   ]
  },
  {
   "cell_type": "code",
   "execution_count": 14,
   "id": "heated-yacht",
   "metadata": {
    "collapsed": true,
    "jupyter": {
     "outputs_hidden": true
    },
    "tags": []
   },
   "outputs": [
    {
     "data": {
      "text/plain": [
       "['code',\n",
       " 'url',\n",
       " 'creator',\n",
       " 'created_t',\n",
       " 'created_datetime',\n",
       " 'last_modified_t',\n",
       " 'last_modified_datetime',\n",
       " 'product_name',\n",
       " 'abbreviated_product_name',\n",
       " 'generic_name',\n",
       " 'quantity',\n",
       " 'packaging',\n",
       " 'packaging_tags',\n",
       " 'packaging_text',\n",
       " 'brands',\n",
       " 'brands_tags',\n",
       " 'categories',\n",
       " 'categories_tags',\n",
       " 'categories_en',\n",
       " 'origins',\n",
       " 'origins_tags',\n",
       " 'origins_en',\n",
       " 'manufacturing_places',\n",
       " 'manufacturing_places_tags',\n",
       " 'labels',\n",
       " 'labels_tags',\n",
       " 'labels_en',\n",
       " 'emb_codes',\n",
       " 'emb_codes_tags',\n",
       " 'first_packaging_code_geo',\n",
       " 'cities',\n",
       " 'cities_tags',\n",
       " 'purchase_places',\n",
       " 'stores',\n",
       " 'countries',\n",
       " 'countries_tags',\n",
       " 'countries_en',\n",
       " 'ingredients_text',\n",
       " 'allergens',\n",
       " 'allergens_en',\n",
       " 'traces',\n",
       " 'traces_tags',\n",
       " 'traces_en',\n",
       " 'serving_size',\n",
       " 'serving_quantity',\n",
       " 'no_nutriments',\n",
       " 'additives_n',\n",
       " 'additives',\n",
       " 'additives_tags',\n",
       " 'additives_en',\n",
       " 'ingredients_from_palm_oil_n',\n",
       " 'ingredients_from_palm_oil',\n",
       " 'ingredients_from_palm_oil_tags',\n",
       " 'ingredients_that_may_be_from_palm_oil_n',\n",
       " 'ingredients_that_may_be_from_palm_oil',\n",
       " 'ingredients_that_may_be_from_palm_oil_tags',\n",
       " 'nutriscore_score',\n",
       " 'nutriscore_grade',\n",
       " 'nova_group',\n",
       " 'pnns_groups_1',\n",
       " 'pnns_groups_2',\n",
       " 'states',\n",
       " 'states_tags',\n",
       " 'states_en',\n",
       " 'brand_owner',\n",
       " 'main_category',\n",
       " 'main_category_en',\n",
       " 'image_url',\n",
       " 'image_small_url',\n",
       " 'image_ingredients_url',\n",
       " 'image_ingredients_small_url',\n",
       " 'image_nutrition_url',\n",
       " 'image_nutrition_small_url',\n",
       " 'energy-kj_100g',\n",
       " 'energy-kcal_100g',\n",
       " 'energy_100g',\n",
       " 'energy-from-fat_100g',\n",
       " 'fat_100g',\n",
       " 'saturated-fat_100g',\n",
       " '-butyric-acid_100g',\n",
       " '-caproic-acid_100g',\n",
       " '-caprylic-acid_100g',\n",
       " '-capric-acid_100g',\n",
       " '-lauric-acid_100g',\n",
       " '-myristic-acid_100g',\n",
       " '-palmitic-acid_100g',\n",
       " '-stearic-acid_100g',\n",
       " '-arachidic-acid_100g',\n",
       " '-behenic-acid_100g',\n",
       " '-lignoceric-acid_100g',\n",
       " '-cerotic-acid_100g',\n",
       " '-montanic-acid_100g',\n",
       " '-melissic-acid_100g',\n",
       " 'monounsaturated-fat_100g',\n",
       " 'polyunsaturated-fat_100g',\n",
       " 'omega-3-fat_100g',\n",
       " '-alpha-linolenic-acid_100g',\n",
       " '-eicosapentaenoic-acid_100g',\n",
       " '-docosahexaenoic-acid_100g',\n",
       " 'omega-6-fat_100g',\n",
       " '-linoleic-acid_100g',\n",
       " '-arachidonic-acid_100g',\n",
       " '-gamma-linolenic-acid_100g',\n",
       " '-dihomo-gamma-linolenic-acid_100g',\n",
       " 'omega-9-fat_100g',\n",
       " '-oleic-acid_100g',\n",
       " '-elaidic-acid_100g',\n",
       " '-gondoic-acid_100g',\n",
       " '-mead-acid_100g',\n",
       " '-erucic-acid_100g',\n",
       " '-nervonic-acid_100g',\n",
       " 'trans-fat_100g',\n",
       " 'cholesterol_100g',\n",
       " 'carbohydrates_100g',\n",
       " 'sugars_100g',\n",
       " '-sucrose_100g',\n",
       " '-glucose_100g',\n",
       " '-fructose_100g',\n",
       " '-lactose_100g',\n",
       " '-maltose_100g',\n",
       " '-maltodextrins_100g',\n",
       " 'starch_100g',\n",
       " 'polyols_100g',\n",
       " 'fiber_100g',\n",
       " '-soluble-fiber_100g',\n",
       " '-insoluble-fiber_100g',\n",
       " 'proteins_100g',\n",
       " 'casein_100g',\n",
       " 'serum-proteins_100g',\n",
       " 'nucleotides_100g',\n",
       " 'salt_100g',\n",
       " 'sodium_100g',\n",
       " 'alcohol_100g',\n",
       " 'vitamin-a_100g',\n",
       " 'beta-carotene_100g',\n",
       " 'vitamin-d_100g',\n",
       " 'vitamin-e_100g',\n",
       " 'vitamin-k_100g',\n",
       " 'vitamin-c_100g',\n",
       " 'vitamin-b1_100g',\n",
       " 'vitamin-b2_100g',\n",
       " 'vitamin-pp_100g',\n",
       " 'vitamin-b6_100g',\n",
       " 'vitamin-b9_100g',\n",
       " 'folates_100g',\n",
       " 'vitamin-b12_100g',\n",
       " 'biotin_100g',\n",
       " 'pantothenic-acid_100g',\n",
       " 'silica_100g',\n",
       " 'bicarbonate_100g',\n",
       " 'potassium_100g',\n",
       " 'chloride_100g',\n",
       " 'calcium_100g',\n",
       " 'phosphorus_100g',\n",
       " 'iron_100g',\n",
       " 'magnesium_100g',\n",
       " 'zinc_100g',\n",
       " 'copper_100g',\n",
       " 'manganese_100g',\n",
       " 'fluoride_100g',\n",
       " 'selenium_100g',\n",
       " 'chromium_100g',\n",
       " 'molybdenum_100g',\n",
       " 'iodine_100g',\n",
       " 'caffeine_100g',\n",
       " 'taurine_100g',\n",
       " 'ph_100g',\n",
       " 'fruits-vegetables-nuts_100g',\n",
       " 'fruits-vegetables-nuts-dried_100g',\n",
       " 'fruits-vegetables-nuts-estimate_100g',\n",
       " 'collagen-meat-protein-ratio_100g',\n",
       " 'cocoa_100g',\n",
       " 'chlorophyl_100g',\n",
       " 'carbon-footprint_100g',\n",
       " 'carbon-footprint-from-meat-or-fish_100g',\n",
       " 'nutrition-score-fr_100g',\n",
       " 'nutrition-score-uk_100g',\n",
       " 'glycemic-index_100g',\n",
       " 'water-hardness_100g',\n",
       " 'choline_100g',\n",
       " 'phylloquinone_100g',\n",
       " 'beta-glucan_100g',\n",
       " 'inositol_100g',\n",
       " 'carnitine_100g']"
      ]
     },
     "execution_count": 14,
     "metadata": {},
     "output_type": "execute_result"
    }
   ],
   "source": [
    "off_df_columns"
   ]
  },
  {
   "cell_type": "code",
   "execution_count": 12,
   "id": "mysterious-range",
   "metadata": {
    "collapsed": true,
    "jupyter": {
     "outputs_hidden": true
    },
    "tags": []
   },
   "outputs": [
    {
     "data": {
      "text/plain": [
       "code                   object\n",
       "url                    object\n",
       "creator                object\n",
       "created_t               int64\n",
       "created_datetime       object\n",
       "                       ...   \n",
       "choline_100g          float64\n",
       "phylloquinone_100g    float64\n",
       "beta-glucan_100g      float64\n",
       "inositol_100g         float64\n",
       "carnitine_100g        float64\n",
       "Length: 184, dtype: object"
      ]
     },
     "execution_count": 12,
     "metadata": {},
     "output_type": "execute_result"
    }
   ],
   "source": [
    "off_df.dtypes"
   ]
  },
  {
   "cell_type": "code",
   "execution_count": 18,
   "id": "lesser-scratch",
   "metadata": {},
   "outputs": [],
   "source": [
    "off_df_types = dict(off_df.dtypes)"
   ]
  },
  {
   "cell_type": "code",
   "execution_count": 19,
   "id": "robust-gross",
   "metadata": {
    "collapsed": true,
    "jupyter": {
     "outputs_hidden": true
    },
    "tags": []
   },
   "outputs": [
    {
     "data": {
      "text/plain": [
       "{'code': dtype('O'),\n",
       " 'url': dtype('O'),\n",
       " 'creator': dtype('O'),\n",
       " 'created_t': dtype('int64'),\n",
       " 'created_datetime': dtype('O'),\n",
       " 'last_modified_t': dtype('int64'),\n",
       " 'last_modified_datetime': dtype('O'),\n",
       " 'product_name': dtype('O'),\n",
       " 'abbreviated_product_name': dtype('float64'),\n",
       " 'generic_name': dtype('O'),\n",
       " 'quantity': dtype('O'),\n",
       " 'packaging': dtype('O'),\n",
       " 'packaging_tags': dtype('O'),\n",
       " 'packaging_text': dtype('O'),\n",
       " 'brands': dtype('O'),\n",
       " 'brands_tags': dtype('O'),\n",
       " 'categories': dtype('O'),\n",
       " 'categories_tags': dtype('O'),\n",
       " 'categories_en': dtype('O'),\n",
       " 'origins': dtype('O'),\n",
       " 'origins_tags': dtype('O'),\n",
       " 'origins_en': dtype('O'),\n",
       " 'manufacturing_places': dtype('O'),\n",
       " 'manufacturing_places_tags': dtype('O'),\n",
       " 'labels': dtype('O'),\n",
       " 'labels_tags': dtype('O'),\n",
       " 'labels_en': dtype('O'),\n",
       " 'emb_codes': dtype('O'),\n",
       " 'emb_codes_tags': dtype('O'),\n",
       " 'first_packaging_code_geo': dtype('O'),\n",
       " 'cities': dtype('float64'),\n",
       " 'cities_tags': dtype('O'),\n",
       " 'purchase_places': dtype('O'),\n",
       " 'stores': dtype('O'),\n",
       " 'countries': dtype('O'),\n",
       " 'countries_tags': dtype('O'),\n",
       " 'countries_en': dtype('O'),\n",
       " 'ingredients_text': dtype('O'),\n",
       " 'allergens': dtype('O'),\n",
       " 'allergens_en': dtype('float64'),\n",
       " 'traces': dtype('O'),\n",
       " 'traces_tags': dtype('O'),\n",
       " 'traces_en': dtype('O'),\n",
       " 'serving_size': dtype('O'),\n",
       " 'serving_quantity': dtype('float64'),\n",
       " 'no_nutriments': dtype('float64'),\n",
       " 'additives_n': dtype('float64'),\n",
       " 'additives': dtype('O'),\n",
       " 'additives_tags': dtype('O'),\n",
       " 'additives_en': dtype('O'),\n",
       " 'ingredients_from_palm_oil_n': dtype('float64'),\n",
       " 'ingredients_from_palm_oil': dtype('float64'),\n",
       " 'ingredients_from_palm_oil_tags': dtype('O'),\n",
       " 'ingredients_that_may_be_from_palm_oil_n': dtype('float64'),\n",
       " 'ingredients_that_may_be_from_palm_oil': dtype('float64'),\n",
       " 'ingredients_that_may_be_from_palm_oil_tags': dtype('O'),\n",
       " 'nutriscore_score': dtype('float64'),\n",
       " 'nutriscore_grade': dtype('O'),\n",
       " 'nova_group': dtype('float64'),\n",
       " 'pnns_groups_1': dtype('O'),\n",
       " 'pnns_groups_2': dtype('O'),\n",
       " 'states': dtype('O'),\n",
       " 'states_tags': dtype('O'),\n",
       " 'states_en': dtype('O'),\n",
       " 'brand_owner': dtype('O'),\n",
       " 'main_category': dtype('O'),\n",
       " 'main_category_en': dtype('O'),\n",
       " 'image_url': dtype('O'),\n",
       " 'image_small_url': dtype('O'),\n",
       " 'image_ingredients_url': dtype('O'),\n",
       " 'image_ingredients_small_url': dtype('O'),\n",
       " 'image_nutrition_url': dtype('O'),\n",
       " 'image_nutrition_small_url': dtype('O'),\n",
       " 'energy-kj_100g': dtype('float64'),\n",
       " 'energy-kcal_100g': dtype('float64'),\n",
       " 'energy_100g': dtype('float64'),\n",
       " 'energy-from-fat_100g': dtype('float64'),\n",
       " 'fat_100g': dtype('float64'),\n",
       " 'saturated-fat_100g': dtype('float64'),\n",
       " '-butyric-acid_100g': dtype('float64'),\n",
       " '-caproic-acid_100g': dtype('float64'),\n",
       " '-caprylic-acid_100g': dtype('float64'),\n",
       " '-capric-acid_100g': dtype('float64'),\n",
       " '-lauric-acid_100g': dtype('float64'),\n",
       " '-myristic-acid_100g': dtype('float64'),\n",
       " '-palmitic-acid_100g': dtype('float64'),\n",
       " '-stearic-acid_100g': dtype('float64'),\n",
       " '-arachidic-acid_100g': dtype('float64'),\n",
       " '-behenic-acid_100g': dtype('float64'),\n",
       " '-lignoceric-acid_100g': dtype('float64'),\n",
       " '-cerotic-acid_100g': dtype('float64'),\n",
       " '-montanic-acid_100g': dtype('float64'),\n",
       " '-melissic-acid_100g': dtype('float64'),\n",
       " 'monounsaturated-fat_100g': dtype('float64'),\n",
       " 'polyunsaturated-fat_100g': dtype('float64'),\n",
       " 'omega-3-fat_100g': dtype('float64'),\n",
       " '-alpha-linolenic-acid_100g': dtype('float64'),\n",
       " '-eicosapentaenoic-acid_100g': dtype('float64'),\n",
       " '-docosahexaenoic-acid_100g': dtype('float64'),\n",
       " 'omega-6-fat_100g': dtype('float64'),\n",
       " '-linoleic-acid_100g': dtype('float64'),\n",
       " '-arachidonic-acid_100g': dtype('float64'),\n",
       " '-gamma-linolenic-acid_100g': dtype('float64'),\n",
       " '-dihomo-gamma-linolenic-acid_100g': dtype('float64'),\n",
       " 'omega-9-fat_100g': dtype('float64'),\n",
       " '-oleic-acid_100g': dtype('float64'),\n",
       " '-elaidic-acid_100g': dtype('float64'),\n",
       " '-gondoic-acid_100g': dtype('float64'),\n",
       " '-mead-acid_100g': dtype('float64'),\n",
       " '-erucic-acid_100g': dtype('float64'),\n",
       " '-nervonic-acid_100g': dtype('float64'),\n",
       " 'trans-fat_100g': dtype('float64'),\n",
       " 'cholesterol_100g': dtype('float64'),\n",
       " 'carbohydrates_100g': dtype('float64'),\n",
       " 'sugars_100g': dtype('float64'),\n",
       " '-sucrose_100g': dtype('float64'),\n",
       " '-glucose_100g': dtype('float64'),\n",
       " '-fructose_100g': dtype('float64'),\n",
       " '-lactose_100g': dtype('float64'),\n",
       " '-maltose_100g': dtype('float64'),\n",
       " '-maltodextrins_100g': dtype('float64'),\n",
       " 'starch_100g': dtype('float64'),\n",
       " 'polyols_100g': dtype('float64'),\n",
       " 'fiber_100g': dtype('float64'),\n",
       " '-soluble-fiber_100g': dtype('float64'),\n",
       " '-insoluble-fiber_100g': dtype('float64'),\n",
       " 'proteins_100g': dtype('float64'),\n",
       " 'casein_100g': dtype('float64'),\n",
       " 'serum-proteins_100g': dtype('float64'),\n",
       " 'nucleotides_100g': dtype('float64'),\n",
       " 'salt_100g': dtype('float64'),\n",
       " 'sodium_100g': dtype('float64'),\n",
       " 'alcohol_100g': dtype('float64'),\n",
       " 'vitamin-a_100g': dtype('float64'),\n",
       " 'beta-carotene_100g': dtype('float64'),\n",
       " 'vitamin-d_100g': dtype('float64'),\n",
       " 'vitamin-e_100g': dtype('float64'),\n",
       " 'vitamin-k_100g': dtype('float64'),\n",
       " 'vitamin-c_100g': dtype('float64'),\n",
       " 'vitamin-b1_100g': dtype('float64'),\n",
       " 'vitamin-b2_100g': dtype('float64'),\n",
       " 'vitamin-pp_100g': dtype('float64'),\n",
       " 'vitamin-b6_100g': dtype('float64'),\n",
       " 'vitamin-b9_100g': dtype('float64'),\n",
       " 'folates_100g': dtype('float64'),\n",
       " 'vitamin-b12_100g': dtype('float64'),\n",
       " 'biotin_100g': dtype('float64'),\n",
       " 'pantothenic-acid_100g': dtype('float64'),\n",
       " 'silica_100g': dtype('float64'),\n",
       " 'bicarbonate_100g': dtype('float64'),\n",
       " 'potassium_100g': dtype('float64'),\n",
       " 'chloride_100g': dtype('float64'),\n",
       " 'calcium_100g': dtype('float64'),\n",
       " 'phosphorus_100g': dtype('float64'),\n",
       " 'iron_100g': dtype('float64'),\n",
       " 'magnesium_100g': dtype('float64'),\n",
       " 'zinc_100g': dtype('float64'),\n",
       " 'copper_100g': dtype('float64'),\n",
       " 'manganese_100g': dtype('float64'),\n",
       " 'fluoride_100g': dtype('float64'),\n",
       " 'selenium_100g': dtype('float64'),\n",
       " 'chromium_100g': dtype('float64'),\n",
       " 'molybdenum_100g': dtype('float64'),\n",
       " 'iodine_100g': dtype('float64'),\n",
       " 'caffeine_100g': dtype('float64'),\n",
       " 'taurine_100g': dtype('float64'),\n",
       " 'ph_100g': dtype('float64'),\n",
       " 'fruits-vegetables-nuts_100g': dtype('float64'),\n",
       " 'fruits-vegetables-nuts-dried_100g': dtype('float64'),\n",
       " 'fruits-vegetables-nuts-estimate_100g': dtype('float64'),\n",
       " 'collagen-meat-protein-ratio_100g': dtype('float64'),\n",
       " 'cocoa_100g': dtype('float64'),\n",
       " 'chlorophyl_100g': dtype('float64'),\n",
       " 'carbon-footprint_100g': dtype('float64'),\n",
       " 'carbon-footprint-from-meat-or-fish_100g': dtype('float64'),\n",
       " 'nutrition-score-fr_100g': dtype('float64'),\n",
       " 'nutrition-score-uk_100g': dtype('float64'),\n",
       " 'glycemic-index_100g': dtype('float64'),\n",
       " 'water-hardness_100g': dtype('float64'),\n",
       " 'choline_100g': dtype('float64'),\n",
       " 'phylloquinone_100g': dtype('float64'),\n",
       " 'beta-glucan_100g': dtype('float64'),\n",
       " 'inositol_100g': dtype('float64'),\n",
       " 'carnitine_100g': dtype('float64')}"
      ]
     },
     "execution_count": 19,
     "metadata": {},
     "output_type": "execute_result"
    }
   ],
   "source": [
    "off_df_types"
   ]
  },
  {
   "cell_type": "code",
   "execution_count": 3,
   "id": "pleased-portal",
   "metadata": {
    "collapsed": true,
    "jupyter": {
     "outputs_hidden": true
    },
    "tags": []
   },
   "outputs": [
    {
     "data": {
      "text/html": [
       "<div>\n",
       "<style scoped>\n",
       "    .dataframe tbody tr th:only-of-type {\n",
       "        vertical-align: middle;\n",
       "    }\n",
       "\n",
       "    .dataframe tbody tr th {\n",
       "        vertical-align: top;\n",
       "    }\n",
       "\n",
       "    .dataframe thead th {\n",
       "        text-align: right;\n",
       "    }\n",
       "</style>\n",
       "<table border=\"1\" class=\"dataframe\">\n",
       "  <thead>\n",
       "    <tr style=\"text-align: right;\">\n",
       "      <th></th>\n",
       "      <th>code</th>\n",
       "      <th>url</th>\n",
       "      <th>creator</th>\n",
       "      <th>created_t</th>\n",
       "      <th>created_datetime</th>\n",
       "      <th>last_modified_t</th>\n",
       "      <th>last_modified_datetime</th>\n",
       "      <th>product_name</th>\n",
       "      <th>abbreviated_product_name</th>\n",
       "      <th>generic_name</th>\n",
       "      <th>...</th>\n",
       "      <th>carbon-footprint-from-meat-or-fish_100g</th>\n",
       "      <th>nutrition-score-fr_100g</th>\n",
       "      <th>nutrition-score-uk_100g</th>\n",
       "      <th>glycemic-index_100g</th>\n",
       "      <th>water-hardness_100g</th>\n",
       "      <th>choline_100g</th>\n",
       "      <th>phylloquinone_100g</th>\n",
       "      <th>beta-glucan_100g</th>\n",
       "      <th>inositol_100g</th>\n",
       "      <th>carnitine_100g</th>\n",
       "    </tr>\n",
       "  </thead>\n",
       "  <tbody>\n",
       "    <tr>\n",
       "      <th>0</th>\n",
       "      <td>0000000000017</td>\n",
       "      <td>http://world-en.openfoodfacts.org/product/0000...</td>\n",
       "      <td>kiliweb</td>\n",
       "      <td>1529059080</td>\n",
       "      <td>2018-06-15T10:38:00Z</td>\n",
       "      <td>1561463718</td>\n",
       "      <td>2019-06-25T11:55:18Z</td>\n",
       "      <td>Vitória crackers</td>\n",
       "      <td>NaN</td>\n",
       "      <td>NaN</td>\n",
       "      <td>...</td>\n",
       "      <td>NaN</td>\n",
       "      <td>NaN</td>\n",
       "      <td>NaN</td>\n",
       "      <td>NaN</td>\n",
       "      <td>NaN</td>\n",
       "      <td>NaN</td>\n",
       "      <td>NaN</td>\n",
       "      <td>NaN</td>\n",
       "      <td>NaN</td>\n",
       "      <td>NaN</td>\n",
       "    </tr>\n",
       "    <tr>\n",
       "      <th>1</th>\n",
       "      <td>0000000000031</td>\n",
       "      <td>http://world-en.openfoodfacts.org/product/0000...</td>\n",
       "      <td>isagoofy</td>\n",
       "      <td>1539464774</td>\n",
       "      <td>2018-10-13T21:06:14Z</td>\n",
       "      <td>1539464817</td>\n",
       "      <td>2018-10-13T21:06:57Z</td>\n",
       "      <td>Cacao</td>\n",
       "      <td>NaN</td>\n",
       "      <td>NaN</td>\n",
       "      <td>...</td>\n",
       "      <td>NaN</td>\n",
       "      <td>NaN</td>\n",
       "      <td>NaN</td>\n",
       "      <td>NaN</td>\n",
       "      <td>NaN</td>\n",
       "      <td>NaN</td>\n",
       "      <td>NaN</td>\n",
       "      <td>NaN</td>\n",
       "      <td>NaN</td>\n",
       "      <td>NaN</td>\n",
       "    </tr>\n",
       "    <tr>\n",
       "      <th>2</th>\n",
       "      <td>000000000003327986</td>\n",
       "      <td>http://world-en.openfoodfacts.org/product/0000...</td>\n",
       "      <td>kiliweb</td>\n",
       "      <td>1574175736</td>\n",
       "      <td>2019-11-19T15:02:16Z</td>\n",
       "      <td>1574175737</td>\n",
       "      <td>2019-11-19T15:02:17Z</td>\n",
       "      <td>Filetes de pollo empanado</td>\n",
       "      <td>NaN</td>\n",
       "      <td>NaN</td>\n",
       "      <td>...</td>\n",
       "      <td>NaN</td>\n",
       "      <td>NaN</td>\n",
       "      <td>NaN</td>\n",
       "      <td>NaN</td>\n",
       "      <td>NaN</td>\n",
       "      <td>NaN</td>\n",
       "      <td>NaN</td>\n",
       "      <td>NaN</td>\n",
       "      <td>NaN</td>\n",
       "      <td>NaN</td>\n",
       "    </tr>\n",
       "    <tr>\n",
       "      <th>3</th>\n",
       "      <td>0000000000100</td>\n",
       "      <td>http://world-en.openfoodfacts.org/product/0000...</td>\n",
       "      <td>del51</td>\n",
       "      <td>1444572561</td>\n",
       "      <td>2015-10-11T14:09:21Z</td>\n",
       "      <td>1444659212</td>\n",
       "      <td>2015-10-12T14:13:32Z</td>\n",
       "      <td>moutarde au moût de raisin</td>\n",
       "      <td>NaN</td>\n",
       "      <td>NaN</td>\n",
       "      <td>...</td>\n",
       "      <td>NaN</td>\n",
       "      <td>18.0</td>\n",
       "      <td>NaN</td>\n",
       "      <td>NaN</td>\n",
       "      <td>NaN</td>\n",
       "      <td>NaN</td>\n",
       "      <td>NaN</td>\n",
       "      <td>NaN</td>\n",
       "      <td>NaN</td>\n",
       "      <td>NaN</td>\n",
       "    </tr>\n",
       "    <tr>\n",
       "      <th>4</th>\n",
       "      <td>00000000001111111111</td>\n",
       "      <td>http://world-en.openfoodfacts.org/product/0000...</td>\n",
       "      <td>openfoodfacts-contributors</td>\n",
       "      <td>1560020173</td>\n",
       "      <td>2019-06-08T18:56:13Z</td>\n",
       "      <td>1560020173</td>\n",
       "      <td>2019-06-08T18:56:13Z</td>\n",
       "      <td>Sfiudwx</td>\n",
       "      <td>NaN</td>\n",
       "      <td>NaN</td>\n",
       "      <td>...</td>\n",
       "      <td>NaN</td>\n",
       "      <td>NaN</td>\n",
       "      <td>NaN</td>\n",
       "      <td>NaN</td>\n",
       "      <td>NaN</td>\n",
       "      <td>NaN</td>\n",
       "      <td>NaN</td>\n",
       "      <td>NaN</td>\n",
       "      <td>NaN</td>\n",
       "      <td>NaN</td>\n",
       "    </tr>\n",
       "  </tbody>\n",
       "</table>\n",
       "<p>5 rows × 184 columns</p>\n",
       "</div>"
      ],
      "text/plain": [
       "                   code                                                url  \\\n",
       "0         0000000000017  http://world-en.openfoodfacts.org/product/0000...   \n",
       "1         0000000000031  http://world-en.openfoodfacts.org/product/0000...   \n",
       "2    000000000003327986  http://world-en.openfoodfacts.org/product/0000...   \n",
       "3         0000000000100  http://world-en.openfoodfacts.org/product/0000...   \n",
       "4  00000000001111111111  http://world-en.openfoodfacts.org/product/0000...   \n",
       "\n",
       "                      creator   created_t      created_datetime  \\\n",
       "0                     kiliweb  1529059080  2018-06-15T10:38:00Z   \n",
       "1                    isagoofy  1539464774  2018-10-13T21:06:14Z   \n",
       "2                     kiliweb  1574175736  2019-11-19T15:02:16Z   \n",
       "3                       del51  1444572561  2015-10-11T14:09:21Z   \n",
       "4  openfoodfacts-contributors  1560020173  2019-06-08T18:56:13Z   \n",
       "\n",
       "   last_modified_t last_modified_datetime                  product_name  \\\n",
       "0       1561463718   2019-06-25T11:55:18Z              Vitória crackers   \n",
       "1       1539464817   2018-10-13T21:06:57Z                         Cacao   \n",
       "2       1574175737   2019-11-19T15:02:17Z     Filetes de pollo empanado   \n",
       "3       1444659212   2015-10-12T14:13:32Z   moutarde au moût de raisin    \n",
       "4       1560020173   2019-06-08T18:56:13Z                       Sfiudwx   \n",
       "\n",
       "   abbreviated_product_name generic_name  ...  \\\n",
       "0                       NaN          NaN  ...   \n",
       "1                       NaN          NaN  ...   \n",
       "2                       NaN          NaN  ...   \n",
       "3                       NaN          NaN  ...   \n",
       "4                       NaN          NaN  ...   \n",
       "\n",
       "  carbon-footprint-from-meat-or-fish_100g nutrition-score-fr_100g  \\\n",
       "0                                     NaN                     NaN   \n",
       "1                                     NaN                     NaN   \n",
       "2                                     NaN                     NaN   \n",
       "3                                     NaN                    18.0   \n",
       "4                                     NaN                     NaN   \n",
       "\n",
       "  nutrition-score-uk_100g glycemic-index_100g water-hardness_100g  \\\n",
       "0                     NaN                 NaN                 NaN   \n",
       "1                     NaN                 NaN                 NaN   \n",
       "2                     NaN                 NaN                 NaN   \n",
       "3                     NaN                 NaN                 NaN   \n",
       "4                     NaN                 NaN                 NaN   \n",
       "\n",
       "  choline_100g phylloquinone_100g beta-glucan_100g inositol_100g  \\\n",
       "0          NaN                NaN              NaN           NaN   \n",
       "1          NaN                NaN              NaN           NaN   \n",
       "2          NaN                NaN              NaN           NaN   \n",
       "3          NaN                NaN              NaN           NaN   \n",
       "4          NaN                NaN              NaN           NaN   \n",
       "\n",
       "  carnitine_100g  \n",
       "0            NaN  \n",
       "1            NaN  \n",
       "2            NaN  \n",
       "3            NaN  \n",
       "4            NaN  \n",
       "\n",
       "[5 rows x 184 columns]"
      ]
     },
     "execution_count": 3,
     "metadata": {},
     "output_type": "execute_result"
    }
   ],
   "source": [
    "off_df.head()"
   ]
  },
  {
   "cell_type": "markdown",
   "id": "injured-selling",
   "metadata": {},
   "source": [
    "### Import json"
   ]
  },
  {
   "cell_type": "code",
   "execution_count": 25,
   "id": "confident-performer",
   "metadata": {},
   "outputs": [],
   "source": [
    "file = '../raw_data/ocr_fr_text_only.jsonl'\n",
    "data_json = []\n",
    "with open(file) as f:\n",
    "    for line in f:\n",
    "       data_json.append(json.loads(line))\n",
    "ocr_df = data_json.copy()"
   ]
  },
  {
   "cell_type": "markdown",
   "id": "exterior-brunei",
   "metadata": {},
   "source": [
    "#### Preliminary exploration of the dataset"
   ]
  },
  {
   "cell_type": "code",
   "execution_count": 37,
   "id": "simplified-vulnerability",
   "metadata": {},
   "outputs": [
    {
     "data": {
      "text/plain": [
       "795609"
      ]
     },
     "execution_count": 37,
     "metadata": {},
     "output_type": "execute_result"
    }
   ],
   "source": [
    "len(ocr_df)"
   ]
  },
  {
   "cell_type": "code",
   "execution_count": 34,
   "id": "affected-custom",
   "metadata": {
    "collapsed": true,
    "jupyter": {
     "outputs_hidden": true
    },
    "tags": []
   },
   "outputs": [
    {
     "data": {
      "text/plain": [
       "{'source': '/319/966/021/9208/1.json',\n",
       " 'fr_text': '..\\n1cg% LOCAL\\nKer\\nchAnt\\nPOULET\\nDecoupes de\\nConditionné par D\\nBretagne\\nOrigine FRANCE. Produit Frais, Classe A\\nconsommer cuit à coeur\\nNE ELEVÉ PREPARE\\n100% LOCAL\\nDANS NOTRE REGION\\nFILETS POOLET\\n720GR\\nVOLAILLE\\nORIGINE France\\nPrixtkg\\nPoids net\\nPrix a pave\\n0,720kg\\nO058067878\\nA consommer jusqu au\\n04/10/18\\nCot\\nA conserver entre O C et 4C\\nExpedie Le\\nLOc BRETAGNE 22 LANFAINS\\n22.099.002\\nCE\\n250498-0/181\\n01\\n3 11199660121\\nCONSGNE POUANT REOCLMENT\\nwww.cONSIGNT\\n'}"
      ]
     },
     "execution_count": 34,
     "metadata": {},
     "output_type": "execute_result"
    }
   ],
   "source": [
    "ocr_df[1]"
   ]
  }
 ],
 "metadata": {
  "kernelspec": {
   "display_name": "Python 3",
   "language": "python",
   "name": "python3"
  },
  "language_info": {
   "codemirror_mode": {
    "name": "ipython",
    "version": 3
   },
   "file_extension": ".py",
   "mimetype": "text/x-python",
   "name": "python",
   "nbconvert_exporter": "python",
   "pygments_lexer": "ipython3",
   "version": "3.8.6"
  }
 },
 "nbformat": 4,
 "nbformat_minor": 5
}
