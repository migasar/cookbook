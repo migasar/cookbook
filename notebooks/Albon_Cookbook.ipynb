{
 "cells": [
  {
   "cell_type": "markdown",
   "id": "advisory-precipitation",
   "metadata": {
    "tags": []
   },
   "source": [
    "[Chris Albon's Cookbook](https://chrisalbon.com/)\n",
    "==="
   ]
  },
  {
   "cell_type": "markdown",
   "id": "urban-reset",
   "metadata": {},
   "source": [
    "> Notes On Using  \n",
    "> **Data Science & Machine Learning**  \n",
    "> To Fight For Something That Matters"
   ]
  },
  {
   "cell_type": "markdown",
   "id": "configured-announcement",
   "metadata": {
    "tags": []
   },
   "source": [
    "## Data"
   ]
  },
  {
   "cell_type": "markdown",
   "id": "requested-horizon",
   "metadata": {
    "tags": []
   },
   "source": [
    "### Machine Learning"
   ]
  },
  {
   "cell_type": "markdown",
   "id": "controlled-amateur",
   "metadata": {
    "heading_collapsed": "true",
    "tags": []
   },
   "source": [
    "#### Basics"
   ]
  },
  {
   "cell_type": "markdown",
   "id": "gothic-robertson",
   "metadata": {},
   "source": [
    "- Loading Features From Dictionaries\n",
    "- Loading Features From Dictionaries\n",
    "- Loading scikit-learn's Boston Housing Dataset\n",
    "- Loading scikit-learn's Digits Dataset\n",
    "- Loading scikit-learn's Iris Dataset\n",
    "- Make Simulated Data For Classification\n",
    "- Make Simulated Data For Clustering\n",
    "- Make Simulated Data For Regression\n",
    "- Perceptron In Scikit\n",
    "- Saving Machine Learning Models"
   ]
  },
  {
   "cell_type": "markdown",
   "id": "introductory-lemon",
   "metadata": {},
   "source": [
    "##### Loading Features From Dictionaries"
   ]
  },
  {
   "cell_type": "markdown",
   "id": "retained-participant",
   "metadata": {},
   "source": [
    "##### Loading Features From Dictionaries"
   ]
  },
  {
   "cell_type": "markdown",
   "id": "helpful-oasis",
   "metadata": {},
   "source": [
    "##### Loading scikit-learn's Boston Housing Dataset"
   ]
  },
  {
   "cell_type": "markdown",
   "id": "associate-feelings",
   "metadata": {},
   "source": [
    "##### Loading scikit-learn's Digits Dataset"
   ]
  },
  {
   "cell_type": "markdown",
   "id": "bottom-combat",
   "metadata": {},
   "source": [
    "##### Loading scikit-learn's Iris Dataset"
   ]
  },
  {
   "cell_type": "markdown",
   "id": "meaningful-roberts",
   "metadata": {},
   "source": [
    "##### Make Simulated Data For Classification"
   ]
  },
  {
   "cell_type": "markdown",
   "id": "complicated-governor",
   "metadata": {},
   "source": [
    "##### Make Simulated Data For Clustering"
   ]
  },
  {
   "cell_type": "markdown",
   "id": "disabled-segment",
   "metadata": {},
   "source": [
    "##### Make Simulated Data For Regression"
   ]
  },
  {
   "cell_type": "markdown",
   "id": "dental-endorsement",
   "metadata": {},
   "source": [
    "##### Perceptron In Scikit"
   ]
  },
  {
   "cell_type": "markdown",
   "id": "floral-rachel",
   "metadata": {},
   "source": [
    "##### Saving Machine Learning Models"
   ]
  },
  {
   "cell_type": "markdown",
   "id": "analyzed-heaven",
   "metadata": {
    "heading_collapsed": "true",
    "tags": []
   },
   "source": [
    "#### Vectors, Matrices, and Arrays"
   ]
  },
  {
   "cell_type": "markdown",
   "id": "continuous-biodiversity",
   "metadata": {},
   "source": [
    "- Adding And Subtracting Matrices\n",
    "- Apply Operations To Elements\n",
    "- Calculate Dot Product Of Two Vectors\n",
    "- Calculate The Average, Variance, And Standard Deviation\n",
    "- Calculate The Determinant Of A Matrix\n",
    "- Calculate The Trace Of A Matrix\n",
    "- Converting A Dictionary Into A Matrix\n",
    "- Create A Matrix\n",
    "- Create A Sparse Matrix\n",
    "- Create A Vector\n",
    "- Describe An Array\n",
    "- Find The Maximum And Minimum\n",
    "- Find The Rank Of A Matrix\n",
    "- Flatten A Matrix\n",
    "- Getting The Diagonal Of A Matrix\n",
    "- Invert A Matrix\n",
    "- Reshape An Array\n",
    "- Selecting Elements In An Array\n",
    "- Transpose A Vector Or Matrix"
   ]
  },
  {
   "cell_type": "markdown",
   "id": "addressed-triple",
   "metadata": {},
   "source": [
    "##### Adding And Subtracting Matrices"
   ]
  },
  {
   "cell_type": "markdown",
   "id": "removed-hello",
   "metadata": {},
   "source": [
    "##### Apply Operations To Elements"
   ]
  },
  {
   "cell_type": "markdown",
   "id": "forbidden-scale",
   "metadata": {},
   "source": [
    "##### Calculate Dot Product Of Two Vectors"
   ]
  },
  {
   "cell_type": "markdown",
   "id": "formal-address",
   "metadata": {},
   "source": [
    "##### Calculate The Average, Variance, And Standard Deviation"
   ]
  },
  {
   "cell_type": "markdown",
   "id": "distinguished-intermediate",
   "metadata": {},
   "source": [
    "##### Calculate The Determinant Of A Matrix"
   ]
  },
  {
   "cell_type": "markdown",
   "id": "differential-clark",
   "metadata": {},
   "source": [
    "##### Calculate The Trace Of A Matrix"
   ]
  },
  {
   "cell_type": "markdown",
   "id": "armed-latest",
   "metadata": {},
   "source": [
    "##### Converting A Dictionary Into A Matrix"
   ]
  },
  {
   "cell_type": "markdown",
   "id": "superb-neighbor",
   "metadata": {},
   "source": [
    "##### Create A Matrix"
   ]
  },
  {
   "cell_type": "markdown",
   "id": "amended-upgrade",
   "metadata": {},
   "source": [
    "##### Create A Sparse Matrix"
   ]
  },
  {
   "cell_type": "markdown",
   "id": "built-stockholm",
   "metadata": {},
   "source": [
    "##### Create A Vector"
   ]
  },
  {
   "cell_type": "markdown",
   "id": "pressed-conjunction",
   "metadata": {},
   "source": [
    "##### Describe An Array"
   ]
  },
  {
   "cell_type": "markdown",
   "id": "pacific-creek",
   "metadata": {},
   "source": [
    "##### Find The Maximum And Minimum"
   ]
  },
  {
   "cell_type": "markdown",
   "id": "underlying-frame",
   "metadata": {},
   "source": [
    "##### Find The Rank Of A Matrix"
   ]
  },
  {
   "cell_type": "markdown",
   "id": "owned-county",
   "metadata": {},
   "source": [
    "##### Flatten A Matrix"
   ]
  },
  {
   "cell_type": "markdown",
   "id": "random-brake",
   "metadata": {},
   "source": [
    "##### Getting The Diagonal Of A Matrix"
   ]
  },
  {
   "cell_type": "markdown",
   "id": "meaningful-hammer",
   "metadata": {},
   "source": [
    "##### Invert A Matrix"
   ]
  },
  {
   "cell_type": "markdown",
   "id": "contemporary-finger",
   "metadata": {},
   "source": [
    "##### Reshape An Array"
   ]
  },
  {
   "cell_type": "markdown",
   "id": "vanilla-ecology",
   "metadata": {},
   "source": [
    "##### Selecting Elements In An Array"
   ]
  },
  {
   "cell_type": "markdown",
   "id": "endangered-lindsay",
   "metadata": {},
   "source": [
    "##### Transpose A Vector Or Matrix"
   ]
  },
  {
   "cell_type": "markdown",
   "id": "mathematical-secret",
   "metadata": {
    "heading_collapsed": "true",
    "tags": []
   },
   "source": [
    "#### Preprocessing Structured Data"
   ]
  },
  {
   "cell_type": "markdown",
   "id": "considerable-distinction",
   "metadata": {},
   "source": [
    "- Convert Pandas Categorical Data For Scikit-Learn\n",
    "- Delete Observations With Missing Values\n",
    "- Deleting Missing Values\n",
    "- Detecting Outliers\n",
    "- Discretize Features\n",
    "- Encoding Ordinal Categorical Features\n",
    "- Handling Imbalanced Classes With Downsampling\n",
    "- Handling Imbalanced Classes With Upsampling\n",
    "- Handling Outliers\n",
    "- Impute Missing Values With Means\n",
    "- Imputing Missing Class Labels\n",
    "- Imputing Missing Class Labels Using k-Nearest Neighbors\n",
    "- Normalizing Observations\n",
    "- One-Hot Encode Features With Multiple Labels\n",
    "- One-Hot Encode Nominal Categorical Features\n",
    "- Preprocessing Categorical Features\n",
    "- Preprocessing Iris Data\n",
    "- Rescale A Feature\n",
    "- Standardize A Feature"
   ]
  },
  {
   "cell_type": "markdown",
   "id": "antique-affiliate",
   "metadata": {},
   "source": [
    "##### Convert Pandas Categorical Data For Scikit-Learn"
   ]
  },
  {
   "cell_type": "markdown",
   "id": "smoking-drill",
   "metadata": {},
   "source": [
    "##### Delete Observations With Missing Values"
   ]
  },
  {
   "cell_type": "markdown",
   "id": "insured-species",
   "metadata": {},
   "source": [
    "##### Deleting Missing Values"
   ]
  },
  {
   "cell_type": "markdown",
   "id": "sophisticated-alabama",
   "metadata": {},
   "source": [
    "##### Detecting Outliers"
   ]
  },
  {
   "cell_type": "markdown",
   "id": "broadband-tolerance",
   "metadata": {},
   "source": [
    "##### Discretize Features"
   ]
  },
  {
   "cell_type": "markdown",
   "id": "sufficient-joseph",
   "metadata": {},
   "source": [
    "##### Encoding Ordinal Categorical Features"
   ]
  },
  {
   "cell_type": "markdown",
   "id": "controlling-royal",
   "metadata": {},
   "source": [
    "##### Handling Imbalanced Classes With Downsampling"
   ]
  },
  {
   "cell_type": "markdown",
   "id": "needed-irish",
   "metadata": {},
   "source": [
    "##### Handling Imbalanced Classes With Upsampling"
   ]
  },
  {
   "cell_type": "markdown",
   "id": "white-sweet",
   "metadata": {},
   "source": [
    "##### Handling Outliers"
   ]
  },
  {
   "cell_type": "markdown",
   "id": "monetary-reservoir",
   "metadata": {},
   "source": [
    "##### Impute Missing Values With Means"
   ]
  },
  {
   "cell_type": "markdown",
   "id": "fabulous-therapy",
   "metadata": {},
   "source": [
    "##### Imputing Missing Class Labels"
   ]
  },
  {
   "cell_type": "markdown",
   "id": "hired-journalism",
   "metadata": {},
   "source": [
    "##### Imputing Missing Class Labels Using k-Nearest Neighbors"
   ]
  },
  {
   "cell_type": "markdown",
   "id": "suffering-belarus",
   "metadata": {},
   "source": [
    "##### Normalizing Observations"
   ]
  },
  {
   "cell_type": "markdown",
   "id": "indirect-polls",
   "metadata": {},
   "source": [
    "##### One-Hot Encode Features With Multiple Labels"
   ]
  },
  {
   "cell_type": "markdown",
   "id": "featured-jacob",
   "metadata": {},
   "source": [
    "##### One-Hot Encode Nominal Categorical Features"
   ]
  },
  {
   "cell_type": "markdown",
   "id": "incident-fiber",
   "metadata": {},
   "source": [
    "##### Preprocessing Categorical Features"
   ]
  },
  {
   "cell_type": "markdown",
   "id": "promising-organ",
   "metadata": {},
   "source": [
    "##### Preprocessing Iris Data"
   ]
  },
  {
   "cell_type": "markdown",
   "id": "israeli-lying",
   "metadata": {},
   "source": [
    "##### Rescale A Feature"
   ]
  },
  {
   "cell_type": "markdown",
   "id": "municipal-subsection",
   "metadata": {},
   "source": [
    "##### Standardize A Feature"
   ]
  },
  {
   "cell_type": "markdown",
   "id": "steady-tours",
   "metadata": {
    "heading_collapsed": "true",
    "tags": []
   },
   "source": [
    "#### Preprocessing Images"
   ]
  },
  {
   "cell_type": "markdown",
   "id": "going-realtor",
   "metadata": {},
   "source": [
    "- Binarize Images\n",
    "- Blurring Images\n",
    "- Cropping Images\n",
    "- Detect Edges\n",
    "- Enhance Contrast Of Color Image\n",
    "- Enhance Contrast Of Greyscale Image\n",
    "- Harris Corner Detector\n",
    "- Installing OpenCV\n",
    "- Isolate Colors\n",
    "- Load Images\n",
    "- Remove Backgrounds\n",
    "- Save Images\n",
    "- Sharpen Images\n",
    "- Shi-Tomasi Corner Detector\n",
    "- Using Mean Color As A Feature"
   ]
  },
  {
   "cell_type": "markdown",
   "id": "environmental-memory",
   "metadata": {},
   "source": [
    "##### Binarize Images"
   ]
  },
  {
   "cell_type": "markdown",
   "id": "regular-spoke",
   "metadata": {},
   "source": [
    "##### Blurring Images"
   ]
  },
  {
   "cell_type": "markdown",
   "id": "referenced-logan",
   "metadata": {},
   "source": [
    "##### Cropping Images"
   ]
  },
  {
   "cell_type": "markdown",
   "id": "golden-scratch",
   "metadata": {},
   "source": [
    "##### Detect Edges"
   ]
  },
  {
   "cell_type": "markdown",
   "id": "established-regard",
   "metadata": {},
   "source": [
    "##### Enhance Contrast Of Color Image"
   ]
  },
  {
   "cell_type": "markdown",
   "id": "cathedral-narrative",
   "metadata": {},
   "source": [
    "##### Enhance Contrast Of Greyscale Image"
   ]
  },
  {
   "cell_type": "markdown",
   "id": "going-reform",
   "metadata": {},
   "source": [
    "##### Harris Corner Detector"
   ]
  },
  {
   "cell_type": "markdown",
   "id": "fundamental-latex",
   "metadata": {},
   "source": [
    "##### Installing OpenCV"
   ]
  },
  {
   "cell_type": "markdown",
   "id": "funky-horse",
   "metadata": {},
   "source": [
    "##### Isolate Colors"
   ]
  },
  {
   "cell_type": "markdown",
   "id": "separate-racing",
   "metadata": {},
   "source": [
    "##### Load Images"
   ]
  },
  {
   "cell_type": "markdown",
   "id": "brave-trade",
   "metadata": {},
   "source": [
    "##### Remove Backgrounds"
   ]
  },
  {
   "cell_type": "markdown",
   "id": "therapeutic-voltage",
   "metadata": {},
   "source": [
    "##### Save Images"
   ]
  },
  {
   "cell_type": "markdown",
   "id": "filled-defendant",
   "metadata": {},
   "source": [
    "##### Sharpen Images"
   ]
  },
  {
   "cell_type": "markdown",
   "id": "arranged-donor",
   "metadata": {},
   "source": [
    "##### Shi-Tomasi Corner Detector"
   ]
  },
  {
   "cell_type": "markdown",
   "id": "broken-diabetes",
   "metadata": {},
   "source": [
    "##### Using Mean Color As A Feature"
   ]
  },
  {
   "cell_type": "markdown",
   "id": "celtic-morgan",
   "metadata": {
    "heading_collapsed": "true",
    "tags": []
   },
   "source": [
    "#### Preprocessing Text"
   ]
  },
  {
   "cell_type": "markdown",
   "id": "organizational-validation",
   "metadata": {},
   "source": [
    "- Bag Of Words\n",
    "- Parse HTML\n",
    "- Remove Punctuation\n",
    "- Remove Stop Words\n",
    "- Replace Characters\n",
    "- Stemming Words\n",
    "- Strip Whitespace\n",
    "- Tag Parts Of Speech\n",
    "- Term Frequency Inverse Document Frequency\n",
    "- Tokenize Text"
   ]
  },
  {
   "cell_type": "markdown",
   "id": "floral-opposition",
   "metadata": {},
   "source": [
    "##### Bag Of Words"
   ]
  },
  {
   "cell_type": "markdown",
   "id": "pointed-magnet",
   "metadata": {},
   "source": [
    "##### Parse HTML"
   ]
  },
  {
   "cell_type": "markdown",
   "id": "finite-wright",
   "metadata": {},
   "source": [
    "##### Remove Punctuation"
   ]
  },
  {
   "cell_type": "markdown",
   "id": "focused-mount",
   "metadata": {},
   "source": [
    "##### Remove Stop Words"
   ]
  },
  {
   "cell_type": "markdown",
   "id": "veterinary-preference",
   "metadata": {},
   "source": [
    "##### Replace Characters"
   ]
  },
  {
   "cell_type": "markdown",
   "id": "focal-joint",
   "metadata": {},
   "source": [
    "##### Stemming Words"
   ]
  },
  {
   "cell_type": "markdown",
   "id": "stainless-butler",
   "metadata": {},
   "source": [
    "##### Strip Whitespace"
   ]
  },
  {
   "cell_type": "markdown",
   "id": "documented-samoa",
   "metadata": {},
   "source": [
    "##### Tag Parts Of Speech"
   ]
  },
  {
   "cell_type": "markdown",
   "id": "least-plumbing",
   "metadata": {},
   "source": [
    "##### Term Frequency Inverse Document Frequency"
   ]
  },
  {
   "cell_type": "markdown",
   "id": "alive-belly",
   "metadata": {},
   "source": [
    "##### Tokenize Text"
   ]
  },
  {
   "cell_type": "markdown",
   "id": "straight-satellite",
   "metadata": {
    "heading_collapsed": "true",
    "tags": []
   },
   "source": [
    "#### Preprocessing Dates and Times"
   ]
  },
  {
   "cell_type": "markdown",
   "id": "standing-bacteria",
   "metadata": {},
   "source": [
    "- Break Up Dates And Times Into Multiple Features\n",
    "- Calculate Difference Between Dates And Times\n",
    "- Convert pandas Columns Time Zone\n",
    "- Convert Strings To Dates\n",
    "- Encode Days Of The Week\n",
    "- Handling Missing Values In Time Series\n",
    "- Handling Time Zones\n",
    "- Lag A Time Feature\n",
    "- Rolling Time Window\n",
    "- Select Date And Time Ranges"
   ]
  },
  {
   "cell_type": "markdown",
   "id": "informal-layer",
   "metadata": {},
   "source": [
    "##### Break Up Dates And Times Into Multiple Features"
   ]
  },
  {
   "cell_type": "markdown",
   "id": "assisted-foundation",
   "metadata": {},
   "source": [
    "##### Calculate Difference Between Dates And Times"
   ]
  },
  {
   "cell_type": "markdown",
   "id": "consistent-brook",
   "metadata": {},
   "source": [
    "##### Convert pandas Columns Time Zone"
   ]
  },
  {
   "cell_type": "markdown",
   "id": "indoor-evidence",
   "metadata": {},
   "source": [
    "##### Convert Strings To Dates"
   ]
  },
  {
   "cell_type": "markdown",
   "id": "royal-audio",
   "metadata": {},
   "source": [
    "##### Encode Days Of The Week"
   ]
  },
  {
   "cell_type": "markdown",
   "id": "absent-amsterdam",
   "metadata": {},
   "source": [
    "##### Handling Missing Values In Time Series"
   ]
  },
  {
   "cell_type": "markdown",
   "id": "fallen-attraction",
   "metadata": {},
   "source": [
    "##### Handling Time Zones"
   ]
  },
  {
   "cell_type": "markdown",
   "id": "geographic-kitchen",
   "metadata": {},
   "source": [
    "##### Lag A Time Feature"
   ]
  },
  {
   "cell_type": "markdown",
   "id": "civil-degree",
   "metadata": {},
   "source": [
    "##### Rolling Time Window"
   ]
  },
  {
   "cell_type": "markdown",
   "id": "optical-california",
   "metadata": {},
   "source": [
    "##### Select Date And Time Ranges"
   ]
  },
  {
   "cell_type": "markdown",
   "id": "infinite-spine",
   "metadata": {
    "heading_collapsed": "true",
    "tags": []
   },
   "source": [
    "#### Feature Engineering"
   ]
  },
  {
   "cell_type": "markdown",
   "id": "minus-destination",
   "metadata": {},
   "source": [
    "- Dimensionality Reduction On Sparse Feature Matrix\n",
    "- Dimensionality Reduction With Kernel PCA\n",
    "- Dimensionality Reduction With PCA\n",
    "- Feature Extraction With PCA\n",
    "- Group Observations Using K-Means Clustering\n",
    "- Selecting The Best Number Of Components For LDA\n",
    "- Selecting The Best Number Of Components For TSVD\n",
    "- Using Linear Discriminant Analysis For Dimensionality Reduction"
   ]
  },
  {
   "cell_type": "markdown",
   "id": "located-determination",
   "metadata": {},
   "source": [
    "##### Dimensionality Reduction On Sparse Feature Matrix"
   ]
  },
  {
   "cell_type": "markdown",
   "id": "fourth-matthew",
   "metadata": {},
   "source": [
    "##### Dimensionality Reduction With Kernel PCA"
   ]
  },
  {
   "cell_type": "markdown",
   "id": "clean-warehouse",
   "metadata": {},
   "source": [
    "##### Dimensionality Reduction With PCA"
   ]
  },
  {
   "cell_type": "markdown",
   "id": "continuing-likelihood",
   "metadata": {},
   "source": [
    "##### Feature Extraction With PCA"
   ]
  },
  {
   "cell_type": "markdown",
   "id": "imperial-repository",
   "metadata": {},
   "source": [
    "##### Group Observations Using K-Means Clustering"
   ]
  },
  {
   "cell_type": "markdown",
   "id": "mysterious-yugoslavia",
   "metadata": {},
   "source": [
    "##### Selecting The Best Number Of Components For LDA"
   ]
  },
  {
   "cell_type": "markdown",
   "id": "unable-biology",
   "metadata": {},
   "source": [
    "##### Selecting The Best Number Of Components For TSVD"
   ]
  },
  {
   "cell_type": "markdown",
   "id": "hindu-douglas",
   "metadata": {},
   "source": [
    "##### Using Linear Discriminant Analysis For Dimensionality Reduction"
   ]
  },
  {
   "cell_type": "markdown",
   "id": "flexible-banking",
   "metadata": {
    "heading_collapsed": "true",
    "tags": []
   },
   "source": [
    "#### Feature Selection"
   ]
  },
  {
   "cell_type": "markdown",
   "id": "understanding-theorem",
   "metadata": {},
   "source": [
    "- ANOVA F-value For Feature Selection\n",
    "- Chi-Squared For Feature Selection\n",
    "- Drop Highly Correlated Features\n",
    "- Recursive Feature Elimination\n",
    "- Variance Thresholding Binary Features\n",
    "- Variance Thresholding For Feature Selection"
   ]
  },
  {
   "cell_type": "markdown",
   "id": "republican-kingdom",
   "metadata": {},
   "source": [
    "##### ANOVA F-value For Feature Selection"
   ]
  },
  {
   "cell_type": "markdown",
   "id": "closed-vancouver",
   "metadata": {},
   "source": [
    "##### Chi-Squared For Feature Selection"
   ]
  },
  {
   "cell_type": "markdown",
   "id": "seven-logic",
   "metadata": {},
   "source": [
    "##### Drop Highly Correlated Features"
   ]
  },
  {
   "cell_type": "markdown",
   "id": "horizontal-hierarchy",
   "metadata": {},
   "source": [
    "##### Recursive Feature Elimination"
   ]
  },
  {
   "cell_type": "markdown",
   "id": "incident-parts",
   "metadata": {},
   "source": [
    "##### Variance Thresholding Binary Features"
   ]
  },
  {
   "cell_type": "markdown",
   "id": "israeli-savage",
   "metadata": {},
   "source": [
    "##### Variance Thresholding For Feature Selection"
   ]
  },
  {
   "cell_type": "markdown",
   "id": "unlike-lloyd",
   "metadata": {
    "heading_collapsed": "true",
    "tags": []
   },
   "source": [
    "#### Model Evaluation"
   ]
  },
  {
   "cell_type": "markdown",
   "id": "compound-jimmy",
   "metadata": {},
   "source": [
    "- Accuracy\n",
    "- Create Baseline Classification Model\n",
    "- Create Baseline Regression Model\n",
    "- Cross Validation Pipeline\n",
    "- Cross Validation With Parameter Tuning Using Grid Search\n",
    "- Cross-Validation\n",
    "- Custom Performance Metric\n",
    "- F1 Score\n",
    "- Generate Text Reports On Performance\n",
    "- Nested Cross Validation\n",
    "- Plot The Learning Curve\n",
    "- Plot The Receiving Operating Characteristic Curve\n",
    "- Plot The Validation Curve\n",
    "- Precision\n",
    "- Recall\n",
    "- Split Data Into Training And Test Sets"
   ]
  },
  {
   "cell_type": "markdown",
   "id": "foreign-administration",
   "metadata": {},
   "source": [
    "##### Accuracy"
   ]
  },
  {
   "cell_type": "markdown",
   "id": "outer-alloy",
   "metadata": {},
   "source": [
    "##### Create Baseline Classification Model"
   ]
  },
  {
   "cell_type": "markdown",
   "id": "handy-mainstream",
   "metadata": {},
   "source": [
    "##### Create Baseline Regression Model"
   ]
  },
  {
   "cell_type": "markdown",
   "id": "forced-position",
   "metadata": {},
   "source": [
    "##### Cross Validation Pipeline"
   ]
  },
  {
   "cell_type": "markdown",
   "id": "recorded-aggregate",
   "metadata": {},
   "source": [
    "##### Cross Validation With Parameter Tuning Using Grid Search"
   ]
  },
  {
   "cell_type": "markdown",
   "id": "friendly-pension",
   "metadata": {},
   "source": [
    "##### Cross-Validation"
   ]
  },
  {
   "cell_type": "markdown",
   "id": "labeled-stand",
   "metadata": {},
   "source": [
    "##### Custom Performance Metric"
   ]
  },
  {
   "cell_type": "markdown",
   "id": "dominican-grace",
   "metadata": {},
   "source": [
    "##### F1 Score"
   ]
  },
  {
   "cell_type": "markdown",
   "id": "arabic-restaurant",
   "metadata": {},
   "source": [
    "##### Generate Text Reports On Performance"
   ]
  },
  {
   "cell_type": "markdown",
   "id": "million-visiting",
   "metadata": {},
   "source": [
    "##### Nested Cross Validation"
   ]
  },
  {
   "cell_type": "markdown",
   "id": "future-deviation",
   "metadata": {},
   "source": [
    "##### Plot The Learning Curve"
   ]
  },
  {
   "cell_type": "markdown",
   "id": "south-mouse",
   "metadata": {},
   "source": [
    "##### Plot The Receiving Operating Characteristic Curve"
   ]
  },
  {
   "cell_type": "markdown",
   "id": "consecutive-milan",
   "metadata": {},
   "source": [
    "##### Plot The Validation Curve"
   ]
  },
  {
   "cell_type": "markdown",
   "id": "cloudy-baseball",
   "metadata": {},
   "source": [
    "##### Precision"
   ]
  },
  {
   "cell_type": "markdown",
   "id": "handy-coach",
   "metadata": {},
   "source": [
    "##### Recall"
   ]
  },
  {
   "cell_type": "markdown",
   "id": "responsible-trance",
   "metadata": {},
   "source": [
    "##### Split Data Into Training And Test Sets"
   ]
  },
  {
   "cell_type": "markdown",
   "id": "extensive-recruitment",
   "metadata": {
    "heading_collapsed": "true",
    "tags": []
   },
   "source": [
    "#### Model Selection"
   ]
  },
  {
   "cell_type": "markdown",
   "id": "anticipated-tactics",
   "metadata": {},
   "source": [
    "- Find Best Preprocessing Steps During Model Selection\n",
    "- Hyperparameter Tuning Using Grid Search\n",
    "- Hyperparameter Tuning Using Random Search\n",
    "- Model Selection Using Grid Search\n",
    "- Pipelines With Parameter Optimization"
   ]
  },
  {
   "cell_type": "markdown",
   "id": "offensive-crime",
   "metadata": {},
   "source": [
    "##### Find Best Preprocessing Steps During Model Selection"
   ]
  },
  {
   "cell_type": "markdown",
   "id": "cubic-italic",
   "metadata": {},
   "source": [
    "##### Hyperparameter Tuning Using Grid Search"
   ]
  },
  {
   "cell_type": "markdown",
   "id": "accepting-discipline",
   "metadata": {},
   "source": [
    "##### Hyperparameter Tuning Using Random Search"
   ]
  },
  {
   "cell_type": "markdown",
   "id": "swedish-bryan",
   "metadata": {},
   "source": [
    "##### Model Selection Using Grid Search"
   ]
  },
  {
   "cell_type": "markdown",
   "id": "cooked-entity",
   "metadata": {},
   "source": [
    "##### Pipelines With Parameter Optimization"
   ]
  },
  {
   "cell_type": "markdown",
   "id": "educational-blackjack",
   "metadata": {
    "heading_collapsed": "true",
    "tags": []
   },
   "source": [
    "#### Linear Regression"
   ]
  },
  {
   "cell_type": "markdown",
   "id": "modular-consultation",
   "metadata": {},
   "source": [
    "- Adding Interaction Terms\n",
    "- Create Interaction Features\n",
    "- Effect Of Alpha On Lasso Regression\n",
    "- Lasso Regression\n",
    "- Linear Regression\n",
    "- Linear Regression Using Scikit-Learn\n",
    "- Ridge Regression\n",
    "- Selecting The Best Alpha Value In Ridge Regression"
   ]
  },
  {
   "cell_type": "markdown",
   "id": "equipped-firmware",
   "metadata": {},
   "source": [
    "##### Adding Interaction Terms"
   ]
  },
  {
   "cell_type": "markdown",
   "id": "continuous-territory",
   "metadata": {},
   "source": [
    "##### Create Interaction Features"
   ]
  },
  {
   "cell_type": "markdown",
   "id": "conservative-intranet",
   "metadata": {},
   "source": [
    "##### Effect Of Alpha On Lasso Regression"
   ]
  },
  {
   "cell_type": "markdown",
   "id": "honey-dallas",
   "metadata": {},
   "source": [
    "##### Lasso Regression"
   ]
  },
  {
   "cell_type": "markdown",
   "id": "undefined-things",
   "metadata": {},
   "source": [
    "##### Linear Regression"
   ]
  },
  {
   "cell_type": "markdown",
   "id": "bearing-booking",
   "metadata": {},
   "source": [
    "##### Linear Regression Using Scikit-Learn"
   ]
  },
  {
   "cell_type": "markdown",
   "id": "celtic-skirt",
   "metadata": {},
   "source": [
    "##### Ridge Regression"
   ]
  },
  {
   "cell_type": "markdown",
   "id": "common-minimum",
   "metadata": {},
   "source": [
    "##### Selecting The Best Alpha Value In Ridge Regression"
   ]
  },
  {
   "cell_type": "markdown",
   "id": "immune-camera",
   "metadata": {
    "heading_collapsed": "true",
    "tags": []
   },
   "source": [
    "#### Logistic Regression"
   ]
  },
  {
   "cell_type": "markdown",
   "id": "valid-express",
   "metadata": {},
   "source": [
    "- Fast C Hyperparameter Tuning\n",
    "- Handling Imbalanced Classes In Logistic Regression\n",
    "- Logistic Regression\n",
    "- Logistic Regression On Very Large Data\n",
    "- Logistic Regression With L1 Regularization\n",
    "- One Vs. Rest Logistic Regression"
   ]
  },
  {
   "cell_type": "markdown",
   "id": "empirical-camel",
   "metadata": {},
   "source": [
    "##### Fast C Hyperparameter Tuning"
   ]
  },
  {
   "cell_type": "markdown",
   "id": "minute-missile",
   "metadata": {},
   "source": [
    "##### Handling Imbalanced Classes In Logistic Regression"
   ]
  },
  {
   "cell_type": "markdown",
   "id": "simple-plane",
   "metadata": {},
   "source": [
    "##### Logistic Regression"
   ]
  },
  {
   "cell_type": "markdown",
   "id": "italic-fever",
   "metadata": {},
   "source": [
    "##### Logistic Regression On Very Large Data"
   ]
  },
  {
   "cell_type": "markdown",
   "id": "removed-moment",
   "metadata": {},
   "source": [
    "##### Logistic Regression With L1 Regularization"
   ]
  },
  {
   "cell_type": "markdown",
   "id": "outside-rates",
   "metadata": {},
   "source": [
    "##### One Vs. Rest Logistic Regression"
   ]
  },
  {
   "cell_type": "markdown",
   "id": "distributed-making",
   "metadata": {
    "heading_collapsed": "true",
    "tags": []
   },
   "source": [
    "#### Trees and Forests"
   ]
  },
  {
   "cell_type": "markdown",
   "id": "personalized-beads",
   "metadata": {},
   "source": [
    "- Outlier Detection With Isolation Forests\n",
    "- Adaboost Classifier\n",
    "- Decision Tree Classifier\n",
    "- Decision Tree Regression\n",
    "- Feature Importance\n",
    "- Feature Selection Using Random Forest\n",
    "- Handle Imbalanced Classes In Random Forest\n",
    "- Random Forest Classifier\n",
    "- Random Forest Classifier Example\n",
    "- Random Forest Regression\n",
    "- Select Important Features In Random Forest\n",
    "- Titanic Competition With Random Forest\n",
    "- Visualize A Decision Tree"
   ]
  },
  {
   "cell_type": "markdown",
   "id": "motivated-nursing",
   "metadata": {},
   "source": [
    "##### Outlier Detection With Isolation Forests"
   ]
  },
  {
   "cell_type": "markdown",
   "id": "fluid-newcastle",
   "metadata": {},
   "source": [
    "##### Adaboost Classifier"
   ]
  },
  {
   "cell_type": "markdown",
   "id": "deluxe-anger",
   "metadata": {},
   "source": [
    "##### Decision Tree Classifier"
   ]
  },
  {
   "cell_type": "markdown",
   "id": "convenient-correspondence",
   "metadata": {},
   "source": [
    "##### Decision Tree Regression"
   ]
  },
  {
   "cell_type": "markdown",
   "id": "signal-laser",
   "metadata": {},
   "source": [
    "##### Feature Importance"
   ]
  },
  {
   "cell_type": "markdown",
   "id": "provincial-ribbon",
   "metadata": {},
   "source": [
    "##### Feature Selection Using Random Forest"
   ]
  },
  {
   "cell_type": "markdown",
   "id": "everyday-forum",
   "metadata": {},
   "source": [
    "##### Handle Imbalanced Classes In Random Forest"
   ]
  },
  {
   "cell_type": "markdown",
   "id": "figured-beach",
   "metadata": {},
   "source": [
    "##### Random Forest Classifier"
   ]
  },
  {
   "cell_type": "markdown",
   "id": "reduced-permission",
   "metadata": {},
   "source": [
    "##### Random Forest Classifier Example"
   ]
  },
  {
   "cell_type": "markdown",
   "id": "historical-primary",
   "metadata": {},
   "source": [
    "##### Random Forest Regression"
   ]
  },
  {
   "cell_type": "markdown",
   "id": "respiratory-mortality",
   "metadata": {},
   "source": [
    "##### Select Important Features In Random Forest"
   ]
  },
  {
   "cell_type": "markdown",
   "id": "cosmetic-azerbaijan",
   "metadata": {},
   "source": [
    "##### Titanic Competition With Random Forest"
   ]
  },
  {
   "cell_type": "markdown",
   "id": "important-australian",
   "metadata": {},
   "source": [
    "##### Visualize A Decision Tree"
   ]
  },
  {
   "cell_type": "markdown",
   "id": "difficult-failing",
   "metadata": {
    "heading_collapsed": "true",
    "tags": []
   },
   "source": [
    "#### Nearest Neighbors"
   ]
  },
  {
   "cell_type": "markdown",
   "id": "exact-robertson",
   "metadata": {},
   "source": [
    "- Identifying Best Value Of k\n",
    "- K-Nearest Neighbors Classification\n",
    "- Radius-Based Nearest Neighbor Classifier"
   ]
  },
  {
   "cell_type": "markdown",
   "id": "descending-ceremony",
   "metadata": {},
   "source": [
    "##### Identifying Best Value Of k"
   ]
  },
  {
   "cell_type": "markdown",
   "id": "perfect-reynolds",
   "metadata": {},
   "source": [
    "##### K-Nearest Neighbors Classification"
   ]
  },
  {
   "cell_type": "markdown",
   "id": "negative-tomato",
   "metadata": {},
   "source": [
    "##### Radius-Based Nearest Neighbor Classifier"
   ]
  },
  {
   "cell_type": "markdown",
   "id": "powerful-district",
   "metadata": {
    "heading_collapsed": "true",
    "tags": []
   },
   "source": [
    "#### Support Vector Machines"
   ]
  },
  {
   "cell_type": "markdown",
   "id": "introductory-lindsay",
   "metadata": {},
   "source": [
    "- Calibrate Predicted Probabilities In SVC\n",
    "- Find Nearest Neighbors\n",
    "- Find Support Vectors\n",
    "- Imbalanced Classes In SVM\n",
    "- Plot The Support Vector Classifiers Hyperplane\n",
    "- Support Vector Classifier\n",
    "- SVC Parameters When Using RBF Kernel"
   ]
  },
  {
   "cell_type": "markdown",
   "id": "atlantic-crossing",
   "metadata": {},
   "source": [
    "##### Calibrate Predicted Probabilities In SVC"
   ]
  },
  {
   "cell_type": "markdown",
   "id": "grave-reggae",
   "metadata": {},
   "source": [
    "##### Find Nearest Neighbors"
   ]
  },
  {
   "cell_type": "markdown",
   "id": "accepting-electricity",
   "metadata": {},
   "source": [
    "##### Find Support Vectors"
   ]
  },
  {
   "cell_type": "markdown",
   "id": "tested-folder",
   "metadata": {},
   "source": [
    "##### Imbalanced Classes In SVM"
   ]
  },
  {
   "cell_type": "markdown",
   "id": "narrative-casino",
   "metadata": {},
   "source": [
    "##### Plot The Support Vector Classifiers Hyperplane"
   ]
  },
  {
   "cell_type": "markdown",
   "id": "dying-ghost",
   "metadata": {},
   "source": [
    "##### Support Vector Classifier"
   ]
  },
  {
   "cell_type": "markdown",
   "id": "pursuant-character",
   "metadata": {},
   "source": [
    "##### SVC Parameters When Using RBF Kernel"
   ]
  },
  {
   "cell_type": "markdown",
   "id": "future-division",
   "metadata": {
    "heading_collapsed": "true",
    "tags": []
   },
   "source": [
    "#### Naive Bayes"
   ]
  },
  {
   "cell_type": "markdown",
   "id": "tender-showcase",
   "metadata": {},
   "source": [
    "- Bernoulli Naive Bayes Classifier\n",
    "- Calibrate Predicted Probabilities\n",
    "- Gaussian Naive Bayes Classifier\n",
    "- Multinomial Logistic Regression\n",
    "- Multinomial Naive Bayes Classifier\n",
    "- Naive Bayes Classifier From Scratch"
   ]
  },
  {
   "cell_type": "markdown",
   "id": "explicit-surname",
   "metadata": {},
   "source": [
    "##### Bernoulli Naive Bayes Classifier"
   ]
  },
  {
   "cell_type": "markdown",
   "id": "collectible-clone",
   "metadata": {},
   "source": [
    "##### Calibrate Predicted Probabilities"
   ]
  },
  {
   "cell_type": "markdown",
   "id": "peripheral-person",
   "metadata": {},
   "source": [
    "##### Gaussian Naive Bayes Classifier"
   ]
  },
  {
   "cell_type": "markdown",
   "id": "going-treatment",
   "metadata": {},
   "source": [
    "##### Multinomial Logistic Regression"
   ]
  },
  {
   "cell_type": "markdown",
   "id": "impossible-consciousness",
   "metadata": {},
   "source": [
    "##### Multinomial Naive Bayes Classifier"
   ]
  },
  {
   "cell_type": "markdown",
   "id": "stunning-scholar",
   "metadata": {},
   "source": [
    "##### Naive Bayes Classifier From Scratch"
   ]
  },
  {
   "cell_type": "markdown",
   "id": "plastic-armenia",
   "metadata": {
    "heading_collapsed": "true",
    "tags": []
   },
   "source": [
    "#### Clustering"
   ]
  },
  {
   "cell_type": "markdown",
   "id": "pressing-posting",
   "metadata": {},
   "source": [
    "- Agglomerative Clustering\n",
    "- DBSCAN Clustering\n",
    "- Evaluating Clustering\n",
    "- k-Means Clustering\n",
    "- Meanshift Clustering\n",
    "- Mini-Batch k-Means Clustering"
   ]
  },
  {
   "cell_type": "markdown",
   "id": "exceptional-access",
   "metadata": {},
   "source": [
    "##### Agglomerative Clustering"
   ]
  },
  {
   "cell_type": "markdown",
   "id": "prescription-victim",
   "metadata": {},
   "source": [
    "##### DBSCAN Clustering"
   ]
  },
  {
   "cell_type": "markdown",
   "id": "shared-burning",
   "metadata": {},
   "source": [
    "##### Evaluating Clustering"
   ]
  },
  {
   "cell_type": "markdown",
   "id": "organizational-sympathy",
   "metadata": {},
   "source": [
    "##### k-Means Clustering"
   ]
  },
  {
   "cell_type": "markdown",
   "id": "exact-thread",
   "metadata": {},
   "source": [
    "##### Meanshift Clustering"
   ]
  },
  {
   "cell_type": "markdown",
   "id": "iraqi-shopping",
   "metadata": {},
   "source": [
    "##### Mini-Batch k-Means Clustering"
   ]
  },
  {
   "cell_type": "markdown",
   "id": "proof-shade",
   "metadata": {
    "heading_collapsed": "true",
    "tags": []
   },
   "source": [
    "### Deep Learning"
   ]
  },
  {
   "cell_type": "markdown",
   "id": "atmospheric-schema",
   "metadata": {
    "heading_collapsed": "true",
    "tags": []
   },
   "source": [
    "#### Setup"
   ]
  },
  {
   "cell_type": "markdown",
   "id": "sealed-defeat",
   "metadata": {},
   "source": [
    "- Prevent Ubuntu 18.06 And Nvidia Drivers From Updating"
   ]
  },
  {
   "cell_type": "markdown",
   "id": "small-therapist",
   "metadata": {},
   "source": [
    "##### Prevent Ubuntu 18.06 And Nvidia Drivers From Updating"
   ]
  },
  {
   "cell_type": "markdown",
   "id": "ambient-mistake",
   "metadata": {
    "heading_collapsed": "true",
    "tags": []
   },
   "source": [
    "#### Keras"
   ]
  },
  {
   "cell_type": "markdown",
   "id": "compliant-wallpaper",
   "metadata": {},
   "source": [
    "- Adding Dropout\n",
    "- Convolutional Neural Network\n",
    "- Feedforward Neural Network For Binary Classification\n",
    "- Feedforward Neural Network For Multiclass Classification\n",
    "- Feedforward Neural Networks For Regression\n",
    "- k-Fold Cross-Validating Neural Networks\n",
    "- LSTM Recurrent Neural Network\n",
    "- Neural Network Early Stopping\n",
    "- Neural Network Weight Regularization\n",
    "- Preprocessing Data For Neural Networks\n",
    "- Save Model Training Progress\n",
    "- Tuning Neural Network Hyperparameters\n",
    "- Visualize Loss History\n",
    "- Visualize Neural Network Architecutre\n",
    "- Visualize Performance History"
   ]
  },
  {
   "cell_type": "markdown",
   "id": "alive-interest",
   "metadata": {},
   "source": [
    "##### Adding Dropout"
   ]
  },
  {
   "cell_type": "markdown",
   "id": "bound-division",
   "metadata": {},
   "source": [
    "##### Convolutional Neural Network"
   ]
  },
  {
   "cell_type": "markdown",
   "id": "trying-heavy",
   "metadata": {},
   "source": [
    "##### Feedforward Neural Network For Binary Classification"
   ]
  },
  {
   "cell_type": "markdown",
   "id": "parallel-murray",
   "metadata": {},
   "source": [
    "##### Feedforward Neural Network For Multiclass Classification"
   ]
  },
  {
   "cell_type": "markdown",
   "id": "south-doubt",
   "metadata": {},
   "source": [
    "##### Feedforward Neural Networks For Regression"
   ]
  },
  {
   "cell_type": "markdown",
   "id": "preliminary-country",
   "metadata": {},
   "source": [
    "##### k-Fold Cross-Validating Neural Networks"
   ]
  },
  {
   "cell_type": "markdown",
   "id": "mathematical-davis",
   "metadata": {},
   "source": [
    "##### LSTM Recurrent Neural Network"
   ]
  },
  {
   "cell_type": "markdown",
   "id": "declared-crawford",
   "metadata": {},
   "source": [
    "##### Neural Network Early Stopping"
   ]
  },
  {
   "cell_type": "markdown",
   "id": "recent-greene",
   "metadata": {},
   "source": [
    "##### Neural Network Weight Regularization"
   ]
  },
  {
   "cell_type": "markdown",
   "id": "alleged-macintosh",
   "metadata": {},
   "source": [
    "##### Preprocessing Data For Neural Networks"
   ]
  },
  {
   "cell_type": "markdown",
   "id": "filled-bidder",
   "metadata": {},
   "source": [
    "##### Save Model Training Progress"
   ]
  },
  {
   "cell_type": "markdown",
   "id": "decimal-switzerland",
   "metadata": {},
   "source": [
    "##### Tuning Neural Network Hyperparameters"
   ]
  },
  {
   "cell_type": "markdown",
   "id": "bottom-adjustment",
   "metadata": {},
   "source": [
    "##### Visualize Loss History"
   ]
  },
  {
   "cell_type": "markdown",
   "id": "simplified-authority",
   "metadata": {},
   "source": [
    "##### Visualize Neural Network Architecutre"
   ]
  },
  {
   "cell_type": "markdown",
   "id": "married-fourth",
   "metadata": {},
   "source": [
    "##### Visualize Performance History"
   ]
  },
  {
   "cell_type": "markdown",
   "id": "curious-carol",
   "metadata": {
    "tags": []
   },
   "source": [
    "#### PyTorch"
   ]
  },
  {
   "cell_type": "markdown",
   "id": "aerial-cartridge",
   "metadata": {},
   "source": [
    "- Check If PyTorch Is Using The GPU"
   ]
  },
  {
   "cell_type": "markdown",
   "id": "alpha-yeast",
   "metadata": {},
   "source": [
    "##### Check If PyTorch Is Using The GPU"
   ]
  },
  {
   "cell_type": "markdown",
   "id": "swedish-pharmaceutical",
   "metadata": {
    "heading_collapsed": "true",
    "tags": []
   },
   "source": [
    "### Statistics"
   ]
  },
  {
   "cell_type": "markdown",
   "id": "detailed-better",
   "metadata": {
    "heading_collapsed": "true",
    "tags": []
   },
   "source": [
    "#### Basics"
   ]
  },
  {
   "cell_type": "markdown",
   "id": "curious-athletics",
   "metadata": {},
   "source": [
    "- Linear Interpolation\n",
    "- Trimmed Mean"
   ]
  },
  {
   "cell_type": "markdown",
   "id": "elect-caribbean",
   "metadata": {},
   "source": [
    "##### Linear Interpolation\n"
   ]
  },
  {
   "cell_type": "markdown",
   "id": "fifteen-westminster",
   "metadata": {},
   "source": [
    "##### Trimmed Mean"
   ]
  },
  {
   "cell_type": "markdown",
   "id": "beneficial-staff",
   "metadata": {
    "heading_collapsed": "true",
    "tags": []
   },
   "source": [
    "#### Frequentist"
   ]
  },
  {
   "cell_type": "markdown",
   "id": "mobile-uncle",
   "metadata": {},
   "source": [
    "- Bessels Correction\n",
    "- Demonstrate The Central Limit Theorem\n",
    "- Pearsons Correlation Coefficient\n",
    "- Probability Mass Functions\n",
    "- Spearmans Rank Correlation\n",
    "- T-Tests\n",
    "- Variance And Standard Deviation"
   ]
  },
  {
   "cell_type": "markdown",
   "id": "formed-trademark",
   "metadata": {},
   "source": [
    "##### Bessels Correction"
   ]
  },
  {
   "cell_type": "markdown",
   "id": "choice-meeting",
   "metadata": {},
   "source": [
    "##### Demonstrate The Central Limit Theorem"
   ]
  },
  {
   "cell_type": "markdown",
   "id": "dependent-assistant",
   "metadata": {},
   "source": [
    "##### Pearsons Correlation Coefficient"
   ]
  },
  {
   "cell_type": "markdown",
   "id": "binary-visibility",
   "metadata": {},
   "source": [
    "##### Probability Mass Functions"
   ]
  },
  {
   "cell_type": "markdown",
   "id": "happy-offense",
   "metadata": {},
   "source": [
    "##### Spearmans Rank Correlation"
   ]
  },
  {
   "cell_type": "markdown",
   "id": "labeled-james",
   "metadata": {},
   "source": [
    "##### T-Tests"
   ]
  },
  {
   "cell_type": "markdown",
   "id": "designed-defense",
   "metadata": {},
   "source": [
    "##### Variance And Standard Deviation"
   ]
  },
  {
   "cell_type": "markdown",
   "id": "micro-india",
   "metadata": {
    "heading_collapsed": "true",
    "tags": []
   },
   "source": [
    "### Mathematics"
   ]
  },
  {
   "cell_type": "markdown",
   "id": "noticed-ribbon",
   "metadata": {},
   "source": [
    "- argmin and argmax "
   ]
  },
  {
   "cell_type": "markdown",
   "id": "respected-documentary",
   "metadata": {
    "heading_collapsed": "true",
    "tags": []
   },
   "source": [
    "##### argmin and argmax "
   ]
  },
  {
   "cell_type": "markdown",
   "id": "limited-comparison",
   "metadata": {
    "heading_collapsed": "true",
    "tags": []
   },
   "source": [
    "## Programming"
   ]
  },
  {
   "cell_type": "markdown",
   "id": "popular-rabbit",
   "metadata": {
    "heading_collapsed": "true",
    "tags": []
   },
   "source": [
    "### Python"
   ]
  },
  {
   "cell_type": "markdown",
   "id": "acquired-content",
   "metadata": {
    "heading_collapsed": "true",
    "tags": []
   },
   "source": [
    "#### Basics"
   ]
  },
  {
   "cell_type": "markdown",
   "id": "traditional-equation",
   "metadata": {},
   "source": [
    "- Add Padding Around String\n",
    "- All Combinations For A List Of Objects\n",
    "- any(), all(), max(), min(), sum()\n",
    "- Append Using The Operator\n",
    "- Apply Operations Over Items In A List\n",
    "- Applying Functions To List Items\n",
    "- Arithmetic Basics\n",
    "- Assignment Operators\n",
    "- Basic Operations With NumPy Array\n",
    "- Breaking Up String Variables\n",
    "- Brute Force D20 Roll Simulator\n",
    "- Cartesian Product\n",
    "- Chain Together Lists\n",
    "- Cleaning Text\n",
    "- Compare Two Dictionaries\n",
    "- Concurrent Processing\n",
    "- Continue And Break Loops\n",
    "- Convert HTML Characters To Strings\n",
    "- Converting Strings To Datetime\n",
    "- Create A New File Then Write To It\n",
    "- Create A Temporary File\n",
    "- Data Structure Basics\n",
    "- Date And Time Basics\n",
    "- Dictionary Basics\n",
    "- Display JSON\n",
    "- Display Scientific Notation As Floats\n",
    "- Exiting A Loop\n",
    "- Find The Max Value In A Dictionary\n",
    "- Flatten Lists Of Lists\n",
    "- For Loop\n",
    "- Formatting Numbers\n",
    "- Function Annotation Examples\n",
    "- Function Basics\n",
    "- Function Example\n",
    "- Functions Vs. Generators\n",
    "- Generating Random Numbers With NumPy\n",
    "- Generator Expressions\n",
    "- Handling Long Lines Of Code\n",
    "- Hard Wrapping Text\n",
    "- How To Use Default Dicts\n",
    "- If and If Else\n",
    "- If Else On Any Or All Elements\n",
    "- Indexing And Slicing NumPy Arrays\n",
    "- Indexing And Slicing NumPy Arrays\n",
    "- Iterate An Ifelse Over A List\n",
    "- Iterate Over Multiple Lists Simultaneously\n",
    "- Iterating Over Dictionary Keys\n",
    "- Lambda Functions\n",
    "- List All Files Of Certain Type In A Directory\n",
    "- Logical Operations\n",
    "- Looping Over Two Lists\n",
    "- Mathematical Operations\n",
    "- Mocking Functions\n",
    "- Nested For Loops Using List Comprehension\n",
    "- Nesting Lists\n",
    "- Numpy Array Basics\n",
    "- Parallel Processing\n",
    "- Partial Function Applications\n",
    "- Priority Queues\n",
    "- Queues And Stacks\n",
    "- Recursive Functions\n",
    "- repr vs. str\n",
    "- Scheduling Jobs In The Future\n",
    "- Select Random Element From A List\n",
    "- Selecting Items In A List With Filters\n",
    "- Set The Color Of A Matplotlib Plot\n",
    "- Sort A List Of Names By Last Name\n",
    "- Sort A List Of Strings By Length\n",
    "- Store API Credentials For Open Source Projects\n",
    "- String Formatting\n",
    "- String Indexing\n",
    "- String Operations\n",
    "- Swapping Variable Values\n",
    "- Try, Except, and Finally\n",
    "- Tuples Vs. Named Tuples\n",
    "- Unpacking A Tuple\n",
    "- Unpacking Function Arguments\n",
    "- Use Command Line Arguments In A Function\n",
    "- Using Iterable As Function Arguments\n",
    "- Using Named Tuples To Store Data\n",
    "- while Statement "
   ]
  },
  {
   "cell_type": "markdown",
   "id": "broken-hypothetical",
   "metadata": {},
   "source": [
    "##### Add Padding Around String"
   ]
  },
  {
   "cell_type": "markdown",
   "id": "productive-logistics",
   "metadata": {},
   "source": [
    "##### All Combinations For A List Of Objects"
   ]
  },
  {
   "cell_type": "markdown",
   "id": "played-wrapping",
   "metadata": {},
   "source": [
    "##### any(), all(), max(), min(), sum()"
   ]
  },
  {
   "cell_type": "markdown",
   "id": "objective-county",
   "metadata": {},
   "source": [
    "##### Append Using The Operator"
   ]
  },
  {
   "cell_type": "markdown",
   "id": "former-integration",
   "metadata": {},
   "source": [
    "##### Apply Operations Over Items In A List "
   ]
  },
  {
   "cell_type": "markdown",
   "id": "cardiovascular-rwanda",
   "metadata": {},
   "source": [
    "##### Applying Functions To List Items"
   ]
  },
  {
   "cell_type": "markdown",
   "id": "assisted-brook",
   "metadata": {},
   "source": [
    "##### Arithmetic Basics"
   ]
  },
  {
   "cell_type": "markdown",
   "id": "understanding-lover",
   "metadata": {},
   "source": [
    "##### Assignment Operators"
   ]
  },
  {
   "cell_type": "markdown",
   "id": "valid-mayor",
   "metadata": {},
   "source": [
    "##### Basic Operations With NumPy Array"
   ]
  },
  {
   "cell_type": "markdown",
   "id": "leading-glasgow",
   "metadata": {},
   "source": [
    "##### Breaking Up String Variables"
   ]
  },
  {
   "cell_type": "markdown",
   "id": "lasting-senate",
   "metadata": {},
   "source": [
    "##### Brute Force D20 Roll Simulator"
   ]
  },
  {
   "cell_type": "markdown",
   "id": "accomplished-present",
   "metadata": {},
   "source": [
    "##### Cartesian Product"
   ]
  },
  {
   "cell_type": "markdown",
   "id": "liked-silly",
   "metadata": {},
   "source": [
    "##### Chain Together Lists"
   ]
  },
  {
   "cell_type": "markdown",
   "id": "conservative-occurrence",
   "metadata": {},
   "source": [
    "##### Cleaning Text"
   ]
  },
  {
   "cell_type": "markdown",
   "id": "missing-inside",
   "metadata": {},
   "source": [
    "##### Compare Two Dictionaries"
   ]
  },
  {
   "cell_type": "markdown",
   "id": "willing-morocco",
   "metadata": {},
   "source": [
    "##### Concurrent Processing"
   ]
  },
  {
   "cell_type": "markdown",
   "id": "interesting-commercial",
   "metadata": {},
   "source": [
    "##### Continue And Break Loops"
   ]
  },
  {
   "cell_type": "markdown",
   "id": "employed-frontier",
   "metadata": {},
   "source": [
    "##### Convert HTML Characters To Strings"
   ]
  },
  {
   "cell_type": "markdown",
   "id": "lucky-america",
   "metadata": {},
   "source": [
    "##### Converting Strings To Datetime"
   ]
  },
  {
   "cell_type": "markdown",
   "id": "worth-shell",
   "metadata": {},
   "source": [
    "##### Create A New File Then Write To It"
   ]
  },
  {
   "cell_type": "markdown",
   "id": "better-mistake",
   "metadata": {},
   "source": [
    "##### Create A Temporary File"
   ]
  },
  {
   "cell_type": "markdown",
   "id": "charming-genealogy",
   "metadata": {},
   "source": [
    "##### Data Structure Basics"
   ]
  },
  {
   "cell_type": "markdown",
   "id": "marked-explosion",
   "metadata": {},
   "source": [
    "##### Date And Time Basics"
   ]
  },
  {
   "cell_type": "markdown",
   "id": "middle-heading",
   "metadata": {},
   "source": [
    "##### Dictionary Basics"
   ]
  },
  {
   "cell_type": "markdown",
   "id": "brazilian-church",
   "metadata": {},
   "source": [
    "##### Display JSON"
   ]
  },
  {
   "cell_type": "markdown",
   "id": "logical-british",
   "metadata": {},
   "source": [
    "##### Display Scientific Notation As Floats"
   ]
  },
  {
   "cell_type": "markdown",
   "id": "historical-competition",
   "metadata": {},
   "source": [
    "##### Exiting A Loop"
   ]
  },
  {
   "cell_type": "markdown",
   "id": "incoming-adjustment",
   "metadata": {},
   "source": [
    "##### Find The Max Value In A Dictionary"
   ]
  },
  {
   "cell_type": "markdown",
   "id": "aware-albuquerque",
   "metadata": {},
   "source": [
    "##### Flatten Lists Of Lists"
   ]
  },
  {
   "cell_type": "markdown",
   "id": "defensive-simon",
   "metadata": {},
   "source": [
    "##### For Loop"
   ]
  },
  {
   "cell_type": "markdown",
   "id": "synthetic-chemical",
   "metadata": {},
   "source": [
    "##### Formatting Numbers"
   ]
  },
  {
   "cell_type": "markdown",
   "id": "intense-protest",
   "metadata": {},
   "source": [
    "##### Function Annotation Examples"
   ]
  },
  {
   "cell_type": "markdown",
   "id": "outside-mechanism",
   "metadata": {},
   "source": [
    "##### Function Basics"
   ]
  },
  {
   "cell_type": "markdown",
   "id": "rapid-excellence",
   "metadata": {},
   "source": [
    "##### Function Example"
   ]
  },
  {
   "cell_type": "markdown",
   "id": "subjective-gravity",
   "metadata": {},
   "source": [
    "##### Functions Vs. Generators"
   ]
  },
  {
   "cell_type": "markdown",
   "id": "reverse-wound",
   "metadata": {},
   "source": [
    "##### Generating Random Numbers With NumPy"
   ]
  },
  {
   "cell_type": "markdown",
   "id": "graduate-electricity",
   "metadata": {},
   "source": [
    "##### Generator Expressions"
   ]
  },
  {
   "cell_type": "markdown",
   "id": "wireless-fellowship",
   "metadata": {},
   "source": [
    "##### Handling Long Lines Of Code"
   ]
  },
  {
   "cell_type": "markdown",
   "id": "accepted-devil",
   "metadata": {},
   "source": [
    "##### Hard Wrapping Text"
   ]
  },
  {
   "cell_type": "markdown",
   "id": "knowing-sessions",
   "metadata": {},
   "source": [
    "##### How To Use Default Dicts"
   ]
  },
  {
   "cell_type": "markdown",
   "id": "classified-singapore",
   "metadata": {},
   "source": [
    "##### If and If Else"
   ]
  },
  {
   "cell_type": "markdown",
   "id": "unlikely-indonesian",
   "metadata": {},
   "source": [
    "##### If Else On Any Or All Elements"
   ]
  },
  {
   "cell_type": "markdown",
   "id": "contrary-cheat",
   "metadata": {},
   "source": [
    "##### Indexing And Slicing NumPy Arrays"
   ]
  },
  {
   "cell_type": "markdown",
   "id": "running-zealand",
   "metadata": {},
   "source": [
    "##### Indexing And Slicing NumPy Arrays"
   ]
  },
  {
   "cell_type": "markdown",
   "id": "rational-distribution",
   "metadata": {},
   "source": [
    "##### Iterate An Ifelse Over A List"
   ]
  },
  {
   "cell_type": "markdown",
   "id": "exceptional-witness",
   "metadata": {},
   "source": [
    "##### Iterate Over Multiple Lists Simultaneously"
   ]
  },
  {
   "cell_type": "markdown",
   "id": "alive-village",
   "metadata": {},
   "source": [
    "##### Iterating Over Dictionary Keys"
   ]
  },
  {
   "cell_type": "markdown",
   "id": "powered-course",
   "metadata": {},
   "source": [
    "##### Lambda Functions"
   ]
  },
  {
   "cell_type": "markdown",
   "id": "frozen-madison",
   "metadata": {},
   "source": [
    "##### List All Files Of Certain Type In A Directory"
   ]
  },
  {
   "cell_type": "markdown",
   "id": "consolidated-competition",
   "metadata": {},
   "source": [
    "##### Logical Operations"
   ]
  },
  {
   "cell_type": "markdown",
   "id": "proof-model",
   "metadata": {},
   "source": [
    "##### Looping Over Two Lists"
   ]
  },
  {
   "cell_type": "markdown",
   "id": "touched-glance",
   "metadata": {},
   "source": [
    "##### Mathematical Operations"
   ]
  },
  {
   "cell_type": "markdown",
   "id": "structured-edgar",
   "metadata": {},
   "source": [
    "##### Mocking Functions"
   ]
  },
  {
   "cell_type": "markdown",
   "id": "powerful-wyoming",
   "metadata": {},
   "source": [
    "##### Nested For Loops Using List Comprehension"
   ]
  },
  {
   "cell_type": "markdown",
   "id": "obvious-silence",
   "metadata": {},
   "source": [
    "##### Nesting Lists"
   ]
  },
  {
   "cell_type": "markdown",
   "id": "short-compiler",
   "metadata": {},
   "source": [
    "##### Numpy Array Basics"
   ]
  },
  {
   "cell_type": "markdown",
   "id": "false-opera",
   "metadata": {},
   "source": [
    "##### Parallel Processing"
   ]
  },
  {
   "cell_type": "markdown",
   "id": "correct-calgary",
   "metadata": {},
   "source": [
    "##### Partial Function Applications"
   ]
  },
  {
   "cell_type": "markdown",
   "id": "polar-intensity",
   "metadata": {},
   "source": [
    "##### Priority Queues"
   ]
  },
  {
   "cell_type": "markdown",
   "id": "urban-trademark",
   "metadata": {},
   "source": [
    "##### Queues And Stacks"
   ]
  },
  {
   "cell_type": "markdown",
   "id": "thirty-unknown",
   "metadata": {},
   "source": [
    "##### Recursive Functions"
   ]
  },
  {
   "cell_type": "markdown",
   "id": "electric-football",
   "metadata": {},
   "source": [
    "##### repr vs. str"
   ]
  },
  {
   "cell_type": "markdown",
   "id": "compressed-stevens",
   "metadata": {},
   "source": [
    "##### Scheduling Jobs In The Future"
   ]
  },
  {
   "cell_type": "markdown",
   "id": "essential-example",
   "metadata": {},
   "source": [
    "##### Select Random Element From A List"
   ]
  },
  {
   "cell_type": "markdown",
   "id": "biblical-accused",
   "metadata": {},
   "source": [
    "##### Selecting Items In A List With Filters"
   ]
  },
  {
   "cell_type": "markdown",
   "id": "desperate-woman",
   "metadata": {},
   "source": [
    "##### Set The Color Of A Matplotlib Plot"
   ]
  },
  {
   "cell_type": "markdown",
   "id": "massive-sacramento",
   "metadata": {},
   "source": [
    "##### Sort A List Of Names By Last Name"
   ]
  },
  {
   "cell_type": "markdown",
   "id": "accompanied-trauma",
   "metadata": {},
   "source": [
    "##### Sort A List Of Strings By Length"
   ]
  },
  {
   "cell_type": "markdown",
   "id": "reported-investment",
   "metadata": {},
   "source": [
    "##### Store API Credentials For Open Source Projects"
   ]
  },
  {
   "cell_type": "markdown",
   "id": "powerful-enemy",
   "metadata": {},
   "source": [
    "##### String Formatting"
   ]
  },
  {
   "cell_type": "markdown",
   "id": "rolled-maldives",
   "metadata": {},
   "source": [
    "##### String Indexing"
   ]
  },
  {
   "cell_type": "markdown",
   "id": "miniature-partition",
   "metadata": {},
   "source": [
    "##### String Operations"
   ]
  },
  {
   "cell_type": "markdown",
   "id": "demanding-discharge",
   "metadata": {},
   "source": [
    "##### Swapping Variable Values"
   ]
  },
  {
   "cell_type": "markdown",
   "id": "lonely-defendant",
   "metadata": {},
   "source": [
    "##### Try, Except, and Finally"
   ]
  },
  {
   "cell_type": "markdown",
   "id": "suspended-mainstream",
   "metadata": {},
   "source": [
    "##### Tuples Vs. Named Tuples"
   ]
  },
  {
   "cell_type": "markdown",
   "id": "aging-volleyball",
   "metadata": {},
   "source": [
    "##### Unpacking A Tuple"
   ]
  },
  {
   "cell_type": "markdown",
   "id": "desirable-neutral",
   "metadata": {},
   "source": [
    "##### Unpacking Function Arguments"
   ]
  },
  {
   "cell_type": "markdown",
   "id": "alternate-yukon",
   "metadata": {},
   "source": [
    "##### Use Command Line Arguments In A Function"
   ]
  },
  {
   "cell_type": "markdown",
   "id": "graduate-script",
   "metadata": {},
   "source": [
    "##### Using Iterable As Function Arguments"
   ]
  },
  {
   "cell_type": "markdown",
   "id": "eleven-rabbit",
   "metadata": {},
   "source": [
    "##### Using Named Tuples To Store Data"
   ]
  },
  {
   "cell_type": "markdown",
   "id": "educated-problem",
   "metadata": {},
   "source": [
    "##### while Statement"
   ]
  },
  {
   "cell_type": "markdown",
   "id": "official-andorra",
   "metadata": {
    "heading_collapsed": "true",
    "tags": []
   },
   "source": [
    "#### Data Wrangling"
   ]
  },
  {
   "cell_type": "markdown",
   "id": "prospective-fiber",
   "metadata": {},
   "source": [
    "- Columns Shared By Two Data Frames\n",
    "- Apply Functions By Group In Pandas\n",
    "- Apply Operations To Groups In Pandas\n",
    "- Applying Operations Over pandas Dataframes\n",
    "- Assign A New Column To A Pandas DataFrame\n",
    "- Break A List Into N-Sized Chunks\n",
    "- Breaking Up A String Into Columns Using Regex In pandas\n",
    "- Construct A Dictionary From Multiple Lists\n",
    "- Convert A Categorical Variable Into Dummy Variables\n",
    "- Convert A Categorical Variable Into Dummy Variables\n",
    "- Convert A CSV Into Python Code To Recreate It\n",
    "- Convert A String Categorical Variable To A Numeric Variable\n",
    "- Convert A Variable To A Time Variable In pandas\n",
    "- Count Values In Pandas Dataframe\n",
    "- Create a Column Based on a Conditional in pandas\n",
    "- Create A pandas Column With A For Loop\n",
    "- Create A Pipeline In Pandas\n",
    "- Create Counts Of Items\n",
    "- Creating Lists From Dictionary Keys And Values\n",
    "- Crosstabs In pandas\n",
    "- Delete Duplicates In pandas\n",
    "- Descriptive Statistics For pandas Dataframe\n",
    "- Dropping Rows And Columns In pandas Dataframe\n",
    "- Enumerate A List\n",
    "- Expand Cells Containing Lists Into Their Own Variables In Pandas\n",
    "- Filter pandas Dataframes\n",
    "- Find Largest Value In A Dataframe Column\n",
    "- Find Unique Values In Pandas Dataframes\n",
    "- Geocoding And Reverse Geocoding\n",
    "- Geolocate A City And Country\n",
    "- Geolocate A City Or Country\n",
    "- Group A Time Series With pandas\n",
    "- Group Data By Time\n",
    "- Group Pandas Data By Hour Of The Day\n",
    "- Grouping Rows In pandas\n",
    "- Hierarchical Data In pandas\n",
    "- Join And Merge Pandas Dataframe\n",
    "- List Unique Values In A pandas Column\n",
    "- Load A JSON File Into Pandas\n",
    "- Load An Excel File Into Pandas\n",
    "- Load Excel Spreadsheet As pandas Dataframe\n",
    "- Loading A CSV Into pandas\n",
    "- Long To Wide Format\n",
    "- Lower Case Column Names In Pandas Dataframe\n",
    "- Make New Columns Using Functions\n",
    "- Map External Values To Dataframe Values in pandas\n",
    "- Missing Data In pandas Dataframes\n",
    "- Moving Averages In pandas\n",
    "- Normalize A Column In pandas\n",
    "- pandas Data Structures\n",
    "- pandas Time Series Basics\n",
    "- Pivot Tables In pandas\n",
    "- Quickly Change A Column Of Strings In Pandas\n",
    "- Random Sampling Dataframe\n",
    "- Ranking Rows Of Pandas Dataframes\n",
    "- Regular Expression Basics\n",
    "- Regular Expression By Example\n",
    "- Reindexing pandas Series And Dataframes\n",
    "- Rename Column Headers In pandas\n",
    "- Rename Multiple pandas Dataframe Column Names\n",
    "- Replacing Values In pandas\n",
    "- Saving A pandas Dataframe As A CSV\n",
    "- Search A pandas Column For A Value\n",
    "- Select Rows When Columns Contain Certain Values\n",
    "- Select Rows With A Certain Value\n",
    "- Select Rows With Multiple Filters\n",
    "- Selecting pandas DataFrame Rows Based On Conditions\n",
    "- Simple Example Dataframes In pandas\n",
    "- Sorting Rows In pandas Dataframes\n",
    "- Split Lat/Long Coordinate Variables Into Separate Variables\n",
    "- Streaming Data Pipeline\n",
    "- String Munging In Dataframe\n",
    "- Using List Comprehensions With pandas\n",
    "- Using Seaborn To Visualize A pandas Dataframe"
   ]
  },
  {
   "cell_type": "markdown",
   "id": "extreme-circuit",
   "metadata": {},
   "source": [
    "##### Columns Shared By Two Data Frames"
   ]
  },
  {
   "cell_type": "markdown",
   "id": "small-funds",
   "metadata": {},
   "source": [
    "##### Apply Functions By Group In Pandas"
   ]
  },
  {
   "cell_type": "markdown",
   "id": "universal-wallet",
   "metadata": {},
   "source": [
    "##### Apply Operations To Groups In Pandas"
   ]
  },
  {
   "cell_type": "markdown",
   "id": "finnish-combine",
   "metadata": {},
   "source": [
    "##### Applying Operations Over pandas Dataframes"
   ]
  },
  {
   "cell_type": "markdown",
   "id": "standard-nation",
   "metadata": {},
   "source": [
    "##### Assign A New Column To A Pandas DataFrame"
   ]
  },
  {
   "cell_type": "markdown",
   "id": "eligible-cleaning",
   "metadata": {},
   "source": [
    "##### Break A List Into N-Sized Chunks"
   ]
  },
  {
   "cell_type": "markdown",
   "id": "elder-still",
   "metadata": {},
   "source": [
    "##### Breaking Up A String Into Columns Using Regex In pandas"
   ]
  },
  {
   "cell_type": "markdown",
   "id": "loving-accused",
   "metadata": {},
   "source": [
    "##### Construct A Dictionary From Multiple Lists"
   ]
  },
  {
   "cell_type": "markdown",
   "id": "mobile-japan",
   "metadata": {},
   "source": [
    "##### Convert A Categorical Variable Into Dummy Variables"
   ]
  },
  {
   "cell_type": "markdown",
   "id": "rental-algorithm",
   "metadata": {},
   "source": [
    "##### Convert A Categorical Variable Into Dummy Variables"
   ]
  },
  {
   "cell_type": "markdown",
   "id": "subjective-bicycle",
   "metadata": {},
   "source": [
    "##### Convert A CSV Into Python Code To Recreate It"
   ]
  },
  {
   "cell_type": "markdown",
   "id": "weekly-biology",
   "metadata": {},
   "source": [
    "##### Convert A String Categorical Variable To A Numeric Variable"
   ]
  },
  {
   "cell_type": "markdown",
   "id": "incredible-headline",
   "metadata": {},
   "source": [
    "##### Convert A Variable To A Time Variable In pandas"
   ]
  },
  {
   "cell_type": "markdown",
   "id": "collect-model",
   "metadata": {},
   "source": [
    "##### Count Values In Pandas Dataframe"
   ]
  },
  {
   "cell_type": "markdown",
   "id": "empty-smith",
   "metadata": {},
   "source": [
    "##### Create a Column Based on a Conditional in pandas"
   ]
  },
  {
   "cell_type": "markdown",
   "id": "double-colon",
   "metadata": {},
   "source": [
    "##### Create A pandas Column With A For Loop"
   ]
  },
  {
   "cell_type": "markdown",
   "id": "formed-leonard",
   "metadata": {},
   "source": [
    "##### Create A Pipeline In Pandas"
   ]
  },
  {
   "cell_type": "markdown",
   "id": "excellent-spiritual",
   "metadata": {},
   "source": [
    "##### Create Counts Of Items"
   ]
  },
  {
   "cell_type": "markdown",
   "id": "german-munich",
   "metadata": {},
   "source": [
    "##### Creating Lists From Dictionary Keys And Values"
   ]
  },
  {
   "cell_type": "markdown",
   "id": "center-prerequisite",
   "metadata": {},
   "source": [
    "##### Crosstabs In pandas"
   ]
  },
  {
   "cell_type": "markdown",
   "id": "raised-stability",
   "metadata": {},
   "source": [
    "##### Delete Duplicates In pandas"
   ]
  },
  {
   "cell_type": "markdown",
   "id": "played-accounting",
   "metadata": {},
   "source": [
    "##### Descriptive Statistics For pandas Dataframe"
   ]
  },
  {
   "cell_type": "markdown",
   "id": "first-acrobat",
   "metadata": {},
   "source": [
    "##### Dropping Rows And Columns In pandas Dataframe"
   ]
  },
  {
   "cell_type": "markdown",
   "id": "helpful-aggregate",
   "metadata": {},
   "source": [
    "##### Enumerate A List"
   ]
  },
  {
   "cell_type": "markdown",
   "id": "rental-delight",
   "metadata": {},
   "source": [
    "##### Expand Cells Containing Lists Into Their Own Variables In Pandas"
   ]
  },
  {
   "cell_type": "markdown",
   "id": "polish-gathering",
   "metadata": {},
   "source": [
    "##### Filter pandas Dataframes"
   ]
  },
  {
   "cell_type": "markdown",
   "id": "wooden-there",
   "metadata": {},
   "source": [
    "##### Find Largest Value In A Dataframe Column"
   ]
  },
  {
   "cell_type": "markdown",
   "id": "secret-crest",
   "metadata": {},
   "source": [
    "##### Find Unique Values In Pandas Dataframes"
   ]
  },
  {
   "cell_type": "markdown",
   "id": "finite-alignment",
   "metadata": {},
   "source": [
    "##### Geocoding And Reverse Geocoding"
   ]
  },
  {
   "cell_type": "markdown",
   "id": "resistant-income",
   "metadata": {},
   "source": [
    "##### Geolocate A City And Country"
   ]
  },
  {
   "cell_type": "markdown",
   "id": "coated-tiffany",
   "metadata": {},
   "source": [
    "##### Geolocate A City Or Country"
   ]
  },
  {
   "cell_type": "markdown",
   "id": "representative-still",
   "metadata": {},
   "source": [
    "##### Group A Time Series With pandas"
   ]
  },
  {
   "cell_type": "markdown",
   "id": "major-christian",
   "metadata": {},
   "source": [
    "##### Group Data By Time"
   ]
  },
  {
   "cell_type": "markdown",
   "id": "suffering-packing",
   "metadata": {},
   "source": [
    "##### Group Pandas Data By Hour Of The Day"
   ]
  },
  {
   "cell_type": "markdown",
   "id": "welsh-spiritual",
   "metadata": {},
   "source": [
    "##### Grouping Rows In pandas"
   ]
  },
  {
   "cell_type": "markdown",
   "id": "spatial-kidney",
   "metadata": {},
   "source": [
    "##### Hierarchical Data In pandas"
   ]
  },
  {
   "cell_type": "markdown",
   "id": "welcome-birth",
   "metadata": {},
   "source": [
    "##### Join And Merge Pandas Dataframe"
   ]
  },
  {
   "cell_type": "markdown",
   "id": "raising-ghana",
   "metadata": {},
   "source": [
    "##### List Unique Values In A pandas Column"
   ]
  },
  {
   "cell_type": "markdown",
   "id": "valued-canada",
   "metadata": {},
   "source": [
    "##### Load A JSON File Into Pandas"
   ]
  },
  {
   "cell_type": "markdown",
   "id": "iraqi-demand",
   "metadata": {},
   "source": [
    "##### Load An Excel File Into Pandas"
   ]
  },
  {
   "cell_type": "markdown",
   "id": "exotic-purple",
   "metadata": {},
   "source": [
    "##### Load Excel Spreadsheet As pandas Dataframe"
   ]
  },
  {
   "cell_type": "markdown",
   "id": "fatal-grant",
   "metadata": {},
   "source": [
    "##### Loading A CSV Into pandas"
   ]
  },
  {
   "cell_type": "markdown",
   "id": "informed-azerbaijan",
   "metadata": {},
   "source": [
    "##### Long To Wide Format"
   ]
  },
  {
   "cell_type": "markdown",
   "id": "electronic-roots",
   "metadata": {},
   "source": [
    "##### Lower Case Column Names In Pandas Dataframe"
   ]
  },
  {
   "cell_type": "markdown",
   "id": "protected-stake",
   "metadata": {},
   "source": [
    "##### Make New Columns Using Functions"
   ]
  },
  {
   "cell_type": "markdown",
   "id": "precise-graduate",
   "metadata": {},
   "source": [
    "##### Map External Values To Dataframe Values in pandas"
   ]
  },
  {
   "cell_type": "markdown",
   "id": "welcome-amazon",
   "metadata": {},
   "source": [
    "##### Missing Data In pandas Dataframes"
   ]
  },
  {
   "cell_type": "markdown",
   "id": "rotary-beverage",
   "metadata": {},
   "source": [
    "##### Moving Averages In pandas"
   ]
  },
  {
   "cell_type": "markdown",
   "id": "hydraulic-extraction",
   "metadata": {},
   "source": [
    "##### Normalize A Column In pandas"
   ]
  },
  {
   "cell_type": "markdown",
   "id": "vital-veteran",
   "metadata": {},
   "source": [
    "##### pandas Data Structures"
   ]
  },
  {
   "cell_type": "markdown",
   "id": "incomplete-beast",
   "metadata": {},
   "source": [
    "##### pandas Time Series Basics"
   ]
  },
  {
   "cell_type": "markdown",
   "id": "certified-startup",
   "metadata": {},
   "source": [
    "##### Pivot Tables In pandas"
   ]
  },
  {
   "cell_type": "markdown",
   "id": "confidential-gabriel",
   "metadata": {},
   "source": [
    "##### Quickly Change A Column Of Strings In Pandas"
   ]
  },
  {
   "cell_type": "markdown",
   "id": "civic-evening",
   "metadata": {},
   "source": [
    "##### Random Sampling Dataframe"
   ]
  },
  {
   "cell_type": "markdown",
   "id": "revolutionary-times",
   "metadata": {},
   "source": [
    "##### Ranking Rows Of Pandas Dataframes"
   ]
  },
  {
   "cell_type": "markdown",
   "id": "empty-orleans",
   "metadata": {},
   "source": [
    "##### Regular Expression Basics"
   ]
  },
  {
   "cell_type": "markdown",
   "id": "overall-survivor",
   "metadata": {},
   "source": [
    "##### Regular Expression By Example"
   ]
  },
  {
   "cell_type": "markdown",
   "id": "sapphire-immune",
   "metadata": {},
   "source": [
    "##### Reindexing pandas Series And Dataframes"
   ]
  },
  {
   "cell_type": "markdown",
   "id": "royal-thesaurus",
   "metadata": {},
   "source": [
    "##### Rename Column Headers In pandas"
   ]
  },
  {
   "cell_type": "markdown",
   "id": "southern-organ",
   "metadata": {},
   "source": [
    "##### Rename Multiple pandas Dataframe Column Names"
   ]
  },
  {
   "cell_type": "markdown",
   "id": "lasting-mercury",
   "metadata": {},
   "source": [
    "##### Replacing Values In pandas"
   ]
  },
  {
   "cell_type": "markdown",
   "id": "revised-mouse",
   "metadata": {},
   "source": [
    "##### Saving A pandas Dataframe As A CSV"
   ]
  },
  {
   "cell_type": "markdown",
   "id": "starting-arnold",
   "metadata": {},
   "source": [
    "##### Search A pandas Column For A Value"
   ]
  },
  {
   "cell_type": "markdown",
   "id": "polyphonic-revelation",
   "metadata": {},
   "source": [
    "##### Select Rows When Columns Contain Certain Values"
   ]
  },
  {
   "cell_type": "markdown",
   "id": "former-england",
   "metadata": {},
   "source": [
    "##### Select Rows With A Certain Value"
   ]
  },
  {
   "cell_type": "markdown",
   "id": "helpful-maria",
   "metadata": {},
   "source": [
    "##### Select Rows With Multiple Filters"
   ]
  },
  {
   "cell_type": "markdown",
   "id": "explicit-peripheral",
   "metadata": {},
   "source": [
    "##### Selecting pandas DataFrame Rows Based On Conditions"
   ]
  },
  {
   "cell_type": "markdown",
   "id": "figured-jungle",
   "metadata": {},
   "source": [
    "##### Simple Example Dataframes In pandas"
   ]
  },
  {
   "cell_type": "markdown",
   "id": "integrated-doctrine",
   "metadata": {},
   "source": [
    "##### Sorting Rows In pandas Dataframes"
   ]
  },
  {
   "cell_type": "markdown",
   "id": "mysterious-ethics",
   "metadata": {},
   "source": [
    "##### Split Lat/Long Coordinate Variables Into Separate Variables"
   ]
  },
  {
   "cell_type": "markdown",
   "id": "experimental-possible",
   "metadata": {},
   "source": [
    "##### Streaming Data Pipeline"
   ]
  },
  {
   "cell_type": "markdown",
   "id": "becoming-clearance",
   "metadata": {},
   "source": [
    "##### String Munging In Dataframe"
   ]
  },
  {
   "cell_type": "markdown",
   "id": "juvenile-hungarian",
   "metadata": {},
   "source": [
    "##### Using List Comprehensions With pandas"
   ]
  },
  {
   "cell_type": "markdown",
   "id": "european-reduction",
   "metadata": {},
   "source": [
    "##### Using Seaborn To Visualize A pandas Dataframe"
   ]
  },
  {
   "cell_type": "markdown",
   "id": "exclusive-pension",
   "metadata": {
    "heading_collapsed": "true",
    "tags": []
   },
   "source": [
    "#### Data Visualization"
   ]
  },
  {
   "cell_type": "markdown",
   "id": "allied-binding",
   "metadata": {},
   "source": [
    "- Back To Back Bar Plot In MatPlotLib\n",
    "- Bar Plot In MatPlotLib\n",
    "- Color Palettes in Seaborn\n",
    "- Creating A Time Series Plot With Seaborn And pandas\n",
    "- Creating Scatterplots With Seaborn\n",
    "- Group Bar Plot In MatPlotLib\n",
    "- Histograms In MatPlotLib\n",
    "- Making A Matplotlib Scatterplot From A Pandas Dataframe\n",
    "- Matplotlib, A Simple Example\n",
    "- Pie Chart In MatPlotLib\n",
    "- Scatterplot In MatPlotLib\n",
    "- Stacked Percentage Bar Plot In MatPlotLib"
   ]
  },
  {
   "cell_type": "markdown",
   "id": "novel-musical",
   "metadata": {},
   "source": [
    "##### Back To Back Bar Plot In MatPlotLib"
   ]
  },
  {
   "cell_type": "markdown",
   "id": "unusual-update",
   "metadata": {},
   "source": [
    "##### Bar Plot In MatPlotLib"
   ]
  },
  {
   "cell_type": "markdown",
   "id": "skilled-reach",
   "metadata": {},
   "source": [
    "##### Color Palettes in Seaborn"
   ]
  },
  {
   "cell_type": "markdown",
   "id": "atlantic-effects",
   "metadata": {},
   "source": [
    "##### Creating A Time Series Plot With Seaborn And pandas"
   ]
  },
  {
   "cell_type": "markdown",
   "id": "maritime-rating",
   "metadata": {},
   "source": [
    "##### Creating Scatterplots With Seaborn"
   ]
  },
  {
   "cell_type": "markdown",
   "id": "smaller-concord",
   "metadata": {},
   "source": [
    "##### Group Bar Plot In MatPlotLib"
   ]
  },
  {
   "cell_type": "markdown",
   "id": "nuclear-extreme",
   "metadata": {},
   "source": [
    "##### Histograms In MatPlotLib"
   ]
  },
  {
   "cell_type": "markdown",
   "id": "million-latin",
   "metadata": {},
   "source": [
    "##### Making A Matplotlib Scatterplot From A Pandas Dataframe"
   ]
  },
  {
   "cell_type": "markdown",
   "id": "grateful-authentication",
   "metadata": {},
   "source": [
    "##### Matplotlib, A Simple Example"
   ]
  },
  {
   "cell_type": "markdown",
   "id": "contemporary-trade",
   "metadata": {},
   "source": [
    "##### Pie Chart In MatPlotLib"
   ]
  },
  {
   "cell_type": "markdown",
   "id": "stock-lincoln",
   "metadata": {},
   "source": [
    "##### Scatterplot In MatPlotLib"
   ]
  },
  {
   "cell_type": "markdown",
   "id": "faced-sperm",
   "metadata": {},
   "source": [
    "##### Stacked Percentage Bar Plot In MatPlotLib"
   ]
  },
  {
   "cell_type": "markdown",
   "id": "dependent-transcription",
   "metadata": {
    "heading_collapsed": "true",
    "tags": []
   },
   "source": [
    "#### Web Scraping"
   ]
  },
  {
   "cell_type": "markdown",
   "id": "thirty-nicholas",
   "metadata": {},
   "source": [
    "- Beautiful Soup Basic HTML Scraping\n",
    "- Drilling Down With Beautiful Soup\n",
    "- Monitor A Website For Changes With Python"
   ]
  },
  {
   "cell_type": "markdown",
   "id": "mathematical-bahamas",
   "metadata": {},
   "source": [
    "##### Beautiful Soup Basic HTML Scraping"
   ]
  },
  {
   "cell_type": "markdown",
   "id": "metric-acoustic",
   "metadata": {},
   "source": [
    "##### Drilling Down With Beautiful Soup"
   ]
  },
  {
   "cell_type": "markdown",
   "id": "impaired-sterling",
   "metadata": {},
   "source": [
    "##### Monitor A Website For Changes With Python"
   ]
  },
  {
   "cell_type": "markdown",
   "id": "retired-challenge",
   "metadata": {
    "heading_collapsed": "true",
    "tags": []
   },
   "source": [
    "#### Testing"
   ]
  },
  {
   "cell_type": "markdown",
   "id": "sharing-jonathan",
   "metadata": {},
   "source": [
    "- Simple Unit Test\n",
    "- Test Code Speed\n",
    "- Test For A Specific Exception\n",
    "- Test If Output Is Close To A Value\n",
    "- Testable Documentation"
   ]
  },
  {
   "cell_type": "markdown",
   "id": "recorded-proxy",
   "metadata": {},
   "source": [
    "##### Simple Unit Test"
   ]
  },
  {
   "cell_type": "markdown",
   "id": "silent-celebrity",
   "metadata": {},
   "source": [
    "##### Test Code Speed"
   ]
  },
  {
   "cell_type": "markdown",
   "id": "backed-marsh",
   "metadata": {},
   "source": [
    "##### Test For A Specific Exception"
   ]
  },
  {
   "cell_type": "markdown",
   "id": "about-christopher",
   "metadata": {},
   "source": [
    "##### Test If Output Is Close To A Value"
   ]
  },
  {
   "cell_type": "markdown",
   "id": "distant-blogger",
   "metadata": {},
   "source": [
    "##### Testable Documentation"
   ]
  },
  {
   "cell_type": "markdown",
   "id": "collect-framework",
   "metadata": {
    "heading_collapsed": "true",
    "tags": []
   },
   "source": [
    "#### Logging"
   ]
  },
  {
   "cell_type": "markdown",
   "id": "loving-nudist",
   "metadata": {},
   "source": [
    "- Basic Logging"
   ]
  },
  {
   "cell_type": "markdown",
   "id": "important-visiting",
   "metadata": {},
   "source": [
    "##### Basic Logging"
   ]
  },
  {
   "cell_type": "markdown",
   "id": "female-essence",
   "metadata": {
    "heading_collapsed": "true",
    "tags": []
   },
   "source": [
    "#### Other"
   ]
  },
  {
   "cell_type": "markdown",
   "id": "interested-consistency",
   "metadata": {},
   "source": [
    "- Generate Tweets Using Markov Chains\n",
    "- Mine Twitter's Stream For Hashtags Or Words\n",
    "- Simple Clustering With SciPy\n",
    "- What Is The Probability An Economy Class Seat Is An Aisle Seat?"
   ]
  },
  {
   "cell_type": "markdown",
   "id": "waiting-chancellor",
   "metadata": {},
   "source": [
    "##### Generate Tweets Using Markov Chains"
   ]
  },
  {
   "cell_type": "markdown",
   "id": "theoretical-bruce",
   "metadata": {},
   "source": [
    "##### Mine Twitter's Stream For Hashtags Or Words"
   ]
  },
  {
   "cell_type": "markdown",
   "id": "atmospheric-driving",
   "metadata": {},
   "source": [
    "##### Simple Clustering With SciPy"
   ]
  },
  {
   "cell_type": "markdown",
   "id": "built-sigma",
   "metadata": {},
   "source": [
    "##### What Is The Probability An Economy Class Seat Is An Aisle Seat?"
   ]
  },
  {
   "cell_type": "markdown",
   "id": "manufactured-lloyd",
   "metadata": {
    "heading_collapsed": "true",
    "tags": []
   },
   "source": [
    "### Git & GitHub"
   ]
  },
  {
   "cell_type": "markdown",
   "id": "advance-yellow",
   "metadata": {},
   "source": [
    "- Stop Git From Asking For Password Every Push And Pull From GitHub\n",
    "- GitHub Cheatsheet"
   ]
  },
  {
   "cell_type": "markdown",
   "id": "automatic-wisdom",
   "metadata": {
    "heading_collapsed": "true",
    "tags": []
   },
   "source": [
    "##### Stop Git From Asking For Password Every Push And Pull From GitHub"
   ]
  },
  {
   "cell_type": "markdown",
   "id": "cross-columbus",
   "metadata": {
    "heading_collapsed": "true",
    "tags": []
   },
   "source": [
    "##### GitHub Cheatsheet"
   ]
  },
  {
   "cell_type": "markdown",
   "id": "innocent-survivor",
   "metadata": {
    "heading_collapsed": "true",
    "tags": []
   },
   "source": [
    "### Linux Command Line"
   ]
  },
  {
   "cell_type": "markdown",
   "id": "critical-convenience",
   "metadata": {
    "heading_collapsed": "true",
    "tags": []
   },
   "source": [
    "#### Basics"
   ]
  },
  {
   "cell_type": "markdown",
   "id": "varying-bracelet",
   "metadata": {},
   "source": [
    "- Close A Program\n",
    "- End Standard Input Entry\n",
    "- Copy Files And Directories\n",
    "- Delete Files And Directories\n",
    "- Delete Files And Directories In Current Directory\n",
    "- Modify File Permissions\n",
    "- Move Files And Directories\n",
    "- Rename File\n",
    "- See Disk Drive Space\n",
    "- View Disk Information\n",
    "- Archive And Unarchive Files\n",
    "- Change Permissions\n",
    "- Changing Directories\n",
    "- Check Current Date And Time\n",
    "- Create Command\n",
    "- Create Directory\n",
    "- Create File\n",
    "- Create Sequential List Of Files And Directories\n",
    "- Create Symbolic Links\n",
    "- Exit Terminal Session\n",
    "- Get Help With A Command\n",
    "- Get Information On A File\n",
    "- List Avaliable Commands\n",
    "- List The Contents Of A Directory\n",
    "- Multiple Commands On One Line\n",
    "- Ping Website\n",
    "- See Free Memory\n",
    "- See Who Is Logged Into A System\n",
    "- Select Files Based On Filename\n",
    "- Synchronize Files And Directories\n",
    "- Track Route Of Network Traffic\n",
    "- View A File's Type\n",
    "- View A Text File's Contents\n",
    "- View Current Working Directory\n",
    "- View First And Last Parts Of Files\n",
    "- View The Version Of A Package\n",
    "- Zip And Unzip Directories\n",
    "- Zip And Unzip Files"
   ]
  },
  {
   "cell_type": "markdown",
   "id": "entertaining-spirituality",
   "metadata": {},
   "source": [
    "##### Close A Program"
   ]
  },
  {
   "cell_type": "markdown",
   "id": "hungry-galaxy",
   "metadata": {},
   "source": [
    "##### End Standard Input Entry"
   ]
  },
  {
   "cell_type": "markdown",
   "id": "gentle-conditioning",
   "metadata": {},
   "source": [
    "##### Copy Files And Directories"
   ]
  },
  {
   "cell_type": "markdown",
   "id": "talented-hundred",
   "metadata": {},
   "source": [
    "##### Delete Files And Directories"
   ]
  },
  {
   "cell_type": "markdown",
   "id": "protective-fundamental",
   "metadata": {},
   "source": [
    "##### Delete Files And Directories In Current Directory"
   ]
  },
  {
   "cell_type": "markdown",
   "id": "rural-strength",
   "metadata": {},
   "source": [
    "##### Modify File Permissions"
   ]
  },
  {
   "cell_type": "markdown",
   "id": "ruled-parliament",
   "metadata": {},
   "source": [
    "##### Move Files And Directories"
   ]
  },
  {
   "cell_type": "markdown",
   "id": "cheap-tradition",
   "metadata": {},
   "source": [
    "##### Rename File"
   ]
  },
  {
   "cell_type": "markdown",
   "id": "serial-timer",
   "metadata": {},
   "source": [
    "##### See Disk Drive Space"
   ]
  },
  {
   "cell_type": "markdown",
   "id": "clean-pipeline",
   "metadata": {},
   "source": [
    "##### View Disk Information"
   ]
  },
  {
   "cell_type": "markdown",
   "id": "loved-cooperation",
   "metadata": {},
   "source": [
    "##### Archive And Unarchive Files"
   ]
  },
  {
   "cell_type": "markdown",
   "id": "renewable-resort",
   "metadata": {},
   "source": [
    "##### Change Permissions"
   ]
  },
  {
   "cell_type": "markdown",
   "id": "executive-psychology",
   "metadata": {},
   "source": [
    "##### Changing Directories"
   ]
  },
  {
   "cell_type": "markdown",
   "id": "level-london",
   "metadata": {},
   "source": [
    "##### Check Current Date And Time"
   ]
  },
  {
   "cell_type": "markdown",
   "id": "crucial-division",
   "metadata": {},
   "source": [
    "##### Create Command"
   ]
  },
  {
   "cell_type": "markdown",
   "id": "bacterial-tender",
   "metadata": {},
   "source": [
    "##### Create Directory"
   ]
  },
  {
   "cell_type": "markdown",
   "id": "german-pattern",
   "metadata": {},
   "source": [
    "##### Create File"
   ]
  },
  {
   "cell_type": "markdown",
   "id": "furnished-oxygen",
   "metadata": {},
   "source": [
    "##### Create Sequential List Of Files And Directories"
   ]
  },
  {
   "cell_type": "markdown",
   "id": "fallen-airplane",
   "metadata": {},
   "source": [
    "##### Create Symbolic Links"
   ]
  },
  {
   "cell_type": "markdown",
   "id": "relative-blade",
   "metadata": {},
   "source": [
    "##### Exit Terminal Session"
   ]
  },
  {
   "cell_type": "markdown",
   "id": "basic-murder",
   "metadata": {},
   "source": [
    "##### Get Help With A Command"
   ]
  },
  {
   "cell_type": "markdown",
   "id": "aware-grade",
   "metadata": {},
   "source": [
    "##### Get Information On A File"
   ]
  },
  {
   "cell_type": "markdown",
   "id": "cognitive-connectivity",
   "metadata": {},
   "source": [
    "##### List Avaliable Commands"
   ]
  },
  {
   "cell_type": "markdown",
   "id": "potential-layout",
   "metadata": {},
   "source": [
    "##### List The Contents Of A Directory"
   ]
  },
  {
   "cell_type": "markdown",
   "id": "united-irrigation",
   "metadata": {},
   "source": [
    "##### Multiple Commands On One Line"
   ]
  },
  {
   "cell_type": "markdown",
   "id": "institutional-garbage",
   "metadata": {},
   "source": [
    "##### Ping Website"
   ]
  },
  {
   "cell_type": "markdown",
   "id": "blocked-delight",
   "metadata": {},
   "source": [
    "##### See Free Memory"
   ]
  },
  {
   "cell_type": "markdown",
   "id": "apparent-harrison",
   "metadata": {},
   "source": [
    "##### See Who Is Logged Into A System"
   ]
  },
  {
   "cell_type": "markdown",
   "id": "center-prototype",
   "metadata": {},
   "source": [
    "##### Select Files Based On Filename"
   ]
  },
  {
   "cell_type": "markdown",
   "id": "smoking-auckland",
   "metadata": {},
   "source": [
    "##### Synchronize Files And Directories"
   ]
  },
  {
   "cell_type": "markdown",
   "id": "killing-necessity",
   "metadata": {},
   "source": [
    "##### Track Route Of Network Traffic"
   ]
  },
  {
   "cell_type": "markdown",
   "id": "rolled-hormone",
   "metadata": {},
   "source": [
    "##### View A File's Type"
   ]
  },
  {
   "cell_type": "markdown",
   "id": "transparent-survey",
   "metadata": {},
   "source": [
    "##### View A Text File's Contents"
   ]
  },
  {
   "cell_type": "markdown",
   "id": "marked-grounds",
   "metadata": {},
   "source": [
    "##### View Current Working Directory"
   ]
  },
  {
   "cell_type": "markdown",
   "id": "reduced-deficit",
   "metadata": {},
   "source": [
    "##### View First And Last Parts Of Files"
   ]
  },
  {
   "cell_type": "markdown",
   "id": "french-friendly",
   "metadata": {},
   "source": [
    "##### View The Version Of A Package"
   ]
  },
  {
   "cell_type": "markdown",
   "id": "noted-stake",
   "metadata": {},
   "source": [
    "##### Zip And Unzip Directories"
   ]
  },
  {
   "cell_type": "markdown",
   "id": "substantial-carbon",
   "metadata": {},
   "source": [
    "##### Zip And Unzip Files"
   ]
  },
  {
   "cell_type": "markdown",
   "id": "voluntary-banana",
   "metadata": {
    "heading_collapsed": "true",
    "tags": []
   },
   "source": [
    "#### Inputs and Outputs"
   ]
  },
  {
   "cell_type": "markdown",
   "id": "choice-creek",
   "metadata": {},
   "source": [
    "- Append Error To File\n",
    "- Append File Contents To Another File\n",
    "- Append Output To File\n",
    "- Append Outputs And Errors To File\n",
    "- Chain Multiple Commands\n",
    "- Concatenate Multiple Files\n",
    "- Save Output To File In Middle Of Command Chain\n",
    "- Silence Errors\n",
    "- Sort Rows\n",
    "- Write Errors To File\n",
    "- Write Output To File"
   ]
  },
  {
   "cell_type": "markdown",
   "id": "thousand-roberts",
   "metadata": {},
   "source": [
    "##### Append Error To File"
   ]
  },
  {
   "cell_type": "markdown",
   "id": "needed-administrator",
   "metadata": {},
   "source": [
    "##### Append File Contents To Another File"
   ]
  },
  {
   "cell_type": "markdown",
   "id": "innovative-roommate",
   "metadata": {},
   "source": [
    "##### Append Output To File"
   ]
  },
  {
   "cell_type": "markdown",
   "id": "helpful-parking",
   "metadata": {},
   "source": [
    "##### Append Outputs And Errors To File"
   ]
  },
  {
   "cell_type": "markdown",
   "id": "transsexual-subsection",
   "metadata": {},
   "source": [
    "##### Chain Multiple Commands"
   ]
  },
  {
   "cell_type": "markdown",
   "id": "filled-microwave",
   "metadata": {},
   "source": [
    "##### Concatenate Multiple Files"
   ]
  },
  {
   "cell_type": "markdown",
   "id": "framed-publication",
   "metadata": {},
   "source": [
    "##### Save Output To File In Middle Of Command Chain"
   ]
  },
  {
   "cell_type": "markdown",
   "id": "alive-coalition",
   "metadata": {},
   "source": [
    "##### Silence Errors"
   ]
  },
  {
   "cell_type": "markdown",
   "id": "international-circuit",
   "metadata": {},
   "source": [
    "##### Sort Rows"
   ]
  },
  {
   "cell_type": "markdown",
   "id": "collected-integral",
   "metadata": {},
   "source": [
    "##### Write Errors To File"
   ]
  },
  {
   "cell_type": "markdown",
   "id": "ancient-metro",
   "metadata": {},
   "source": [
    "##### Write Output To File"
   ]
  },
  {
   "cell_type": "markdown",
   "id": "functioning-jesus",
   "metadata": {
    "heading_collapsed": "true",
    "tags": []
   },
   "source": [
    "#### Search"
   ]
  },
  {
   "cell_type": "markdown",
   "id": "ethical-highland",
   "metadata": {},
   "source": [
    "- Find Directories\n",
    "- Find Files\n",
    "- Find Files Based On Multiple Conditions\n",
    "- Find Files By Filename\n",
    "- Find Files By Size\n",
    "- Find Program's Location\n",
    "- Find Symbolic Links\n",
    "- Search Contents Of All Files Of Certain Type\n",
    "- Search Filenames\n",
    "- Search The Contents Of A File"
   ]
  },
  {
   "cell_type": "markdown",
   "id": "adjustable-sessions",
   "metadata": {},
   "source": [
    "##### Find Directories"
   ]
  },
  {
   "cell_type": "markdown",
   "id": "directed-locator",
   "metadata": {},
   "source": [
    "##### Find Files"
   ]
  },
  {
   "cell_type": "markdown",
   "id": "moderate-heating",
   "metadata": {},
   "source": [
    "##### Find Files Based On Multiple Conditions"
   ]
  },
  {
   "cell_type": "markdown",
   "id": "developed-devices",
   "metadata": {},
   "source": [
    "##### Find Files By Filename"
   ]
  },
  {
   "cell_type": "markdown",
   "id": "intended-knitting",
   "metadata": {},
   "source": [
    "##### Find Files By Size"
   ]
  },
  {
   "cell_type": "markdown",
   "id": "gorgeous-gossip",
   "metadata": {},
   "source": [
    "##### Find Program's Location"
   ]
  },
  {
   "cell_type": "markdown",
   "id": "otherwise-storage",
   "metadata": {},
   "source": [
    "##### Find Symbolic Links"
   ]
  },
  {
   "cell_type": "markdown",
   "id": "pediatric-economics",
   "metadata": {},
   "source": [
    "##### Search Contents Of All Files Of Certain Type"
   ]
  },
  {
   "cell_type": "markdown",
   "id": "matched-conclusion",
   "metadata": {},
   "source": [
    "##### Search Filenames"
   ]
  },
  {
   "cell_type": "markdown",
   "id": "caring-recommendation",
   "metadata": {},
   "source": [
    "##### Search The Contents Of A File"
   ]
  },
  {
   "cell_type": "markdown",
   "id": "naval-measure",
   "metadata": {
    "heading_collapsed": "true",
    "tags": []
   },
   "source": [
    "#### Text"
   ]
  },
  {
   "cell_type": "markdown",
   "id": "dimensional-seating",
   "metadata": {},
   "source": [
    "- Add Columns To Text\n",
    "- Count Unique Rows\n",
    "- Extract Text\n",
    "- Find And Replace\n",
    "- Adding Line Numbers\n",
    "- Comparing Text Files\n",
    "- Join And Sort Text\n",
    "- Join Columns\n",
    "- Quickly View File Contents"
   ]
  },
  {
   "cell_type": "markdown",
   "id": "geographic-warrior",
   "metadata": {},
   "source": [
    "##### Add Columns To Text"
   ]
  },
  {
   "cell_type": "markdown",
   "id": "bulgarian-controversy",
   "metadata": {},
   "source": [
    "##### Count Unique Rows"
   ]
  },
  {
   "cell_type": "markdown",
   "id": "loved-reconstruction",
   "metadata": {},
   "source": [
    "##### Extract Text"
   ]
  },
  {
   "cell_type": "markdown",
   "id": "under-helping",
   "metadata": {},
   "source": [
    "##### Find And Replace"
   ]
  },
  {
   "cell_type": "markdown",
   "id": "exact-perception",
   "metadata": {},
   "source": [
    "##### Adding Line Numbers"
   ]
  },
  {
   "cell_type": "markdown",
   "id": "optical-cowboy",
   "metadata": {},
   "source": [
    "##### Comparing Text Files"
   ]
  },
  {
   "cell_type": "markdown",
   "id": "hollow-workstation",
   "metadata": {},
   "source": [
    "##### Join And Sort Text"
   ]
  },
  {
   "cell_type": "markdown",
   "id": "coated-convert",
   "metadata": {},
   "source": [
    "##### Join Columns"
   ]
  },
  {
   "cell_type": "markdown",
   "id": "greatest-malta",
   "metadata": {},
   "source": [
    "##### Quickly View File Contents"
   ]
  },
  {
   "cell_type": "markdown",
   "id": "immune-reservoir",
   "metadata": {
    "heading_collapsed": "true",
    "tags": []
   },
   "source": [
    "#### Flow Control"
   ]
  },
  {
   "cell_type": "markdown",
   "id": "premium-headline",
   "metadata": {},
   "source": [
    "- For Loops\n",
    "- If Else For Integers\n",
    "- If Else For Strings\n",
    "- If Else With Multiple Conditions"
   ]
  },
  {
   "cell_type": "markdown",
   "id": "public-specification",
   "metadata": {},
   "source": [
    "##### For Loops"
   ]
  },
  {
   "cell_type": "markdown",
   "id": "transparent-bleeding",
   "metadata": {},
   "source": [
    "##### If Else For Integers"
   ]
  },
  {
   "cell_type": "markdown",
   "id": "unnecessary-synthesis",
   "metadata": {},
   "source": [
    "##### If Else For Strings"
   ]
  },
  {
   "cell_type": "markdown",
   "id": "reflected-whole",
   "metadata": {},
   "source": [
    "##### If Else With Multiple Conditions"
   ]
  },
  {
   "cell_type": "markdown",
   "id": "electrical-pulse",
   "metadata": {
    "heading_collapsed": "true",
    "tags": []
   },
   "source": [
    "#### Processes"
   ]
  },
  {
   "cell_type": "markdown",
   "id": "expired-replication",
   "metadata": {},
   "source": [
    "- Measure How Long A Process Takes\n",
    "- List Processes\n",
    "- Monitor Processes"
   ]
  },
  {
   "cell_type": "markdown",
   "id": "clean-installation",
   "metadata": {},
   "source": [
    "##### Measure How Long A Process Takes"
   ]
  },
  {
   "cell_type": "markdown",
   "id": "stable-train",
   "metadata": {},
   "source": [
    "##### List Processes"
   ]
  },
  {
   "cell_type": "markdown",
   "id": "brief-tragedy",
   "metadata": {},
   "source": [
    "##### Monitor Processes"
   ]
  },
  {
   "cell_type": "markdown",
   "id": "adult-tomorrow",
   "metadata": {
    "heading_collapsed": "true",
    "tags": []
   },
   "source": [
    "#### Shell Scripts"
   ]
  },
  {
   "cell_type": "markdown",
   "id": "interstate-queens",
   "metadata": {},
   "source": [
    "- Arguments\n",
    "- Conditionals\n",
    "- Double Vs. Single Quotes\n",
    "- Simple Shell Script"
   ]
  },
  {
   "cell_type": "markdown",
   "id": "consolidated-granny",
   "metadata": {},
   "source": [
    "##### Arguments"
   ]
  },
  {
   "cell_type": "markdown",
   "id": "needed-visiting",
   "metadata": {},
   "source": [
    "##### Conditionals"
   ]
  },
  {
   "cell_type": "markdown",
   "id": "biblical-house",
   "metadata": {},
   "source": [
    "##### Double Vs. Single Quotes"
   ]
  },
  {
   "cell_type": "markdown",
   "id": "regional-dallas",
   "metadata": {},
   "source": [
    "##### Simple Shell Script"
   ]
  },
  {
   "cell_type": "markdown",
   "id": "expressed-homework",
   "metadata": {
    "heading_collapsed": "true",
    "tags": []
   },
   "source": [
    "### Regular Expressions"
   ]
  },
  {
   "cell_type": "markdown",
   "id": "located-instrument",
   "metadata": {},
   "source": [
    "- Match A Symbol\n",
    "- Match A Unicode Character\n",
    "- Match A Word\n",
    "- Match Any Character\n",
    "- Match Any Of A List Of Characters\n",
    "- Match Any Of A Series Of Options\n",
    "- Match Any Of A Series Of Words\n",
    "- Match Dates\n",
    "- Match Email Addresses\n",
    "- Match Exact Text\n",
    "- Match Integers Of Any Length\n",
    "- Match Text Between HTML Tags\n",
    "- Match Times\n",
    "- Match URLs\n",
    "- Match US and UK Spellings\n",
    "- Match US Phone Numbers\n",
    "- Match Words With A Certain Ending\n",
    "- Match ZIP Codes"
   ]
  },
  {
   "cell_type": "markdown",
   "id": "running-enforcement",
   "metadata": {},
   "source": [
    "##### Match A Symbol"
   ]
  },
  {
   "cell_type": "markdown",
   "id": "regulated-encoding",
   "metadata": {},
   "source": [
    "##### Match A Unicode Character"
   ]
  },
  {
   "cell_type": "markdown",
   "id": "nonprofit-blast",
   "metadata": {},
   "source": [
    "##### Match A Word"
   ]
  },
  {
   "cell_type": "markdown",
   "id": "offensive-naples",
   "metadata": {},
   "source": [
    "##### Match Any Character"
   ]
  },
  {
   "cell_type": "markdown",
   "id": "worst-exercise",
   "metadata": {},
   "source": [
    "##### Match Any Of A List Of Characters"
   ]
  },
  {
   "cell_type": "markdown",
   "id": "automated-blind",
   "metadata": {},
   "source": [
    "##### Match Any Of A Series Of Options"
   ]
  },
  {
   "cell_type": "markdown",
   "id": "central-monitor",
   "metadata": {},
   "source": [
    "##### Match Any Of A Series Of Words"
   ]
  },
  {
   "cell_type": "markdown",
   "id": "existing-compound",
   "metadata": {},
   "source": [
    "##### Match Dates"
   ]
  },
  {
   "cell_type": "markdown",
   "id": "passive-driver",
   "metadata": {},
   "source": [
    "##### Match Email Addresses"
   ]
  },
  {
   "cell_type": "markdown",
   "id": "unlimited-bacon",
   "metadata": {},
   "source": [
    "##### Match Exact Text"
   ]
  },
  {
   "cell_type": "markdown",
   "id": "handy-change",
   "metadata": {},
   "source": [
    "##### Match Integers Of Any Length"
   ]
  },
  {
   "cell_type": "markdown",
   "id": "infinite-bowling",
   "metadata": {},
   "source": [
    "##### Match Text Between HTML Tags"
   ]
  },
  {
   "cell_type": "markdown",
   "id": "assured-maldives",
   "metadata": {},
   "source": [
    "##### Match Times"
   ]
  },
  {
   "cell_type": "markdown",
   "id": "included-albert",
   "metadata": {},
   "source": [
    "##### Match URLs"
   ]
  },
  {
   "cell_type": "markdown",
   "id": "prescribed-amendment",
   "metadata": {},
   "source": [
    "##### Match US and UK Spellings"
   ]
  },
  {
   "cell_type": "markdown",
   "id": "answering-memorabilia",
   "metadata": {},
   "source": [
    "##### Match US Phone Numbers"
   ]
  },
  {
   "cell_type": "markdown",
   "id": "stable-conviction",
   "metadata": {},
   "source": [
    "##### Match Words With A Certain Ending"
   ]
  },
  {
   "cell_type": "markdown",
   "id": "binary-basketball",
   "metadata": {
    "tags": []
   },
   "source": [
    "##### Match ZIP Codes"
   ]
  },
  {
   "cell_type": "markdown",
   "id": "invalid-bottle",
   "metadata": {
    "heading_collapsed": "true",
    "tags": []
   },
   "source": [
    "### PostgreSQL"
   ]
  },
  {
   "cell_type": "markdown",
   "id": "marked-parade",
   "metadata": {
    "heading_collapsed": "true",
    "tags": []
   },
   "source": [
    "#### Basics"
   ]
  },
  {
   "cell_type": "markdown",
   "id": "annoying-sunglasses",
   "metadata": {},
   "source": [
    "- Apply Operation To Column\n",
    "- Compare Values To Subquery\n",
    "- Copy Rows From One Table To Another\n",
    "- Count Rows\n",
    "- Count Unique Values\n",
    "- Create Column Index\n",
    "- Create PostgreSQL Database With Python\n",
    "- Create Subquery\n",
    "- Create View\n",
    "- Delete View\n",
    "- Examine A Query\n",
    "- Group Rows\n",
    "- Group Rows With Conditions\n",
    "- If Else\n",
    "- List Index Columns\n",
    "- List Tables In Database\n",
    "- Rename Columns In Views\n",
    "- Replace Missing Values\n",
    "- Retrieve Only A Few Rows\n",
    "- Retrieve Random Subset Of Rows\n",
    "- Retrieve Row\n",
    "- Retrieve Rows Based On Condition\n",
    "- Retrieve Rows Based On Multiple Condition\n",
    "- Retrieve Subset Of Columns\n",
    "- Retrieving Missing Values\n",
    "- Save Queries As Variables\n",
    "- Select Highest Value In Each Group\n",
    "- Select Values Between Two Values\n",
    "- Sort Rows\n",
    "- Sort Rows In Groups\n",
    "- Test If Rows Exist In Subquery\n",
    "- Use Column Aliases With Where Clause\n",
    "- Value Matches Element Of A List\n",
    "- View Unique Values"
   ]
  },
  {
   "cell_type": "markdown",
   "id": "quick-lexington",
   "metadata": {},
   "source": [
    "##### Apply Operation To Column"
   ]
  },
  {
   "cell_type": "markdown",
   "id": "dental-patio",
   "metadata": {},
   "source": [
    "##### Compare Values To Subquery"
   ]
  },
  {
   "cell_type": "markdown",
   "id": "selective-plenty",
   "metadata": {},
   "source": [
    "##### Copy Rows From One Table To Another"
   ]
  },
  {
   "cell_type": "markdown",
   "id": "injured-nevada",
   "metadata": {},
   "source": [
    "##### Count Rows"
   ]
  },
  {
   "cell_type": "markdown",
   "id": "present-signal",
   "metadata": {},
   "source": [
    "##### Count Unique Values"
   ]
  },
  {
   "cell_type": "markdown",
   "id": "major-candy",
   "metadata": {},
   "source": [
    "##### Create Column Index"
   ]
  },
  {
   "cell_type": "markdown",
   "id": "temporal-supply",
   "metadata": {},
   "source": [
    "##### Create PostgreSQL Database With Python"
   ]
  },
  {
   "cell_type": "markdown",
   "id": "indoor-array",
   "metadata": {},
   "source": [
    "##### Create Subquery"
   ]
  },
  {
   "cell_type": "markdown",
   "id": "sustainable-portfolio",
   "metadata": {},
   "source": [
    "##### Create View"
   ]
  },
  {
   "cell_type": "markdown",
   "id": "hollywood-crash",
   "metadata": {},
   "source": [
    "##### Delete View"
   ]
  },
  {
   "cell_type": "markdown",
   "id": "supposed-knight",
   "metadata": {},
   "source": [
    "##### Examine A Query"
   ]
  },
  {
   "cell_type": "markdown",
   "id": "artificial-medicine",
   "metadata": {},
   "source": [
    "##### Group Rows"
   ]
  },
  {
   "cell_type": "markdown",
   "id": "medieval-fluid",
   "metadata": {},
   "source": [
    "##### Group Rows With Conditions"
   ]
  },
  {
   "cell_type": "markdown",
   "id": "latin-knife",
   "metadata": {},
   "source": [
    "##### If Else"
   ]
  },
  {
   "cell_type": "markdown",
   "id": "adjacent-radar",
   "metadata": {},
   "source": [
    "##### List Index Columns"
   ]
  },
  {
   "cell_type": "markdown",
   "id": "black-constitutional",
   "metadata": {},
   "source": [
    "##### List Tables In Database"
   ]
  },
  {
   "cell_type": "markdown",
   "id": "alive-habitat",
   "metadata": {},
   "source": [
    "##### Rename Columns In Views"
   ]
  },
  {
   "cell_type": "markdown",
   "id": "finnish-department",
   "metadata": {},
   "source": [
    "##### Replace Missing Values"
   ]
  },
  {
   "cell_type": "markdown",
   "id": "furnished-density",
   "metadata": {},
   "source": [
    "##### Retrieve Only A Few Rows"
   ]
  },
  {
   "cell_type": "markdown",
   "id": "headed-neutral",
   "metadata": {},
   "source": [
    "##### Retrieve Random Subset Of Rows"
   ]
  },
  {
   "cell_type": "markdown",
   "id": "charming-image",
   "metadata": {},
   "source": [
    "##### Retrieve Row"
   ]
  },
  {
   "cell_type": "markdown",
   "id": "focused-sullivan",
   "metadata": {},
   "source": [
    "##### Retrieve Rows Based On Condition"
   ]
  },
  {
   "cell_type": "markdown",
   "id": "similar-distinction",
   "metadata": {
    "tags": []
   },
   "source": [
    "##### Retrieve Rows Based On Multiple Condition"
   ]
  },
  {
   "cell_type": "markdown",
   "id": "legislative-samuel",
   "metadata": {
    "tags": []
   },
   "source": [
    "##### Retrieve Subset Of Columns"
   ]
  },
  {
   "cell_type": "markdown",
   "id": "demanding-wellington",
   "metadata": {
    "tags": []
   },
   "source": [
    "##### Retrieving Missing Values"
   ]
  },
  {
   "cell_type": "markdown",
   "id": "overhead-netherlands",
   "metadata": {
    "tags": []
   },
   "source": [
    "##### Save Queries As Variables"
   ]
  },
  {
   "cell_type": "markdown",
   "id": "therapeutic-intelligence",
   "metadata": {
    "tags": []
   },
   "source": [
    "##### Select Highest Value In Each Group"
   ]
  },
  {
   "cell_type": "markdown",
   "id": "coupled-contest",
   "metadata": {
    "tags": []
   },
   "source": [
    "##### Select Values Between Two Values"
   ]
  },
  {
   "cell_type": "markdown",
   "id": "useful-following",
   "metadata": {
    "tags": []
   },
   "source": [
    "##### Sort Rows"
   ]
  },
  {
   "cell_type": "markdown",
   "id": "unique-blend",
   "metadata": {
    "tags": []
   },
   "source": [
    "##### Sort Rows In Groups"
   ]
  },
  {
   "cell_type": "markdown",
   "id": "accompanied-sport",
   "metadata": {
    "tags": []
   },
   "source": [
    "##### Test If Rows Exist In Subquery"
   ]
  },
  {
   "cell_type": "markdown",
   "id": "surprised-blair",
   "metadata": {
    "tags": []
   },
   "source": [
    "##### Use Column Aliases With Where Clause"
   ]
  },
  {
   "cell_type": "markdown",
   "id": "reliable-parent",
   "metadata": {
    "tags": []
   },
   "source": [
    "##### Value Matches Element Of A List"
   ]
  },
  {
   "cell_type": "markdown",
   "id": "fifth-anxiety",
   "metadata": {
    "tags": []
   },
   "source": [
    "##### View Unique Values"
   ]
  },
  {
   "cell_type": "markdown",
   "id": "preliminary-action",
   "metadata": {
    "heading_collapsed": "true",
    "tags": []
   },
   "source": [
    "#### Add, Delete, Change Rows"
   ]
  },
  {
   "cell_type": "markdown",
   "id": "julian-perspective",
   "metadata": {},
   "source": [
    "- Add Column\n",
    "- Change Values\n",
    "- Create Column Aliases\n",
    "- Create Column Conditional On Another Column\n",
    "- Create Column Of Values\n",
    "- Create Primary Key\n",
    "- Delete All Rows\n",
    "- Delete Duplicates\n",
    "- Delete Primary Key\n",
    "- Delete Rows\n",
    "- Delete Rows That Don't Exist In Another Table\n",
    "- Export To CSV\n",
    "- Import CSV\n",
    "- Insert Rows\n",
    "- Update Rows Based On Another Table"
   ]
  },
  {
   "cell_type": "markdown",
   "id": "least-accordance",
   "metadata": {},
   "source": [
    "##### Add Column"
   ]
  },
  {
   "cell_type": "markdown",
   "id": "proved-insider",
   "metadata": {},
   "source": [
    "##### Change Values"
   ]
  },
  {
   "cell_type": "markdown",
   "id": "favorite-words",
   "metadata": {},
   "source": [
    "##### Create Column Aliases"
   ]
  },
  {
   "cell_type": "markdown",
   "id": "infectious-proportion",
   "metadata": {},
   "source": [
    "##### Create Column Conditional On Another Column"
   ]
  },
  {
   "cell_type": "markdown",
   "id": "nutritional-company",
   "metadata": {},
   "source": [
    "##### Create Column Of Values"
   ]
  },
  {
   "cell_type": "markdown",
   "id": "standard-tours",
   "metadata": {},
   "source": [
    "##### Create Primary Key"
   ]
  },
  {
   "cell_type": "markdown",
   "id": "occasional-kitty",
   "metadata": {},
   "source": [
    "##### Delete All Rows"
   ]
  },
  {
   "cell_type": "markdown",
   "id": "regulation-cowboy",
   "metadata": {},
   "source": [
    "##### Delete Duplicates"
   ]
  },
  {
   "cell_type": "markdown",
   "id": "republican-brother",
   "metadata": {},
   "source": [
    "##### Delete Primary Key"
   ]
  },
  {
   "cell_type": "markdown",
   "id": "complimentary-asian",
   "metadata": {},
   "source": [
    "##### Delete Rows"
   ]
  },
  {
   "cell_type": "markdown",
   "id": "collective-license",
   "metadata": {},
   "source": [
    "##### Delete Rows That Don't Exist In Another Table"
   ]
  },
  {
   "cell_type": "markdown",
   "id": "moved-heavy",
   "metadata": {},
   "source": [
    "##### Export To CSV"
   ]
  },
  {
   "cell_type": "markdown",
   "id": "subsequent-america",
   "metadata": {},
   "source": [
    "##### Import CSV"
   ]
  },
  {
   "cell_type": "markdown",
   "id": "filled-dietary",
   "metadata": {},
   "source": [
    "##### Insert Rows"
   ]
  },
  {
   "cell_type": "markdown",
   "id": "varied-print",
   "metadata": {},
   "source": [
    "##### Update Rows Based On Another Table"
   ]
  },
  {
   "cell_type": "markdown",
   "id": "labeled-puzzle",
   "metadata": {
    "heading_collapsed": "true",
    "tags": []
   },
   "source": [
    "#### Merging and Joining"
   ]
  },
  {
   "cell_type": "markdown",
   "id": "japanese-politics",
   "metadata": {},
   "source": [
    "- All Unique Values In Two Tables\n",
    "- Cartesian Product Of Tables\n",
    "- Concatenate Multiple Table\n",
    "- Find Values In Both Tables\n",
    "- Find Values In One Table And Not Another\n",
    "- Inner Join Tables\n",
    "- Join Multiple Table\n",
    "- Left Join Tables\n",
    "- Outer Join Tables\n",
    "- Right Join Tables\n",
    "- Self Join Table\n",
    "- Stack Tables"
   ]
  },
  {
   "cell_type": "markdown",
   "id": "future-wagner",
   "metadata": {},
   "source": [
    "##### All Unique Values In Two Tables"
   ]
  },
  {
   "cell_type": "markdown",
   "id": "organic-millennium",
   "metadata": {},
   "source": [
    "##### Cartesian Product Of Tables"
   ]
  },
  {
   "cell_type": "markdown",
   "id": "documentary-clerk",
   "metadata": {},
   "source": [
    "##### Concatenate Multiple Table"
   ]
  },
  {
   "cell_type": "markdown",
   "id": "armed-sapphire",
   "metadata": {},
   "source": [
    "##### Find Values In Both Tables"
   ]
  },
  {
   "cell_type": "markdown",
   "id": "metallic-gross",
   "metadata": {},
   "source": [
    "##### Find Values In One Table And Not Another"
   ]
  },
  {
   "cell_type": "markdown",
   "id": "literary-performer",
   "metadata": {},
   "source": [
    "##### Inner Join Tables"
   ]
  },
  {
   "cell_type": "markdown",
   "id": "cooperative-slide",
   "metadata": {},
   "source": [
    "##### Join Multiple Table"
   ]
  },
  {
   "cell_type": "markdown",
   "id": "proper-elephant",
   "metadata": {},
   "source": [
    "##### Left Join Tables"
   ]
  },
  {
   "cell_type": "markdown",
   "id": "narrative-uzbekistan",
   "metadata": {},
   "source": [
    "##### Outer Join Tables"
   ]
  },
  {
   "cell_type": "markdown",
   "id": "extended-economics",
   "metadata": {},
   "source": [
    "##### Right Join Tables"
   ]
  },
  {
   "cell_type": "markdown",
   "id": "drawn-ending",
   "metadata": {},
   "source": [
    "##### Self Join Table"
   ]
  },
  {
   "cell_type": "markdown",
   "id": "surprised-jersey",
   "metadata": {},
   "source": [
    "##### Stack Tables"
   ]
  },
  {
   "cell_type": "markdown",
   "id": "outstanding-status",
   "metadata": {
    "heading_collapsed": "true",
    "tags": []
   },
   "source": [
    "#### Tables"
   ]
  },
  {
   "cell_type": "markdown",
   "id": "promotional-bronze",
   "metadata": {},
   "source": [
    "- Copy Table Structure\n",
    "- Create Table\n",
    "- Create Table With Default Values\n",
    "- Create Table With UUIDs\n",
    "- Create Temporary Table\n",
    "- Delete Table\n",
    "- Delete Table With Views\n",
    "- Duplicate Table\n",
    "- List Columns In Table\n",
    "- Show Column Information\n",
    "- View Size Of Table"
   ]
  },
  {
   "cell_type": "markdown",
   "id": "innocent-tenant",
   "metadata": {},
   "source": [
    "##### Copy Table Structure"
   ]
  },
  {
   "cell_type": "markdown",
   "id": "involved-formula",
   "metadata": {},
   "source": [
    "##### Create Table"
   ]
  },
  {
   "cell_type": "markdown",
   "id": "classified-aruba",
   "metadata": {},
   "source": [
    "##### Create Table With Default Values"
   ]
  },
  {
   "cell_type": "markdown",
   "id": "excess-office",
   "metadata": {},
   "source": [
    "##### Create Table With UUIDs"
   ]
  },
  {
   "cell_type": "markdown",
   "id": "activated-pocket",
   "metadata": {},
   "source": [
    "##### Create Temporary Table"
   ]
  },
  {
   "cell_type": "markdown",
   "id": "irish-murray",
   "metadata": {},
   "source": [
    "##### Delete Table"
   ]
  },
  {
   "cell_type": "markdown",
   "id": "relevant-music",
   "metadata": {},
   "source": [
    "##### Delete Table With Views"
   ]
  },
  {
   "cell_type": "markdown",
   "id": "double-avatar",
   "metadata": {},
   "source": [
    "##### Duplicate Table"
   ]
  },
  {
   "cell_type": "markdown",
   "id": "original-adrian",
   "metadata": {},
   "source": [
    "##### List Columns In Table"
   ]
  },
  {
   "cell_type": "markdown",
   "id": "binding-snapshot",
   "metadata": {},
   "source": [
    "##### Show Column Information"
   ]
  },
  {
   "cell_type": "markdown",
   "id": "finite-progressive",
   "metadata": {},
   "source": [
    "##### View Size Of Table"
   ]
  },
  {
   "cell_type": "markdown",
   "id": "artificial-directory",
   "metadata": {
    "heading_collapsed": "true",
    "tags": []
   },
   "source": [
    "#### Text"
   ]
  },
  {
   "cell_type": "markdown",
   "id": "relative-composite",
   "metadata": {},
   "source": [
    "- Concatenate Values\n",
    "- Extract Characters From Strings\n",
    "- Lower And Upper Case\n",
    "- Partial String Match"
   ]
  },
  {
   "cell_type": "markdown",
   "id": "moral-amber",
   "metadata": {},
   "source": [
    "##### Concatenate Values"
   ]
  },
  {
   "cell_type": "markdown",
   "id": "smaller-register",
   "metadata": {},
   "source": [
    "##### Extract Characters From Strings"
   ]
  },
  {
   "cell_type": "markdown",
   "id": "flying-catholic",
   "metadata": {},
   "source": [
    "##### Lower And Upper Case"
   ]
  },
  {
   "cell_type": "markdown",
   "id": "eastern-wagner",
   "metadata": {},
   "source": [
    "##### Partial String Match"
   ]
  },
  {
   "cell_type": "markdown",
   "id": "anonymous-sydney",
   "metadata": {
    "heading_collapsed": "true",
    "tags": []
   },
   "source": [
    "#### Numeric"
   ]
  },
  {
   "cell_type": "markdown",
   "id": "thick-madrid",
   "metadata": {},
   "source": [
    "- Calculate Max, Min, Or Average Of Column\n",
    "- Calculate Running Total\n",
    "- Calculate Sum Of Column\n",
    "- Convert Floats To Integers\n",
    "- Mathematical Operations On Columns"
   ]
  },
  {
   "cell_type": "markdown",
   "id": "southwest-august",
   "metadata": {},
   "source": [
    "##### Calculate Max, Min, Or Average Of Column"
   ]
  },
  {
   "cell_type": "markdown",
   "id": "designed-least",
   "metadata": {},
   "source": [
    "##### Calculate Running Total"
   ]
  },
  {
   "cell_type": "markdown",
   "id": "initial-lodge",
   "metadata": {},
   "source": [
    "##### Calculate Sum Of Column"
   ]
  },
  {
   "cell_type": "markdown",
   "id": "renewable-latest",
   "metadata": {},
   "source": [
    "##### Convert Floats To Integers"
   ]
  },
  {
   "cell_type": "markdown",
   "id": "curious-raleigh",
   "metadata": {},
   "source": [
    "##### Mathematical Operations On Columns"
   ]
  },
  {
   "cell_type": "markdown",
   "id": "peripheral-television",
   "metadata": {
    "heading_collapsed": "true",
    "tags": []
   },
   "source": [
    "#### Dates"
   ]
  },
  {
   "cell_type": "markdown",
   "id": "imported-sailing",
   "metadata": {},
   "source": [
    "- Adding Or Substracting Time\n",
    "- Calculate Time Duration"
   ]
  },
  {
   "cell_type": "markdown",
   "id": "differential-publication",
   "metadata": {},
   "source": [
    "##### Adding Or Substracting Time"
   ]
  },
  {
   "cell_type": "markdown",
   "id": "korean-wrist",
   "metadata": {},
   "source": [
    "##### Calculate Time Duration"
   ]
  },
  {
   "cell_type": "markdown",
   "id": "hollow-bangladesh",
   "metadata": {
    "heading_collapsed": "true",
    "tags": []
   },
   "source": [
    "#### Interview Questions"
   ]
  },
  {
   "cell_type": "markdown",
   "id": "heavy-reach",
   "metadata": {},
   "source": [
    "- Calculate Requests Sent\n",
    "- Sort By Natural Ordering\n",
    "- What Happens When You Add NULL And Integer"
   ]
  },
  {
   "cell_type": "markdown",
   "id": "sustainable-stevens",
   "metadata": {},
   "source": [
    "##### Calculate Requests Sent"
   ]
  },
  {
   "cell_type": "markdown",
   "id": "analyzed-bullet",
   "metadata": {},
   "source": [
    "##### Sort By Natural Ordering"
   ]
  },
  {
   "cell_type": "markdown",
   "id": "hired-census",
   "metadata": {
    "heading_collapsed": "true",
    "tags": []
   },
   "source": [
    "##### What Happens When You Add NULL And Integer"
   ]
  },
  {
   "cell_type": "markdown",
   "id": "recovered-update",
   "metadata": {
    "heading_collapsed": "true",
    "tags": []
   },
   "source": [
    "### Computer Science"
   ]
  },
  {
   "cell_type": "markdown",
   "id": "adopted-beatles",
   "metadata": {
    "heading_collapsed": "true",
    "tags": []
   },
   "source": [
    "#### Algorithms"
   ]
  },
  {
   "cell_type": "markdown",
   "id": "animated-freight",
   "metadata": {},
   "source": [
    "- Big-O Notation\n",
    "- Binary Search\n",
    "- Bubble Sort\n",
    "- Insertion Sort\n",
    "- Selection Sort"
   ]
  },
  {
   "cell_type": "markdown",
   "id": "charged-combining",
   "metadata": {},
   "source": [
    "##### Big-O Notation"
   ]
  },
  {
   "cell_type": "markdown",
   "id": "contained-peoples",
   "metadata": {},
   "source": [
    "##### Binary Search"
   ]
  },
  {
   "cell_type": "markdown",
   "id": "alone-mileage",
   "metadata": {},
   "source": [
    "##### Bubble Sort"
   ]
  },
  {
   "cell_type": "markdown",
   "id": "sharing-theater",
   "metadata": {},
   "source": [
    "##### Insertion Sort"
   ]
  },
  {
   "cell_type": "markdown",
   "id": "removed-computer",
   "metadata": {},
   "source": [
    "##### Selection Sort"
   ]
  },
  {
   "cell_type": "markdown",
   "id": "formal-compensation",
   "metadata": {
    "heading_collapsed": "true",
    "tags": []
   },
   "source": [
    "## DevOp"
   ]
  },
  {
   "cell_type": "markdown",
   "id": "latest-identifier",
   "metadata": {
    "heading_collapsed": "true",
    "tags": []
   },
   "source": [
    "### ML Engineering"
   ]
  },
  {
   "cell_type": "markdown",
   "id": "treated-consistency",
   "metadata": {
    "heading_collapsed": "true",
    "tags": []
   },
   "source": [
    "#### YAML"
   ]
  },
  {
   "cell_type": "markdown",
   "id": "optional-masters",
   "metadata": {},
   "source": [
    "- Basic YAML File\n",
    "- Comments\n",
    "- Key-Value Pairs\n",
    "- Lists\n",
    "- Multiline Strings\n",
    "- Strings"
   ]
  },
  {
   "cell_type": "markdown",
   "id": "wooden-republic",
   "metadata": {},
   "source": [
    "##### Basic YAML File"
   ]
  },
  {
   "cell_type": "markdown",
   "id": "outer-intro",
   "metadata": {},
   "source": [
    "##### Comments"
   ]
  },
  {
   "cell_type": "markdown",
   "id": "permanent-communication",
   "metadata": {},
   "source": [
    "##### Key-Value Pairs"
   ]
  },
  {
   "cell_type": "markdown",
   "id": "seventh-amsterdam",
   "metadata": {},
   "source": [
    "##### Lists"
   ]
  },
  {
   "cell_type": "markdown",
   "id": "diagnostic-cotton",
   "metadata": {},
   "source": [
    "##### Multiline Strings"
   ]
  },
  {
   "cell_type": "markdown",
   "id": "virgin-tutorial",
   "metadata": {},
   "source": [
    "##### Strings"
   ]
  },
  {
   "cell_type": "markdown",
   "id": "legal-coffee",
   "metadata": {
    "heading_collapsed": "true",
    "tags": []
   },
   "source": [
    "#### Kubeflow"
   ]
  },
  {
   "cell_type": "markdown",
   "id": "external-belarus",
   "metadata": {},
   "source": [
    "- Installing Kubeflow On Ubuntu"
   ]
  },
  {
   "cell_type": "markdown",
   "id": "mexican-farming",
   "metadata": {},
   "source": [
    "##### Installing Kubeflow On Ubuntu"
   ]
  },
  {
   "cell_type": "markdown",
   "id": "hawaiian-attention",
   "metadata": {
    "heading_collapsed": "true",
    "tags": []
   },
   "source": [
    "### Docker"
   ]
  },
  {
   "cell_type": "markdown",
   "id": "available-infrared",
   "metadata": {
    "heading_collapsed": "true",
    "tags": []
   },
   "source": [
    "#### Command Line"
   ]
  },
  {
   "cell_type": "markdown",
   "id": "helpful-depression",
   "metadata": {},
   "source": [
    "- Automatically Generate Human-Readable Container Names\n",
    "- Automatically Restart Containers\n",
    "- Connect Container's Filesystem To Computer's Filesystem\n",
    "- Create A Container\n",
    "- Create An Image\n",
    "- Create Read-Only Filesystems In Containers\n",
    "- Export All Files And Folders Out Of A Container\n",
    "- Get Bash Shell In A Container\n",
    "- Inspect A Container\n",
    "- Inspect An Image\n",
    "- List Containers\n",
    "- Publish To Docker Hub\n",
    "- Pull An Image From A Repository\n",
    "- Remove An Image\n",
    "- Rename A Container\n",
    "- Restart A Container\n",
    "- Run A Detached Container\n",
    "- Save A Container's Bash History\n",
    "- Saving An Image As A File\n",
    "- Set Container To Run A Bash Command On Start\n",
    "- Start A Container\n",
    "- Stop A Container\n",
    "- Use Environment Variables\n",
    "- View All Changes To A Container\n",
    "- View Container Logs\n",
    "- View Image Size\n",
    "- Watch Container Logs Live\n",
    "- Work In A Container"
   ]
  },
  {
   "cell_type": "markdown",
   "id": "controversial-kitchen",
   "metadata": {},
   "source": [
    "##### Automatically Generate Human-Readable Container Names"
   ]
  },
  {
   "cell_type": "markdown",
   "id": "figured-horizontal",
   "metadata": {},
   "source": [
    "##### Automatically Restart Containers"
   ]
  },
  {
   "cell_type": "markdown",
   "id": "contemporary-missouri",
   "metadata": {},
   "source": [
    "##### Connect Container's Filesystem To Computer's Filesystem"
   ]
  },
  {
   "cell_type": "markdown",
   "id": "neural-chess",
   "metadata": {},
   "source": [
    "##### Create A Container"
   ]
  },
  {
   "cell_type": "markdown",
   "id": "educational-headline",
   "metadata": {},
   "source": [
    "##### Create An Image"
   ]
  },
  {
   "cell_type": "markdown",
   "id": "blind-flavor",
   "metadata": {},
   "source": [
    "##### Create Read-Only Filesystems In Containers"
   ]
  },
  {
   "cell_type": "markdown",
   "id": "consecutive-occurrence",
   "metadata": {},
   "source": [
    "##### Export All Files And Folders Out Of A Container"
   ]
  },
  {
   "cell_type": "markdown",
   "id": "passing-eligibility",
   "metadata": {},
   "source": [
    "##### Get Bash Shell In A Container"
   ]
  },
  {
   "cell_type": "markdown",
   "id": "increasing-poker",
   "metadata": {},
   "source": [
    "##### Inspect A Container"
   ]
  },
  {
   "cell_type": "markdown",
   "id": "approved-powell",
   "metadata": {},
   "source": [
    "##### Inspect An Image"
   ]
  },
  {
   "cell_type": "markdown",
   "id": "three-metabolism",
   "metadata": {},
   "source": [
    "##### List Containers"
   ]
  },
  {
   "cell_type": "markdown",
   "id": "textile-corruption",
   "metadata": {},
   "source": [
    "##### Publish To Docker Hub"
   ]
  },
  {
   "cell_type": "markdown",
   "id": "future-outside",
   "metadata": {},
   "source": [
    "##### Pull An Image From A Repository"
   ]
  },
  {
   "cell_type": "markdown",
   "id": "electrical-factor",
   "metadata": {},
   "source": [
    "##### Remove An Image"
   ]
  },
  {
   "cell_type": "markdown",
   "id": "official-egypt",
   "metadata": {},
   "source": [
    "##### Rename A Container"
   ]
  },
  {
   "cell_type": "markdown",
   "id": "white-vision",
   "metadata": {},
   "source": [
    "##### Restart A Container"
   ]
  },
  {
   "cell_type": "markdown",
   "id": "frequent-chapel",
   "metadata": {},
   "source": [
    "##### Run A Detached Container"
   ]
  },
  {
   "cell_type": "markdown",
   "id": "informal-channel",
   "metadata": {},
   "source": [
    "##### Save A Container's Bash History"
   ]
  },
  {
   "cell_type": "markdown",
   "id": "royal-yemen",
   "metadata": {},
   "source": [
    "##### Saving An Image As A File"
   ]
  },
  {
   "cell_type": "markdown",
   "id": "higher-alfred",
   "metadata": {},
   "source": [
    "##### Set Container To Run A Bash Command On Start"
   ]
  },
  {
   "cell_type": "markdown",
   "id": "operational-toilet",
   "metadata": {},
   "source": [
    "##### Start A Container"
   ]
  },
  {
   "cell_type": "markdown",
   "id": "unlikely-alaska",
   "metadata": {},
   "source": [
    "##### Stop A Container"
   ]
  },
  {
   "cell_type": "markdown",
   "id": "minute-engineer",
   "metadata": {},
   "source": [
    "##### Use Environment Variables"
   ]
  },
  {
   "cell_type": "markdown",
   "id": "oriented-circus",
   "metadata": {},
   "source": [
    "##### View All Changes To A Container"
   ]
  },
  {
   "cell_type": "markdown",
   "id": "suffering-contest",
   "metadata": {},
   "source": [
    "##### View Container Logs"
   ]
  },
  {
   "cell_type": "markdown",
   "id": "welcome-universe",
   "metadata": {},
   "source": [
    "##### View Image Size"
   ]
  },
  {
   "cell_type": "markdown",
   "id": "verified-finding",
   "metadata": {},
   "source": [
    "##### Watch Container Logs Live"
   ]
  },
  {
   "cell_type": "markdown",
   "id": "opponent-passenger",
   "metadata": {},
   "source": [
    "##### Work In A Container"
   ]
  },
  {
   "cell_type": "markdown",
   "id": "enclosed-reynolds",
   "metadata": {
    "heading_collapsed": "true",
    "tags": []
   },
   "source": [
    "#### Dockerfiles"
   ]
  },
  {
   "cell_type": "markdown",
   "id": "dietary-pottery",
   "metadata": {},
   "source": [
    "- Add A File From A URL To Images\n",
    "- Add A Volume\n",
    "- Add Comments\n",
    "- Add Environment Variables\n",
    "- Add Files And Folders To Images\n",
    "- Add Metadata\n",
    "- Expose A Port\n",
    "- Ignore Files While Building\n",
    "- Run Command When Container Starts\n",
    "- Run Command While Building Image\n",
    "- Run Commands As A User\n",
    "- Run Many Commands While Building Image\n",
    "- Set A Default Working Directory\n",
    "- Set Default Working Directory"
   ]
  },
  {
   "cell_type": "markdown",
   "id": "incorporate-vacation",
   "metadata": {},
   "source": [
    "##### Add A File From A URL To Images"
   ]
  },
  {
   "cell_type": "markdown",
   "id": "general-helena",
   "metadata": {},
   "source": [
    "##### Add A Volume"
   ]
  },
  {
   "cell_type": "markdown",
   "id": "ordered-worship",
   "metadata": {},
   "source": [
    "##### Add Comments"
   ]
  },
  {
   "cell_type": "markdown",
   "id": "corporate-tissue",
   "metadata": {},
   "source": [
    "##### Add Environment Variables"
   ]
  },
  {
   "cell_type": "markdown",
   "id": "union-nerve",
   "metadata": {},
   "source": [
    "##### Add Files And Folders To Images"
   ]
  },
  {
   "cell_type": "markdown",
   "id": "becoming-directory",
   "metadata": {},
   "source": [
    "##### Add Metadata"
   ]
  },
  {
   "cell_type": "markdown",
   "id": "institutional-governor",
   "metadata": {},
   "source": [
    "##### Expose A Port"
   ]
  },
  {
   "cell_type": "markdown",
   "id": "eight-nowhere",
   "metadata": {},
   "source": [
    "##### Ignore Files While Building"
   ]
  },
  {
   "cell_type": "markdown",
   "id": "compressed-session",
   "metadata": {},
   "source": [
    "##### Run Command When Container Starts"
   ]
  },
  {
   "cell_type": "markdown",
   "id": "large-budget",
   "metadata": {},
   "source": [
    "##### Run Command While Building Image"
   ]
  },
  {
   "cell_type": "markdown",
   "id": "following-scanner",
   "metadata": {},
   "source": [
    "##### Run Commands As A User"
   ]
  },
  {
   "cell_type": "markdown",
   "id": "greater-model",
   "metadata": {},
   "source": [
    "##### Run Many Commands While Building Image"
   ]
  },
  {
   "cell_type": "markdown",
   "id": "ethical-wright",
   "metadata": {},
   "source": [
    "##### Set A Default Working Directory"
   ]
  },
  {
   "cell_type": "markdown",
   "id": "horizontal-ministry",
   "metadata": {},
   "source": [
    "##### Set Default Working Directory"
   ]
  },
  {
   "cell_type": "markdown",
   "id": "configured-calibration",
   "metadata": {
    "heading_collapsed": "true",
    "tags": []
   },
   "source": [
    "#### Docker Compose "
   ]
  },
  {
   "cell_type": "markdown",
   "id": "compatible-diamond",
   "metadata": {
    "heading_collapsed": "true",
    "tags": []
   },
   "source": [
    "### Scala"
   ]
  },
  {
   "cell_type": "markdown",
   "id": "arbitrary-happening",
   "metadata": {},
   "source": [
    "- Break A Sequence Into Groups\n",
    "- Change Data Type\n",
    "- Chunk Sequence In Equal Sized Groups\n",
    "- Compare Two Floats\n",
    "- Create A Range\n",
    "- Extract Substrings Using Regex\n",
    "- Filter A Sequence\n",
    "- Find Largest Key Or Value In A Map\n",
    "- Flatten Sequence Of Sequences\n",
    "- For Loop A Map\n",
    "- For Looping\n",
    "- Format Numbers As Currency\n",
    "- If Else\n",
    "- Increment And Decrement Numbers\n",
    "- Insert Variables Into Strings\n",
    "- Iterate Over A Map\n",
    "- Loop A Collection\n",
    "- Make Numbers Pretty\n",
    "- Mapping A Function To A Collection\n",
    "- Matching Conditions\n",
    "- Mutable Maps\n",
    "- N Dimension Arrays\n",
    "- Partial Functions\n",
    "- Random Integer Between Two Values\n",
    "- Replacing Parts Of Strings\n",
    "- Search A Map\n",
    "- Search Strings\n",
    "- Search Strings Using Regex\n",
    "- Set Operations On Sequences\n",
    "- Sorting Sequences\n",
    "- Split Strings\n",
    "- Try, Catch, Finally\n",
    "- Variables And Values\n",
    "- Zip Together Two Lists"
   ]
  },
  {
   "cell_type": "markdown",
   "id": "accurate-processor",
   "metadata": {
    "heading_collapsed": "true",
    "tags": []
   },
   "source": [
    "##### Break A Sequence Into Groups"
   ]
  },
  {
   "cell_type": "markdown",
   "id": "recent-walker",
   "metadata": {
    "heading_collapsed": "true",
    "tags": []
   },
   "source": [
    "##### Change Data Type"
   ]
  },
  {
   "cell_type": "markdown",
   "id": "informed-bernard",
   "metadata": {
    "heading_collapsed": "true",
    "tags": []
   },
   "source": [
    "##### Chunk Sequence In Equal Sized Groups"
   ]
  },
  {
   "cell_type": "markdown",
   "id": "monetary-universal",
   "metadata": {
    "heading_collapsed": "true",
    "tags": []
   },
   "source": [
    "##### Compare Two Floats"
   ]
  },
  {
   "cell_type": "markdown",
   "id": "religious-flashing",
   "metadata": {
    "heading_collapsed": "true",
    "tags": []
   },
   "source": [
    "##### Create A Range"
   ]
  },
  {
   "cell_type": "markdown",
   "id": "assumed-newton",
   "metadata": {
    "heading_collapsed": "true",
    "tags": []
   },
   "source": [
    "##### Extract Substrings Using Regex"
   ]
  },
  {
   "cell_type": "markdown",
   "id": "behind-transformation",
   "metadata": {
    "heading_collapsed": "true",
    "tags": []
   },
   "source": [
    "##### Filter A Sequence"
   ]
  },
  {
   "cell_type": "markdown",
   "id": "activated-nature",
   "metadata": {
    "heading_collapsed": "true",
    "tags": []
   },
   "source": [
    "##### Find Largest Key Or Value In A Map"
   ]
  },
  {
   "cell_type": "markdown",
   "id": "qualified-merchant",
   "metadata": {
    "heading_collapsed": "true",
    "tags": []
   },
   "source": [
    "##### Flatten Sequence Of Sequences"
   ]
  },
  {
   "cell_type": "markdown",
   "id": "extraordinary-gilbert",
   "metadata": {
    "heading_collapsed": "true",
    "tags": []
   },
   "source": [
    "##### For Loop A Map"
   ]
  },
  {
   "cell_type": "markdown",
   "id": "boxed-cathedral",
   "metadata": {
    "heading_collapsed": "true",
    "tags": []
   },
   "source": [
    "##### For Looping"
   ]
  },
  {
   "cell_type": "markdown",
   "id": "cordless-royal",
   "metadata": {
    "heading_collapsed": "true",
    "tags": []
   },
   "source": [
    "##### Format Numbers As Currency"
   ]
  },
  {
   "cell_type": "markdown",
   "id": "determined-newspaper",
   "metadata": {
    "heading_collapsed": "true",
    "tags": []
   },
   "source": [
    "##### If Else"
   ]
  },
  {
   "cell_type": "markdown",
   "id": "painful-procurement",
   "metadata": {
    "heading_collapsed": "true",
    "tags": []
   },
   "source": [
    "##### Increment And Decrement Numbers"
   ]
  },
  {
   "cell_type": "markdown",
   "id": "cleared-harvey",
   "metadata": {
    "heading_collapsed": "true",
    "tags": []
   },
   "source": [
    "##### Insert Variables Into Strings"
   ]
  },
  {
   "cell_type": "markdown",
   "id": "palestinian-lotus",
   "metadata": {
    "heading_collapsed": "true",
    "tags": []
   },
   "source": [
    "##### Iterate Over A Map"
   ]
  },
  {
   "cell_type": "markdown",
   "id": "interior-intake",
   "metadata": {
    "heading_collapsed": "true",
    "tags": []
   },
   "source": [
    "##### Loop A Collection"
   ]
  },
  {
   "cell_type": "markdown",
   "id": "pressing-dressing",
   "metadata": {
    "heading_collapsed": "true",
    "tags": []
   },
   "source": [
    "##### Make Numbers Pretty"
   ]
  },
  {
   "cell_type": "markdown",
   "id": "about-colleague",
   "metadata": {
    "heading_collapsed": "true",
    "tags": []
   },
   "source": [
    "##### Mapping A Function To A Collection"
   ]
  },
  {
   "cell_type": "markdown",
   "id": "whole-wings",
   "metadata": {
    "heading_collapsed": "true",
    "tags": []
   },
   "source": [
    "##### Matching Conditions"
   ]
  },
  {
   "cell_type": "markdown",
   "id": "recovered-marketing",
   "metadata": {
    "heading_collapsed": "true",
    "tags": []
   },
   "source": [
    "##### Mutable Maps"
   ]
  },
  {
   "cell_type": "markdown",
   "id": "operational-shooting",
   "metadata": {
    "heading_collapsed": "true",
    "tags": []
   },
   "source": [
    "##### N Dimension Arrays"
   ]
  },
  {
   "cell_type": "markdown",
   "id": "reserved-external",
   "metadata": {
    "heading_collapsed": "true",
    "tags": []
   },
   "source": [
    "##### Partial Functions"
   ]
  },
  {
   "cell_type": "markdown",
   "id": "pregnant-basis",
   "metadata": {
    "heading_collapsed": "true",
    "tags": []
   },
   "source": [
    "##### Random Integer Between Two Values"
   ]
  },
  {
   "cell_type": "markdown",
   "id": "alien-prescription",
   "metadata": {
    "heading_collapsed": "true",
    "tags": []
   },
   "source": [
    "##### Replacing Parts Of Strings"
   ]
  },
  {
   "cell_type": "markdown",
   "id": "champion-trunk",
   "metadata": {
    "heading_collapsed": "true",
    "tags": []
   },
   "source": [
    "##### Search A Map"
   ]
  },
  {
   "cell_type": "markdown",
   "id": "violent-space",
   "metadata": {
    "heading_collapsed": "true",
    "tags": []
   },
   "source": [
    "##### Search Strings"
   ]
  },
  {
   "cell_type": "markdown",
   "id": "opened-probability",
   "metadata": {
    "heading_collapsed": "true",
    "tags": []
   },
   "source": [
    "##### Search Strings Using Regex"
   ]
  },
  {
   "cell_type": "markdown",
   "id": "enclosed-toner",
   "metadata": {
    "heading_collapsed": "true",
    "tags": []
   },
   "source": [
    "##### Set Operations On Sequences"
   ]
  },
  {
   "cell_type": "markdown",
   "id": "sixth-combination",
   "metadata": {
    "heading_collapsed": "true",
    "tags": []
   },
   "source": [
    "##### Sorting Sequences"
   ]
  },
  {
   "cell_type": "markdown",
   "id": "entire-sport",
   "metadata": {
    "heading_collapsed": "true",
    "tags": []
   },
   "source": [
    "##### Split Strings"
   ]
  },
  {
   "cell_type": "markdown",
   "id": "dress-determination",
   "metadata": {
    "heading_collapsed": "true",
    "tags": []
   },
   "source": [
    "##### Try, Catch, Finally"
   ]
  },
  {
   "cell_type": "markdown",
   "id": "smaller-illness",
   "metadata": {
    "heading_collapsed": "true",
    "tags": []
   },
   "source": [
    "##### Variables And Values"
   ]
  },
  {
   "cell_type": "markdown",
   "id": "geographic-adrian",
   "metadata": {
    "heading_collapsed": "true",
    "tags": []
   },
   "source": [
    "##### Zip Together Two Lists"
   ]
  },
  {
   "cell_type": "markdown",
   "id": "atlantic-bidding",
   "metadata": {
    "heading_collapsed": "true",
    "tags": []
   },
   "source": [
    "### AWS"
   ]
  },
  {
   "cell_type": "markdown",
   "id": "pressing-postcard",
   "metadata": {},
   "source": [
    "- Run Project Jupyter Notebooks On Amazon EC2\n",
    "- Create Bucket\n",
    "- List Buckets"
   ]
  },
  {
   "cell_type": "markdown",
   "id": "arranged-halifax",
   "metadata": {},
   "source": [
    "##### Run Project Jupyter Notebooks On Amazon EC2"
   ]
  },
  {
   "cell_type": "markdown",
   "id": "ongoing-object",
   "metadata": {},
   "source": [
    "##### Create Bucket"
   ]
  },
  {
   "cell_type": "markdown",
   "id": "silver-legend",
   "metadata": {},
   "source": [
    "##### List Buckets"
   ]
  }
 ],
 "metadata": {
  "kernelspec": {
   "display_name": "Python 3",
   "language": "python",
   "name": "python3"
  },
  "language_info": {
   "codemirror_mode": {
    "name": "ipython",
    "version": 3
   },
   "file_extension": ".py",
   "mimetype": "text/x-python",
   "name": "python",
   "nbconvert_exporter": "python",
   "pygments_lexer": "ipython3",
   "version": "3.8.6"
  },
  "toc-autonumbering": false,
  "toc-showcode": false,
  "toc-showmarkdowntxt": false,
  "toc-showtags": false
 },
 "nbformat": 4,
 "nbformat_minor": 5
}
