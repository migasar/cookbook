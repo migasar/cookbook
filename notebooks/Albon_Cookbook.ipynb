{
 "cells": [
  {
   "cell_type": "markdown",
   "id": "alpine-velvet",
   "metadata": {},
   "source": [
    "[Chris Albon's Cookbook](https://chrisalbon.com/)\n",
    "==="
   ]
  },
  {
   "cell_type": "markdown",
   "id": "historical-patrick",
   "metadata": {},
   "source": [
    "> Notes On Using  \n",
    "> **Data Science & Machine Learning**  \n",
    "> To Fight For Something That Matters"
   ]
  },
  {
   "cell_type": "markdown",
   "id": "greater-philip",
   "metadata": {
    "heading_collapsed": "true",
    "tags": []
   },
   "source": [
    "### Machine Learning"
   ]
  },
  {
   "cell_type": "markdown",
   "id": "noticed-folks",
   "metadata": {},
   "source": [
    "#### Basics"
   ]
  },
  {
   "cell_type": "markdown",
   "id": "systematic-emerald",
   "metadata": {},
   "source": [
    "- Loading Features From Dictionaries\n",
    "- Loading Features From Dictionaries\n",
    "- Loading scikit-learn's Boston Housing Dataset\n",
    "- Loading scikit-learn's Digits Dataset\n",
    "- Loading scikit-learn's Iris Dataset\n",
    "- Make Simulated Data For Classification\n",
    "- Make Simulated Data For Clustering\n",
    "- Make Simulated Data For Regression\n",
    "- Perceptron In Scikit\n",
    "- Saving Machine Learning Models"
   ]
  },
  {
   "cell_type": "markdown",
   "id": "orange-strip",
   "metadata": {},
   "source": [
    "#### Vectors, Matrices, and Arrays"
   ]
  },
  {
   "cell_type": "markdown",
   "id": "coral-collaboration",
   "metadata": {},
   "source": [
    "- Adding And Subtracting Matrices\n",
    "- Apply Operations To Elements\n",
    "- Calculate Dot Product Of Two Vectors\n",
    "- Calculate The Average, Variance, And Standard Deviation\n",
    "- Calculate The Determinant Of A Matrix\n",
    "- Calculate The Trace Of A Matrix\n",
    "- Converting A Dictionary Into A Matrix\n",
    "- Create A Matrix\n",
    "- Create A Sparse Matrix\n",
    "- Create A Vector\n",
    "- Describe An Array\n",
    "- Find The Maximum And Minimum\n",
    "- Find The Rank Of A Matrix\n",
    "- Flatten A Matrix\n",
    "- Getting The Diagonal Of A Matrix\n",
    "- Invert A Matrix\n",
    "- Reshape An Array\n",
    "- Selecting Elements In An Array\n",
    "- Transpose A Vector Or Matrix"
   ]
  },
  {
   "cell_type": "markdown",
   "id": "environmental-desperate",
   "metadata": {},
   "source": [
    "#### Preprocessing Structured Data"
   ]
  },
  {
   "cell_type": "markdown",
   "id": "adaptive-villa",
   "metadata": {},
   "source": [
    "\n",
    "\n",
    "    Convert Pandas Categorical Data For Scikit-Learn\n",
    "    Delete Observations With Missing Values\n",
    "    Deleting Missing Values\n",
    "    Detecting Outliers\n",
    "    Discretize Features\n",
    "    Encoding Ordinal Categorical Features\n",
    "    Handling Imbalanced Classes With Downsampling\n",
    "    Handling Imbalanced Classes With Upsampling\n",
    "    Handling Outliers\n",
    "    Impute Missing Values With Means\n",
    "    Imputing Missing Class Labels\n",
    "    Imputing Missing Class Labels Using k-Nearest Neighbors\n",
    "    Normalizing Observations\n",
    "    One-Hot Encode Features With Multiple Labels\n",
    "    One-Hot Encode Nominal Categorical Features\n",
    "    Preprocessing Categorical Features\n",
    "    Preprocessing Iris Data\n",
    "    Rescale A Feature\n",
    "    Standardize A Feature\n",
    "\n"
   ]
  },
  {
   "cell_type": "markdown",
   "id": "divine-reference",
   "metadata": {},
   "source": [
    "#### Preprocessing Images"
   ]
  },
  {
   "cell_type": "markdown",
   "id": "engaged-convention",
   "metadata": {},
   "source": [
    "\n",
    "\n",
    "    Binarize Images\n",
    "    Blurring Images\n",
    "    Cropping Images\n",
    "    Detect Edges\n",
    "    Enhance Contrast Of Color Image\n",
    "    Enhance Contrast Of Greyscale Image\n",
    "    Harris Corner Detector\n",
    "    Installing OpenCV\n",
    "    Isolate Colors\n",
    "    Load Images\n",
    "    Remove Backgrounds\n",
    "    Save Images\n",
    "    Sharpen Images\n",
    "    Shi-Tomasi Corner Detector\n",
    "    Using Mean Color As A Feature\n",
    "\n"
   ]
  },
  {
   "cell_type": "markdown",
   "id": "faced-laptop",
   "metadata": {},
   "source": [
    "#### Preprocessing Text"
   ]
  },
  {
   "cell_type": "markdown",
   "id": "hairy-anniversary",
   "metadata": {},
   "source": [
    "\n",
    "\n",
    "    Bag Of Words\n",
    "    Parse HTML\n",
    "    Remove Punctuation\n",
    "    Remove Stop Words\n",
    "    Replace Characters\n",
    "    Stemming Words\n",
    "    Strip Whitespace\n",
    "    Tag Parts Of Speech\n",
    "    Term Frequency Inverse Document Frequency\n",
    "    Tokenize Text\n",
    "\n"
   ]
  },
  {
   "cell_type": "markdown",
   "id": "effective-jumping",
   "metadata": {},
   "source": [
    "#### Preprocessing Dates and Times"
   ]
  },
  {
   "cell_type": "markdown",
   "id": "further-leave",
   "metadata": {},
   "source": [
    "\n",
    "\n",
    "    Break Up Dates And Times Into Multiple Features\n",
    "    Calculate Difference Between Dates And Times\n",
    "    Convert pandas Columns Time Zone\n",
    "    Convert Strings To Dates\n",
    "    Encode Days Of The Week\n",
    "    Handling Missing Values In Time Series\n",
    "    Handling Time Zones\n",
    "    Lag A Time Feature\n",
    "    Rolling Time Window\n",
    "    Select Date And Time Ranges\n",
    "\n"
   ]
  },
  {
   "cell_type": "markdown",
   "id": "moral-journalist",
   "metadata": {},
   "source": [
    "#### Feature Engineering"
   ]
  },
  {
   "cell_type": "markdown",
   "id": "previous-rebel",
   "metadata": {},
   "source": [
    "\n",
    "\n",
    "    Dimensionality Reduction On Sparse Feature Matrix\n",
    "    Dimensionality Reduction With Kernel PCA\n",
    "    Dimensionality Reduction With PCA\n",
    "    Feature Extraction With PCA\n",
    "    Group Observations Using K-Means Clustering\n",
    "    Selecting The Best Number Of Components For LDA\n",
    "    Selecting The Best Number Of Components For TSVD\n",
    "    Using Linear Discriminant Analysis For Dimensionality Reduction\n",
    "\n"
   ]
  },
  {
   "cell_type": "markdown",
   "id": "incredible-reference",
   "metadata": {},
   "source": [
    "#### Feature Selection"
   ]
  },
  {
   "cell_type": "markdown",
   "id": "tribal-center",
   "metadata": {},
   "source": [
    "\n",
    "\n",
    "    ANOVA F-value For Feature Selection\n",
    "    Chi-Squared For Feature Selection\n",
    "    Drop Highly Correlated Features\n",
    "    Recursive Feature Elimination\n",
    "    Variance Thresholding Binary Features\n",
    "    Variance Thresholding For Feature Selection\n",
    "\n"
   ]
  },
  {
   "cell_type": "markdown",
   "id": "virtual-commander",
   "metadata": {},
   "source": [
    "#### Model Evaluation"
   ]
  },
  {
   "cell_type": "markdown",
   "id": "noticed-trust",
   "metadata": {},
   "source": [
    "\n",
    "\n",
    "    Accuracy\n",
    "    Create Baseline Classification Model\n",
    "    Create Baseline Regression Model\n",
    "    Cross Validation Pipeline\n",
    "    Cross Validation With Parameter Tuning Using Grid Search\n",
    "    Cross-Validation\n",
    "    Custom Performance Metric\n",
    "    F1 Score\n",
    "    Generate Text Reports On Performance\n",
    "    Nested Cross Validation\n",
    "    Plot The Learning Curve\n",
    "    Plot The Receiving Operating Characteristic Curve\n",
    "    Plot The Validation Curve\n",
    "    Precision\n",
    "    Recall\n",
    "    Split Data Into Training And Test Sets\n",
    "\n"
   ]
  },
  {
   "cell_type": "markdown",
   "id": "exempt-desktop",
   "metadata": {},
   "source": [
    "#### Model Selection"
   ]
  },
  {
   "cell_type": "markdown",
   "id": "authorized-accent",
   "metadata": {},
   "source": [
    "\n",
    "\n",
    "    Find Best Preprocessing Steps During Model Selection\n",
    "    Hyperparameter Tuning Using Grid Search\n",
    "    Hyperparameter Tuning Using Random Search\n",
    "    Model Selection Using Grid Search\n",
    "    Pipelines With Parameter Optimization\n",
    "\n"
   ]
  },
  {
   "cell_type": "markdown",
   "id": "administrative-google",
   "metadata": {},
   "source": [
    "#### Linear Regression"
   ]
  },
  {
   "cell_type": "markdown",
   "id": "diverse-chicken",
   "metadata": {},
   "source": [
    "\n",
    "\n",
    "    Adding Interaction Terms\n",
    "    Create Interaction Features\n",
    "    Effect Of Alpha On Lasso Regression\n",
    "    Lasso Regression\n",
    "    Linear Regression\n",
    "    Linear Regression Using Scikit-Learn\n",
    "    Ridge Regression\n",
    "    Selecting The Best Alpha Value In Ridge Regression\n",
    "\n"
   ]
  },
  {
   "cell_type": "markdown",
   "id": "responsible-signal",
   "metadata": {},
   "source": [
    "#### Logistic Regression"
   ]
  },
  {
   "cell_type": "markdown",
   "id": "democratic-sheet",
   "metadata": {},
   "source": [
    "\n",
    "\n",
    "    Fast C Hyperparameter Tuning\n",
    "    Handling Imbalanced Classes In Logistic Regression\n",
    "    Logistic Regression\n",
    "    Logistic Regression On Very Large Data\n",
    "    Logistic Regression With L1 Regularization\n",
    "    One Vs. Rest Logistic Regression\n",
    "\n"
   ]
  },
  {
   "cell_type": "markdown",
   "id": "religious-trigger",
   "metadata": {},
   "source": [
    "#### Trees and Forests"
   ]
  },
  {
   "cell_type": "markdown",
   "id": "blocked-bulgaria",
   "metadata": {},
   "source": [
    "\n",
    "\n",
    "    Outlier Detection With Isolation Forests\n",
    "    Adaboost Classifier\n",
    "    Decision Tree Classifier\n",
    "    Decision Tree Regression\n",
    "    Feature Importance\n",
    "    Feature Selection Using Random Forest\n",
    "    Handle Imbalanced Classes In Random Forest\n",
    "    Random Forest Classifier\n",
    "    Random Forest Classifier Example\n",
    "    Random Forest Regression\n",
    "    Select Important Features In Random Forest\n",
    "    Titanic Competition With Random Forest\n",
    "    Visualize A Decision Tree\n",
    "\n"
   ]
  },
  {
   "cell_type": "markdown",
   "id": "informational-confidentiality",
   "metadata": {},
   "source": [
    "#### Nearest Neighbors"
   ]
  },
  {
   "cell_type": "markdown",
   "id": "detected-resource",
   "metadata": {},
   "source": [
    "\n",
    "\n",
    "    Identifying Best Value Of k\n",
    "    K-Nearest Neighbors Classification\n",
    "    Radius-Based Nearest Neighbor Classifier\n",
    "\n"
   ]
  },
  {
   "cell_type": "markdown",
   "id": "changed-uganda",
   "metadata": {},
   "source": [
    "#### Support Vector Machines"
   ]
  },
  {
   "cell_type": "markdown",
   "id": "adequate-address",
   "metadata": {},
   "source": [
    "\n",
    "\n",
    "    Calibrate Predicted Probabilities In SVC\n",
    "    Find Nearest Neighbors\n",
    "    Find Support Vectors\n",
    "    Imbalanced Classes In SVM\n",
    "    Plot The Support Vector Classifiers Hyperplane\n",
    "    Support Vector Classifier\n",
    "    SVC Parameters When Using RBF Kernel\n",
    "\n"
   ]
  },
  {
   "cell_type": "markdown",
   "id": "systematic-optimization",
   "metadata": {},
   "source": [
    "#### Naive Bayes"
   ]
  },
  {
   "cell_type": "markdown",
   "id": "unsigned-documentation",
   "metadata": {},
   "source": [
    "\n",
    "\n",
    "    Bernoulli Naive Bayes Classifier\n",
    "    Calibrate Predicted Probabilities\n",
    "    Gaussian Naive Bayes Classifier\n",
    "    Multinomial Logistic Regression\n",
    "    Multinomial Naive Bayes Classifier\n",
    "    Naive Bayes Classifier From Scratch\n",
    "\n"
   ]
  },
  {
   "cell_type": "markdown",
   "id": "opposite-context",
   "metadata": {},
   "source": [
    "#### Clustering"
   ]
  },
  {
   "cell_type": "markdown",
   "id": "wicked-calendar",
   "metadata": {},
   "source": [
    "\n",
    "\n",
    "    Agglomerative Clustering\n",
    "    DBSCAN Clustering\n",
    "    Evaluating Clustering\n",
    "    k-Means Clustering\n",
    "    Meanshift Clustering\n",
    "    Mini-Batch k-Means Clustering\n",
    "\n"
   ]
  },
  {
   "cell_type": "markdown",
   "id": "portuguese-lindsay",
   "metadata": {
    "heading_collapsed": "true",
    "tags": []
   },
   "source": [
    "### Deep Learning"
   ]
  },
  {
   "cell_type": "markdown",
   "id": "crude-surname",
   "metadata": {},
   "source": [
    "#### Setup"
   ]
  },
  {
   "cell_type": "markdown",
   "id": "incorporated-advocacy",
   "metadata": {},
   "source": [
    "- Prevent Ubuntu 18.06 And Nvidia Drivers From Updating"
   ]
  },
  {
   "cell_type": "markdown",
   "id": "cathedral-scientist",
   "metadata": {},
   "source": [
    "#### Keras"
   ]
  },
  {
   "cell_type": "markdown",
   "id": "thermal-damage",
   "metadata": {},
   "source": [
    "\n",
    "\n",
    "    Adding Dropout\n",
    "    Convolutional Neural Network\n",
    "    Feedforward Neural Network For Binary Classification\n",
    "    Feedforward Neural Network For Multiclass Classification\n",
    "    Feedforward Neural Networks For Regression\n",
    "    k-Fold Cross-Validating Neural Networks\n",
    "    LSTM Recurrent Neural Network\n",
    "    Neural Network Early Stopping\n",
    "    Neural Network Weight Regularization\n",
    "    Preprocessing Data For Neural Networks\n",
    "    Save Model Training Progress\n",
    "    Tuning Neural Network Hyperparameters\n",
    "    Visualize Loss History\n",
    "    Visualize Neural Network Architecutre\n",
    "    Visualize Performance History\n",
    "\n"
   ]
  },
  {
   "cell_type": "markdown",
   "id": "planned-illness",
   "metadata": {
    "tags": []
   },
   "source": [
    "#### PyTorch"
   ]
  },
  {
   "cell_type": "markdown",
   "id": "similar-fault",
   "metadata": {},
   "source": [
    "- Check If PyTorch Is Using The GPU"
   ]
  },
  {
   "cell_type": "markdown",
   "id": "married-research",
   "metadata": {
    "tags": []
   },
   "source": [
    "### ML Engineering"
   ]
  },
  {
   "cell_type": "markdown",
   "id": "directed-pearl",
   "metadata": {},
   "source": [
    "#### YAML"
   ]
  },
  {
   "cell_type": "markdown",
   "id": "central-creature",
   "metadata": {},
   "source": [
    "\n",
    "\n",
    "    Basic YAML File\n",
    "    Comments\n",
    "    Key-Value Pairs\n",
    "    Lists\n",
    "    Multiline Strings\n",
    "    Strings\n",
    "\n"
   ]
  },
  {
   "cell_type": "markdown",
   "id": "hundred-foster",
   "metadata": {
    "tags": []
   },
   "source": [
    "#### Kubeflow"
   ]
  },
  {
   "cell_type": "markdown",
   "id": "enclosed-nebraska",
   "metadata": {},
   "source": [
    "- Installing Kubeflow On Ubuntu"
   ]
  },
  {
   "cell_type": "markdown",
   "id": "pleased-future",
   "metadata": {
    "heading_collapsed": "true",
    "tags": []
   },
   "source": [
    "### Python"
   ]
  },
  {
   "cell_type": "markdown",
   "id": "suitable-starter",
   "metadata": {
    "heading_collapsed": "true",
    "tags": []
   },
   "source": [
    "#### Basics"
   ]
  },
  {
   "cell_type": "markdown",
   "id": "compatible-pipeline",
   "metadata": {},
   "source": [
    " Using Iterable As Function Arguments\n",
    "Handling Long Lines Of Code\n",
    "Tuples Vs. Named Tuples\n",
    "Append Using The Operator\n",
    "Function Example\n",
    "List All Files Of Certain Type In A Directory\n",
    "Add Padding Around String\n",
    "All Combinations For A List Of Objects\n",
    "any(), all(), max(), min(), sum()\n",
    "Apply Operations Over Items In A List\n",
    "Applying Functions To List Items\n",
    "Arithmetic Basics\n",
    "Assignment Operators\n",
    "Basic Operations With NumPy Array\n",
    "Breaking Up String Variables\n",
    "Brute Force D20 Roll Simulator\n",
    "Cartesian Product\n",
    "Chain Together Lists\n",
    "Cleaning Text\n",
    "Compare Two Dictionaries\n",
    "Concurrent Processing\n",
    "Continue And Break Loops\n",
    "Convert HTML Characters To Strings\n",
    "Converting Strings To Datetime\n",
    "Create A New File Then Write To It\n",
    "Create A Temporary File\n",
    "Data Structure Basics\n",
    "Date And Time Basics\n",
    "Dictionary Basics\n",
    "Display JSON\n",
    "Display Scientific Notation As Floats\n",
    "Exiting A Loop\n",
    "Find The Max Value In A Dictionary\n",
    "Flatten Lists Of Lists\n",
    "For Loop\n",
    "Formatting Numbers\n",
    "Function Annotation Examples\n",
    "Function Basics\n",
    "Functions Vs. Generators\n",
    "Generating Random Numbers With NumPy\n",
    "Generator Expressions\n",
    "Hard Wrapping Text\n",
    "How To Use Default Dicts\n",
    "if and if else\n",
    "If Else On Any Or All Elements\n",
    "Indexing And Slicing NumPy Arrays\n",
    "Indexing And Slicing NumPy Arrays\n",
    "Iterate An Ifelse Over A List\n",
    "Iterate Over Multiple Lists Simultaneously\n",
    "Iterating Over Dictionary Keys\n",
    "Lambda Functions\n",
    "Logical Operations\n",
    "Looping Over Two Lists\n",
    "Mathematical Operations\n",
    "Mocking Functions\n",
    "Nested For Loops Using List Comprehension\n",
    "Nesting Lists\n",
    "Numpy Array Basics\n",
    "Parallel Processing\n",
    "Partial Function Applications\n",
    "Priority Queues\n",
    "Queues And Stacks\n",
    "Recursive Functions\n",
    "repr vs. str\n",
    "Scheduling Jobs In The Future\n",
    "Select Random Element From A List\n",
    "Selecting Items In A List With Filters\n",
    "Set The Color Of A Matplotlib Plot\n",
    "Sort A List Of Names By Last Name\n",
    "Sort A List Of Strings By Length\n",
    "Store API Credentials For Open Source Projects\n",
    "String Formatting\n",
    "String Indexing\n",
    "String Operations\n",
    "Swapping Variable Values\n",
    "Try, Except, and Finally\n",
    "Unpacking A Tuple\n",
    "Unpacking Function Arguments\n",
    "Use Command Line Arguments In A Function\n",
    "Using Named Tuples To Store Data\n",
    "while Statement "
   ]
  },
  {
   "cell_type": "markdown",
   "id": "magnetic-innocent",
   "metadata": {
    "heading_collapsed": "true",
    "tags": []
   },
   "source": [
    "#### Data Wrangling"
   ]
  },
  {
   "cell_type": "markdown",
   "id": "african-housing",
   "metadata": {},
   "source": [
    "\n",
    "\n",
    "    Columns Shared By Two Data Frames\n",
    "    Apply Functions By Group In Pandas\n",
    "    Apply Operations To Groups In Pandas\n",
    "    Applying Operations Over pandas Dataframes\n",
    "    Assign A New Column To A Pandas DataFrame\n",
    "    Break A List Into N-Sized Chunks\n",
    "    Breaking Up A String Into Columns Using Regex In pandas\n",
    "    Construct A Dictionary From Multiple Lists\n",
    "    Convert A Categorical Variable Into Dummy Variables\n",
    "    Convert A Categorical Variable Into Dummy Variables\n",
    "    Convert A CSV Into Python Code To Recreate It\n",
    "    Convert A String Categorical Variable To A Numeric Variable\n",
    "    Convert A Variable To A Time Variable In pandas\n",
    "    Count Values In Pandas Dataframe\n",
    "    Create a Column Based on a Conditional in pandas\n",
    "    Create A pandas Column With A For Loop\n",
    "    Create A Pipeline In Pandas\n",
    "    Create Counts Of Items\n",
    "    Creating Lists From Dictionary Keys And Values\n",
    "    Crosstabs In pandas\n",
    "    Delete Duplicates In pandas\n",
    "    Descriptive Statistics For pandas Dataframe\n",
    "    Dropping Rows And Columns In pandas Dataframe\n",
    "    Enumerate A List\n",
    "    Expand Cells Containing Lists Into Their Own Variables In Pandas\n",
    "    Filter pandas Dataframes\n",
    "    Find Largest Value In A Dataframe Column\n",
    "    Find Unique Values In Pandas Dataframes\n",
    "    Geocoding And Reverse Geocoding\n",
    "    Geolocate A City And Country\n",
    "    Geolocate A City Or Country\n",
    "    Group A Time Series With pandas\n",
    "    Group Data By Time\n",
    "    Group Pandas Data By Hour Of The Day\n",
    "    Grouping Rows In pandas\n",
    "    Hierarchical Data In pandas\n",
    "    Join And Merge Pandas Dataframe\n",
    "    List Unique Values In A pandas Column\n",
    "    Load A JSON File Into Pandas\n",
    "    Load An Excel File Into Pandas\n",
    "    Load Excel Spreadsheet As pandas Dataframe\n",
    "    Loading A CSV Into pandas\n",
    "    Long To Wide Format\n",
    "    Lower Case Column Names In Pandas Dataframe\n",
    "    Make New Columns Using Functions\n",
    "    Map External Values To Dataframe Values in pandas\n",
    "    Missing Data In pandas Dataframes\n",
    "    Moving Averages In pandas\n",
    "    Normalize A Column In pandas\n",
    "    pandas Data Structures\n",
    "    pandas Time Series Basics\n",
    "    Pivot Tables In pandas\n",
    "    Quickly Change A Column Of Strings In Pandas\n",
    "    Random Sampling Dataframe\n",
    "    Ranking Rows Of Pandas Dataframes\n",
    "    Regular Expression Basics\n",
    "    Regular Expression By Example\n",
    "    Reindexing pandas Series And Dataframes\n",
    "    Rename Column Headers In pandas\n",
    "    Rename Multiple pandas Dataframe Column Names\n",
    "    Replacing Values In pandas\n",
    "    Saving A pandas Dataframe As A CSV\n",
    "    Search A pandas Column For A Value\n",
    "    Select Rows When Columns Contain Certain Values\n",
    "    Select Rows With A Certain Value\n",
    "    Select Rows With Multiple Filters\n",
    "    Selecting pandas DataFrame Rows Based On Conditions\n",
    "    Simple Example Dataframes In pandas\n",
    "    Sorting Rows In pandas Dataframes\n",
    "    Split Lat/Long Coordinate Variables Into Separate Variables\n",
    "    Streaming Data Pipeline\n",
    "    String Munging In Dataframe\n",
    "    Using List Comprehensions With pandas\n",
    "    Using Seaborn To Visualize A pandas Dataframe\n",
    "\n"
   ]
  },
  {
   "cell_type": "markdown",
   "id": "forty-round",
   "metadata": {
    "heading_collapsed": "true",
    "tags": []
   },
   "source": [
    "#### Data Visualization"
   ]
  },
  {
   "cell_type": "markdown",
   "id": "engaged-induction",
   "metadata": {},
   "source": [
    "\n",
    "\n",
    "    Back To Back Bar Plot In MatPlotLib\n",
    "    Bar Plot In MatPlotLib\n",
    "    Color Palettes in Seaborn\n",
    "    Creating A Time Series Plot With Seaborn And pandas\n",
    "    Creating Scatterplots With Seaborn\n",
    "    Group Bar Plot In MatPlotLib\n",
    "    Histograms In MatPlotLib\n",
    "    Making A Matplotlib Scatterplot From A Pandas Dataframe\n",
    "    Matplotlib, A Simple Example\n",
    "    Pie Chart In MatPlotLib\n",
    "    Scatterplot In MatPlotLib\n",
    "    Stacked Percentage Bar Plot In MatPlotLib\n",
    "\n"
   ]
  },
  {
   "cell_type": "markdown",
   "id": "constant-rebate",
   "metadata": {
    "heading_collapsed": "true",
    "tags": []
   },
   "source": [
    "#### Web Scraping"
   ]
  },
  {
   "cell_type": "markdown",
   "id": "hungarian-guide",
   "metadata": {},
   "source": [
    "\n",
    "\n",
    "    Beautiful Soup Basic HTML Scraping\n",
    "    Drilling Down With Beautiful Soup\n",
    "    Monitor A Website For Changes With Python\n",
    "\n"
   ]
  },
  {
   "cell_type": "markdown",
   "id": "negative-wiring",
   "metadata": {
    "heading_collapsed": "true",
    "tags": []
   },
   "source": [
    "#### Testing"
   ]
  },
  {
   "cell_type": "markdown",
   "id": "defensive-communication",
   "metadata": {},
   "source": [
    "\n",
    "\n",
    "    Simple Unit Test\n",
    "    Test Code Speed\n",
    "    Test For A Specific Exception\n",
    "    Test If Output Is Close To A Value\n",
    "    Testable Documentation\n",
    "\n"
   ]
  },
  {
   "cell_type": "markdown",
   "id": "particular-punishment",
   "metadata": {
    "heading_collapsed": "true",
    "tags": []
   },
   "source": [
    "#### Logging"
   ]
  },
  {
   "cell_type": "markdown",
   "id": "urban-semiconductor",
   "metadata": {},
   "source": [
    "- Basic Logging"
   ]
  },
  {
   "cell_type": "markdown",
   "id": "visible-anchor",
   "metadata": {
    "tags": []
   },
   "source": [
    "#### Other"
   ]
  },
  {
   "cell_type": "markdown",
   "id": "encouraging-adrian",
   "metadata": {},
   "source": [
    "\n",
    "\n",
    "    Generate Tweets Using Markov Chains\n",
    "    Mine Twitter's Stream For Hashtags Or Words\n",
    "    Simple Clustering With SciPy\n",
    "    What Is The Probability An Economy Class Seat Is An Aisle Seat?\n",
    "\n"
   ]
  },
  {
   "cell_type": "markdown",
   "id": "configured-psychiatry",
   "metadata": {
    "heading_collapsed": "true",
    "tags": []
   },
   "source": [
    "### Statistics"
   ]
  },
  {
   "cell_type": "markdown",
   "id": "ultimate-imaging",
   "metadata": {},
   "source": [
    "#### Basics"
   ]
  },
  {
   "cell_type": "markdown",
   "id": "identified-korea",
   "metadata": {},
   "source": [
    "\n",
    "\n",
    "    Linear Interpolation\n",
    "    Trimmed Mean\n",
    "\n"
   ]
  },
  {
   "cell_type": "markdown",
   "id": "comprehensive-rhythm",
   "metadata": {},
   "source": [
    "#### Frequentist"
   ]
  },
  {
   "cell_type": "markdown",
   "id": "catholic-change",
   "metadata": {},
   "source": [
    "\n",
    "\n",
    "    Bessels Correction\n",
    "    Demonstrate The Central Limit Theorem\n",
    "    Pearsons Correlation Coefficient\n",
    "    Probability Mass Functions\n",
    "    Spearmans Rank Correlation\n",
    "    T-Tests\n",
    "    Variance And Standard Deviation\n",
    "\n"
   ]
  },
  {
   "cell_type": "markdown",
   "id": "hispanic-guard",
   "metadata": {
    "tags": []
   },
   "source": [
    "### Docker"
   ]
  },
  {
   "cell_type": "markdown",
   "id": "informative-visibility",
   "metadata": {},
   "source": [
    "#### Command Line"
   ]
  },
  {
   "cell_type": "markdown",
   "id": "unknown-rabbit",
   "metadata": {},
   "source": [
    "\n",
    "\n",
    "    Automatically Generate Human-Readable Container Names\n",
    "    Automatically Restart Containers\n",
    "    Connect Container's Filesystem To Computer's Filesystem\n",
    "    Create A Container\n",
    "    Create An Image\n",
    "    Create Read-Only Filesystems In Containers\n",
    "    Export All Files And Folders Out Of A Container\n",
    "    Get Bash Shell In A Container\n",
    "    Inspect A Container\n",
    "    Inspect An Image\n",
    "    List Containers\n",
    "    Publish To Docker Hub\n",
    "    Pull An Image From A Repository\n",
    "    Remove An Image\n",
    "    Rename A Container\n",
    "    Restart A Container\n",
    "    Run A Detached Container\n",
    "    Save A Container's Bash History\n",
    "    Saving An Image As A File\n",
    "    Set Container To Run A Bash Command On Start\n",
    "    Start A Container\n",
    "    Stop A Container\n",
    "    Use Environment Variables\n",
    "    View All Changes To A Container\n",
    "    View Container Logs\n",
    "    View Image Size\n",
    "    Watch Container Logs Live\n",
    "    Work In A Container\n",
    "\n"
   ]
  },
  {
   "cell_type": "markdown",
   "id": "steady-annotation",
   "metadata": {
    "tags": []
   },
   "source": [
    "#### Dockerfiles"
   ]
  },
  {
   "cell_type": "markdown",
   "id": "banned-aviation",
   "metadata": {},
   "source": [
    "\n",
    "\n",
    "    Add A File From A URL To Images\n",
    "    Add A Volume\n",
    "    Add Comments\n",
    "    Add Environment Variables\n",
    "    Add Files And Folders To Images\n",
    "    Add Metadata\n",
    "    Expose A Port\n",
    "    Ignore Files While Building\n",
    "    Run Command When Container Starts\n",
    "    Run Command While Building Image\n",
    "    Run Commands As A User\n",
    "    Run Many Commands While Building Image\n",
    "    Set A Default Working Directory\n",
    "    Set Default Working Directory\n",
    "\n"
   ]
  },
  {
   "cell_type": "markdown",
   "id": "geological-mexico",
   "metadata": {},
   "source": [
    "#### Docker Compose "
   ]
  },
  {
   "cell_type": "markdown",
   "id": "tired-trade",
   "metadata": {
    "tags": []
   },
   "source": [
    "### Scala"
   ]
  },
  {
   "cell_type": "markdown",
   "id": "gorgeous-marine",
   "metadata": {},
   "source": [
    "\n",
    "\n",
    "    Break A Sequence Into Groups\n",
    "    Change Data Type\n",
    "    Chunk Sequence In Equal Sized Groups\n",
    "    Compare Two Floats\n",
    "    Create A Range\n",
    "    Extract Substrings Using Regex\n",
    "    Filter A Sequence\n",
    "    Find Largest Key Or Value In A Map\n",
    "    Flatten Sequence Of Sequences\n",
    "    For Loop A Map\n",
    "    For Looping\n",
    "    Format Numbers As Currency\n",
    "    If Else\n",
    "    Increment And Decrement Numbers\n",
    "    Insert Variables Into Strings\n",
    "    Iterate Over A Map\n",
    "    Loop A Collection\n",
    "    Make Numbers Pretty\n",
    "    Mapping A Function To A Collection\n",
    "    Matching Conditions\n",
    "    Mutable Maps\n",
    "    N Dimension Arrays\n",
    "    Partial Functions\n",
    "    Random Integer Between Two Values\n",
    "    Replacing Parts Of Strings\n",
    "    Search A Map\n",
    "    Search Strings\n",
    "    Search Strings Using Regex\n",
    "    Set Operations On Sequences\n",
    "    Sorting Sequences\n",
    "    Split Strings\n",
    "    Try, Catch, Finally\n",
    "    Variables And Values\n",
    "    Zip Together Two Lists\n",
    "\n"
   ]
  },
  {
   "cell_type": "markdown",
   "id": "dutch-surge",
   "metadata": {
    "tags": []
   },
   "source": [
    "### Snowflake"
   ]
  },
  {
   "cell_type": "markdown",
   "id": "spiritual-pickup",
   "metadata": {},
   "source": [
    "#### Basics"
   ]
  },
  {
   "cell_type": "markdown",
   "id": "creative-farming",
   "metadata": {},
   "source": [
    "\n",
    "\n",
    "    Convert Columns Into Rows\n",
    "    Convert Data Types\n",
    "    Create Dummy Columns\n",
    "    Get Absolute Values\n",
    "    Get Rows Meetings Multiple Conditions\n",
    "    Give Column An Alias\n",
    "    Give Table An Alias\n",
    "    Left Join\n",
    "    Query A Table\n",
    "    Return First Few Rows\n",
    "    Return N Rows After Skipping First K Rows\n",
    "    Sample Random Rows From A Table\n",
    "    Sort Rows By A Column's Values\n",
    "\n"
   ]
  },
  {
   "cell_type": "markdown",
   "id": "dedicated-telling",
   "metadata": {},
   "source": [
    "#### Tables"
   ]
  },
  {
   "cell_type": "markdown",
   "id": "democratic-highland",
   "metadata": {},
   "source": [
    "\n",
    "\n",
    "    Add Column\n",
    "    Add Comment To Column\n",
    "    Create Or Replace Table\n",
    "    Create Table\n",
    "    Create Table From Query\n",
    "    Create Table If It Doesn't Already Exist\n",
    "    Create Table With Column And Table Comments\n",
    "    Create Temporary Table\n",
    "    Delete A Table\n",
    "    Describe A Table\n",
    "    Drop Column\n",
    "    Query DESCRIBE TABLE like a table\n",
    "    Rename Column\n",
    "    Rename Table\n",
    "    Swap Two Tables\n",
    "    Undelete A Table\n",
    "    View A Column's Comments\n",
    "    View A Table's Comments\n",
    "\n"
   ]
  },
  {
   "cell_type": "markdown",
   "id": "recognized-nomination",
   "metadata": {
    "tags": []
   },
   "source": [
    "### PostgreSQL"
   ]
  },
  {
   "cell_type": "markdown",
   "id": "color-complexity",
   "metadata": {},
   "source": [
    "#### Basics"
   ]
  },
  {
   "cell_type": "markdown",
   "id": "crucial-bottom",
   "metadata": {},
   "source": [
    "\n",
    "\n",
    "    Create PostgreSQL Database With Python\n",
    "    Apply Operation To Column\n",
    "    Compare Values To Subquery\n",
    "    Copy Rows From One Table To Another\n",
    "    Count Rows\n",
    "    Count Unique Values\n",
    "    Create Column Index\n",
    "    Create Subquery\n",
    "    Create View\n",
    "    Delete View\n",
    "    Examine A Query\n",
    "    Group Rows\n",
    "    Group Rows With Conditions\n",
    "    If Else\n",
    "    List Index Columns\n",
    "    List Tables In Database\n",
    "    Rename Columns In Views\n",
    "    Replace Missing Values\n",
    "    Retrieve Only A Few Rows\n",
    "    Retrieve Random Subset Of Rows\n",
    "    Retrieve Row\n",
    "    Retrieve Rows Based On Condition\n",
    "    Retrieve Rows Based On Multiple Condition\n",
    "    Retrieve Subset Of Columns\n",
    "    Retrieving Missing Values\n",
    "    Save Queries As Variables\n",
    "    Select Highest Value In Each Group\n",
    "    Select Values Between Two Values\n",
    "    Sort Rows\n",
    "    Sort Rows In Groups\n",
    "    Test If Rows Exist In Subquery\n",
    "    Use Column Aliases With Where Clause\n",
    "    Value Matches Element Of A List\n",
    "    View Unique Values\n",
    "\n"
   ]
  },
  {
   "cell_type": "markdown",
   "id": "charming-drunk",
   "metadata": {},
   "source": [
    "#### Add, Delete, Change Rows"
   ]
  },
  {
   "cell_type": "markdown",
   "id": "wired-preserve",
   "metadata": {},
   "source": [
    "\n",
    "\n",
    "    Add Column\n",
    "    Change Values\n",
    "    Create Column Aliases\n",
    "    Create Column Conditional On Another Column\n",
    "    Create Column Of Values\n",
    "    Create Primary Key\n",
    "    Delete All Rows\n",
    "    Delete Duplicates\n",
    "    Delete Primary Key\n",
    "    Delete Rows\n",
    "    Delete Rows That Don't Exist In Another Table\n",
    "    Export To CSV\n",
    "    Import CSV\n",
    "    Insert Rows\n",
    "    Update Rows Based On Another Table\n",
    "\n"
   ]
  },
  {
   "cell_type": "markdown",
   "id": "charming-product",
   "metadata": {},
   "source": [
    "#### Merging and Joining"
   ]
  },
  {
   "cell_type": "markdown",
   "id": "velvet-craps",
   "metadata": {},
   "source": [
    "\n",
    "\n",
    "    All Unique Values In Two Tables\n",
    "    Cartesian Product Of Tables\n",
    "    Concatenate Multiple Table\n",
    "    Find Values In Both Tables\n",
    "    Find Values In One Table And Not Another\n",
    "    Inner Join Tables\n",
    "    Join Multiple Table\n",
    "    Left Join Tables\n",
    "    Outer Join Tables\n",
    "    Right Join Tables\n",
    "    Self Join Table\n",
    "    Stack Tables\n",
    "\n"
   ]
  },
  {
   "cell_type": "markdown",
   "id": "primary-clinton",
   "metadata": {},
   "source": [
    "#### Tables"
   ]
  },
  {
   "cell_type": "markdown",
   "id": "regulation-coordinator",
   "metadata": {},
   "source": [
    "\n",
    "\n",
    "    Copy Table Structure\n",
    "    Create Table\n",
    "    Create Table With Default Values\n",
    "    Create Table With UUIDs\n",
    "    Create Temporary Table\n",
    "    Delete Table\n",
    "    Delete Table With Views\n",
    "    Duplicate Table\n",
    "    List Columns In Table\n",
    "    Show Column Information\n",
    "    View Size Of Table\n",
    "\n"
   ]
  },
  {
   "cell_type": "markdown",
   "id": "owned-color",
   "metadata": {},
   "source": [
    "#### Text"
   ]
  },
  {
   "cell_type": "markdown",
   "id": "different-story",
   "metadata": {},
   "source": [
    "\n",
    "\n",
    "    Concatenate Values\n",
    "    Extract Characters From Strings\n",
    "    Lower And Upper Case\n",
    "    Partial String Match\n",
    "\n"
   ]
  },
  {
   "cell_type": "markdown",
   "id": "geographic-frame",
   "metadata": {},
   "source": [
    "#### Numeric"
   ]
  },
  {
   "cell_type": "markdown",
   "id": "reliable-prairie",
   "metadata": {},
   "source": [
    "\n",
    "\n",
    "    Calculate Max, Min, Or Average Of Column\n",
    "    Calculate Running Total\n",
    "    Calculate Sum Of Column\n",
    "    Convert Floats To Integers\n",
    "    Mathematical Operations On Columns\n",
    "\n"
   ]
  },
  {
   "cell_type": "markdown",
   "id": "prerequisite-baking",
   "metadata": {},
   "source": [
    "#### Dates"
   ]
  },
  {
   "cell_type": "markdown",
   "id": "desperate-insulation",
   "metadata": {},
   "source": [
    "\n",
    "\n",
    "    Adding Or Substracting Time\n",
    "    Calculate Time Duration\n",
    "\n"
   ]
  },
  {
   "cell_type": "markdown",
   "id": "registered-thriller",
   "metadata": {},
   "source": [
    "#### Interview Questions"
   ]
  },
  {
   "cell_type": "markdown",
   "id": "vertical-bathroom",
   "metadata": {},
   "source": [
    "\n",
    "\n",
    "    Calculate Requests Sent\n",
    "    Sort By Natural Ordering\n",
    "    What Happens When You Add NULL And Integer\n",
    "\n"
   ]
  },
  {
   "cell_type": "markdown",
   "id": "realistic-beads",
   "metadata": {
    "tags": []
   },
   "source": [
    "### Linux Command Line"
   ]
  },
  {
   "cell_type": "markdown",
   "id": "starting-nepal",
   "metadata": {},
   "source": [
    "#### Basics"
   ]
  },
  {
   "cell_type": "markdown",
   "id": "operational-fountain",
   "metadata": {},
   "source": [
    "\n",
    "\n",
    "    Close A Program\n",
    "    End Standard Input Entry\n",
    "    Copy Files And Directories\n",
    "    Delete Files And Directories\n",
    "    Delete Files And Directories In Current Directory\n",
    "    Modify File Permissions\n",
    "    Move Files And Directories\n",
    "    Rename File\n",
    "    See Disk Drive Space\n",
    "    View Disk Information\n",
    "    Archive And Unarchive Files\n",
    "    Change Permissions\n",
    "    Changing Directories\n",
    "    Check Current Date And Time\n",
    "    Create Command\n",
    "    Create Directory\n",
    "    Create File\n",
    "    Create Sequential List Of Files And Directories\n",
    "    Create Symbolic Links\n",
    "    Exit Terminal Session\n",
    "    Get Help With A Command\n",
    "    Get Information On A File\n",
    "    List Avaliable Commands\n",
    "    List The Contents Of A Directory\n",
    "    Multiple Commands On One Line\n",
    "    Ping Website\n",
    "    See Free Memory\n",
    "    See Who Is Logged Into A System\n",
    "    Select Files Based On Filename\n",
    "    Synchronize Files And Directories\n",
    "    Track Route Of Network Traffic\n",
    "    View A File's Type\n",
    "    View A Text File's Contents\n",
    "    View Current Working Directory\n",
    "    View First And Last Parts Of Files\n",
    "    View The Version Of A Package\n",
    "    Zip And Unzip Directories\n",
    "    Zip And Unzip Files\n",
    "\n"
   ]
  },
  {
   "cell_type": "markdown",
   "id": "distinct-future",
   "metadata": {
    "tags": []
   },
   "source": [
    "#### Inputs and Outputs"
   ]
  },
  {
   "cell_type": "markdown",
   "id": "confident-dating",
   "metadata": {},
   "source": [
    "\n",
    "\n",
    "    Append Error To File\n",
    "    Append File Contents To Another File\n",
    "    Append Output To File\n",
    "    Append Outputs And Errors To File\n",
    "    Chain Multiple Commands\n",
    "    Concatenate Multiple Files\n",
    "    Save Output To File In Middle Of Command Chain\n",
    "    Silence Errors\n",
    "    Sort Rows\n",
    "    Write Errors To File\n",
    "    Write Output To File\n",
    "\n"
   ]
  },
  {
   "cell_type": "markdown",
   "id": "surrounded-fields",
   "metadata": {},
   "source": [
    "#### Search"
   ]
  },
  {
   "cell_type": "markdown",
   "id": "legislative-checklist",
   "metadata": {},
   "source": [
    "\n",
    "\n",
    "    Find Directories\n",
    "    Find Files\n",
    "    Find Files Based On Multiple Conditions\n",
    "    Find Files By Filename\n",
    "    Find Files By Size\n",
    "    Find Program's Location\n",
    "    Find Symbolic Links\n",
    "    Search Contents Of All Files Of Certain Type\n",
    "    Search Filenames\n",
    "    Search The Contents Of A File\n",
    "\n"
   ]
  },
  {
   "cell_type": "markdown",
   "id": "toxic-register",
   "metadata": {},
   "source": [
    "#### Text"
   ]
  },
  {
   "cell_type": "markdown",
   "id": "ordered-removal",
   "metadata": {},
   "source": [
    "\n",
    "\n",
    "    Add Columns To Text\n",
    "    Count Unique Rows\n",
    "    Extract Text\n",
    "    Find And Replace\n",
    "    Adding Line Numbers\n",
    "    Comparing Text Files\n",
    "    Join And Sort Text\n",
    "    Join Columns\n",
    "    Quickly View File Contents\n",
    "\n"
   ]
  },
  {
   "cell_type": "markdown",
   "id": "third-intention",
   "metadata": {},
   "source": [
    "#### Flow Control"
   ]
  },
  {
   "cell_type": "markdown",
   "id": "italic-millennium",
   "metadata": {},
   "source": [
    "\n",
    "\n",
    "    For Loops\n",
    "    If Else For Integers\n",
    "    If Else For Strings\n",
    "    If Else With Multiple Conditions\n",
    "\n"
   ]
  },
  {
   "cell_type": "markdown",
   "id": "narrow-wrestling",
   "metadata": {},
   "source": [
    "#### Processes"
   ]
  },
  {
   "cell_type": "markdown",
   "id": "rolled-basics",
   "metadata": {},
   "source": [
    "\n",
    "\n",
    "    Measure How Long A Process Takes\n",
    "    List Processes\n",
    "    Monitor Processes\n",
    "\n"
   ]
  },
  {
   "cell_type": "markdown",
   "id": "corporate-conducting",
   "metadata": {},
   "source": [
    "#### Shell Scripts"
   ]
  },
  {
   "cell_type": "markdown",
   "id": "portuguese-reducing",
   "metadata": {},
   "source": [
    "\n",
    "\n",
    "    Arguments\n",
    "    Conditionals\n",
    "    Double Vs. Single Quotes\n",
    "    Simple Shell Script\n",
    "\n"
   ]
  },
  {
   "cell_type": "markdown",
   "id": "pressing-riding",
   "metadata": {
    "heading_collapsed": "true",
    "tags": []
   },
   "source": [
    "### Regular Expressions"
   ]
  },
  {
   "cell_type": "markdown",
   "id": "aware-strengthening",
   "metadata": {},
   "source": [
    "#### "
   ]
  },
  {
   "cell_type": "markdown",
   "id": "ranging-specialist",
   "metadata": {
    "heading_collapsed": "true",
    "tags": []
   },
   "source": [
    "### Mathematics"
   ]
  },
  {
   "cell_type": "markdown",
   "id": "analyzed-certificate",
   "metadata": {},
   "source": [
    "#### "
   ]
  },
  {
   "cell_type": "markdown",
   "id": "physical-donor",
   "metadata": {
    "heading_collapsed": "true",
    "tags": []
   },
   "source": [
    "### AWS"
   ]
  },
  {
   "cell_type": "markdown",
   "id": "metallic-subdivision",
   "metadata": {},
   "source": [
    "#### "
   ]
  },
  {
   "cell_type": "markdown",
   "id": "commercial-stone",
   "metadata": {
    "tags": []
   },
   "source": [
    "### Git & GitHub"
   ]
  },
  {
   "cell_type": "markdown",
   "id": "considered-brazil",
   "metadata": {},
   "source": [
    "\n",
    "\n",
    "    Stop Git From Asking For Password Every Push And Pull From GitHub\n",
    "    GitHub Cheatsheet\n",
    "\n"
   ]
  },
  {
   "cell_type": "markdown",
   "id": "realistic-vintage",
   "metadata": {
    "tags": []
   },
   "source": [
    "### Computer Science"
   ]
  },
  {
   "cell_type": "markdown",
   "id": "technological-conservative",
   "metadata": {},
   "source": [
    "#### Algorithms"
   ]
  },
  {
   "cell_type": "markdown",
   "id": "unable-australian",
   "metadata": {},
   "source": [
    "\n",
    "\n",
    "    Big-O Notation\n",
    "    Binary Search\n",
    "    Bubble Sort\n",
    "    Insertion Sort\n",
    "    Selection Sort\n",
    "\n"
   ]
  }
 ],
 "metadata": {
  "kernelspec": {
   "display_name": "Python 3",
   "language": "python",
   "name": "python3"
  },
  "language_info": {
   "codemirror_mode": {
    "name": "ipython",
    "version": 3
   },
   "file_extension": ".py",
   "mimetype": "text/x-python",
   "name": "python",
   "nbconvert_exporter": "python",
   "pygments_lexer": "ipython3",
   "version": "3.8.6"
  }
 },
 "nbformat": 4,
 "nbformat_minor": 5
}
