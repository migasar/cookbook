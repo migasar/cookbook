{
 "cells": [
  {
   "cell_type": "markdown",
   "id": "another-astrology",
   "metadata": {
    "tags": []
   },
   "source": [
    "[Chris Albon's Cookbook](https://chrisalbon.com/)\n",
    "==="
   ]
  },
  {
   "cell_type": "markdown",
   "id": "biblical-directive",
   "metadata": {},
   "source": [
    "> Notes On Using  \n",
    "> **Data Science & Machine Learning**  \n",
    "> To Fight For Something That Matters"
   ]
  },
  {
   "cell_type": "markdown",
   "id": "supported-dance",
   "metadata": {
    "heading_collapsed": "true",
    "tags": []
   },
   "source": [
    "## Data"
   ]
  },
  {
   "cell_type": "markdown",
   "id": "right-steel",
   "metadata": {
    "tags": []
   },
   "source": [
    "### Machine Learning"
   ]
  },
  {
   "cell_type": "markdown",
   "id": "planned-clerk",
   "metadata": {
    "heading_collapsed": "true",
    "tags": []
   },
   "source": [
    "#### Basics"
   ]
  },
  {
   "cell_type": "markdown",
   "id": "assisted-cathedral",
   "metadata": {},
   "source": [
    "- Loading Features From Dictionaries\n",
    "- Loading Features From Dictionaries\n",
    "- Loading scikit-learn's Boston Housing Dataset\n",
    "- Loading scikit-learn's Digits Dataset\n",
    "- Loading scikit-learn's Iris Dataset\n",
    "- Make Simulated Data For Classification\n",
    "- Make Simulated Data For Clustering\n",
    "- Make Simulated Data For Regression\n",
    "- Perceptron In Scikit\n",
    "- Saving Machine Learning Models"
   ]
  },
  {
   "cell_type": "markdown",
   "id": "substantial-model",
   "metadata": {},
   "source": [
    "##### Loading Features From Dictionaries"
   ]
  },
  {
   "cell_type": "markdown",
   "id": "treated-treasury",
   "metadata": {},
   "source": [
    "##### Loading Features From Dictionaries"
   ]
  },
  {
   "cell_type": "markdown",
   "id": "handy-spanish",
   "metadata": {},
   "source": [
    "##### Loading scikit-learn's Boston Housing Dataset"
   ]
  },
  {
   "cell_type": "markdown",
   "id": "average-powder",
   "metadata": {},
   "source": [
    "##### Loading scikit-learn's Digits Dataset"
   ]
  },
  {
   "cell_type": "markdown",
   "id": "designing-classics",
   "metadata": {},
   "source": [
    "##### Loading scikit-learn's Iris Dataset"
   ]
  },
  {
   "cell_type": "markdown",
   "id": "hungarian-fleet",
   "metadata": {},
   "source": [
    "##### Make Simulated Data For Classification"
   ]
  },
  {
   "cell_type": "markdown",
   "id": "perceived-possibility",
   "metadata": {},
   "source": [
    "##### Make Simulated Data For Clustering"
   ]
  },
  {
   "cell_type": "markdown",
   "id": "altered-result",
   "metadata": {},
   "source": [
    "##### Make Simulated Data For Regression"
   ]
  },
  {
   "cell_type": "markdown",
   "id": "domestic-correlation",
   "metadata": {},
   "source": [
    "##### Perceptron In Scikit"
   ]
  },
  {
   "cell_type": "markdown",
   "id": "cathedral-month",
   "metadata": {},
   "source": [
    "##### Saving Machine Learning Models"
   ]
  },
  {
   "cell_type": "markdown",
   "id": "jewish-airport",
   "metadata": {
    "heading_collapsed": "true",
    "tags": []
   },
   "source": [
    "#### Vectors, Matrices, and Arrays"
   ]
  },
  {
   "cell_type": "markdown",
   "id": "passive-ability",
   "metadata": {},
   "source": [
    "- Adding And Subtracting Matrices\n",
    "- Apply Operations To Elements\n",
    "- Calculate Dot Product Of Two Vectors\n",
    "- Calculate The Average, Variance, And Standard Deviation\n",
    "- Calculate The Determinant Of A Matrix\n",
    "- Calculate The Trace Of A Matrix\n",
    "- Converting A Dictionary Into A Matrix\n",
    "- Create A Matrix\n",
    "- Create A Sparse Matrix\n",
    "- Create A Vector\n",
    "- Describe An Array\n",
    "- Find The Maximum And Minimum\n",
    "- Find The Rank Of A Matrix\n",
    "- Flatten A Matrix\n",
    "- Getting The Diagonal Of A Matrix\n",
    "- Invert A Matrix\n",
    "- Reshape An Array\n",
    "- Selecting Elements In An Array\n",
    "- Transpose A Vector Or Matrix"
   ]
  },
  {
   "cell_type": "markdown",
   "id": "unique-train",
   "metadata": {},
   "source": [
    "##### Adding And Subtracting Matrices"
   ]
  },
  {
   "cell_type": "markdown",
   "id": "covered-convertible",
   "metadata": {},
   "source": [
    "##### Apply Operations To Elements"
   ]
  },
  {
   "cell_type": "markdown",
   "id": "atmospheric-detection",
   "metadata": {},
   "source": [
    "##### Calculate Dot Product Of Two Vectors"
   ]
  },
  {
   "cell_type": "markdown",
   "id": "mexican-springfield",
   "metadata": {},
   "source": [
    "##### Calculate The Average, Variance, And Standard Deviation"
   ]
  },
  {
   "cell_type": "markdown",
   "id": "pursuant-trading",
   "metadata": {},
   "source": [
    "##### Calculate The Determinant Of A Matrix"
   ]
  },
  {
   "cell_type": "markdown",
   "id": "enclosed-variable",
   "metadata": {},
   "source": [
    "##### Calculate The Trace Of A Matrix"
   ]
  },
  {
   "cell_type": "markdown",
   "id": "emerging-finland",
   "metadata": {},
   "source": [
    "##### Converting A Dictionary Into A Matrix"
   ]
  },
  {
   "cell_type": "markdown",
   "id": "selective-registrar",
   "metadata": {},
   "source": [
    "##### Create A Matrix"
   ]
  },
  {
   "cell_type": "markdown",
   "id": "internal-monthly",
   "metadata": {},
   "source": [
    "##### Create A Sparse Matrix"
   ]
  },
  {
   "cell_type": "markdown",
   "id": "dutch-yeast",
   "metadata": {},
   "source": [
    "##### Create A Vector"
   ]
  },
  {
   "cell_type": "markdown",
   "id": "speaking-recognition",
   "metadata": {},
   "source": [
    "##### Describe An Array"
   ]
  },
  {
   "cell_type": "markdown",
   "id": "major-subscription",
   "metadata": {},
   "source": [
    "##### Find The Maximum And Minimum"
   ]
  },
  {
   "cell_type": "markdown",
   "id": "known-couple",
   "metadata": {},
   "source": [
    "##### Find The Rank Of A Matrix"
   ]
  },
  {
   "cell_type": "markdown",
   "id": "assumed-player",
   "metadata": {},
   "source": [
    "##### Flatten A Matrix"
   ]
  },
  {
   "cell_type": "markdown",
   "id": "timely-houston",
   "metadata": {},
   "source": [
    "##### Getting The Diagonal Of A Matrix"
   ]
  },
  {
   "cell_type": "markdown",
   "id": "numerical-portuguese",
   "metadata": {},
   "source": [
    "##### Invert A Matrix"
   ]
  },
  {
   "cell_type": "markdown",
   "id": "competitive-infrastructure",
   "metadata": {},
   "source": [
    "##### Reshape An Array"
   ]
  },
  {
   "cell_type": "markdown",
   "id": "hairy-halloween",
   "metadata": {},
   "source": [
    "##### Selecting Elements In An Array"
   ]
  },
  {
   "cell_type": "markdown",
   "id": "obvious-clerk",
   "metadata": {},
   "source": [
    "##### Transpose A Vector Or Matrix"
   ]
  },
  {
   "cell_type": "markdown",
   "id": "surprised-commercial",
   "metadata": {
    "heading_collapsed": "true",
    "tags": []
   },
   "source": [
    "#### Preprocessing Structured Data"
   ]
  },
  {
   "cell_type": "markdown",
   "id": "alternate-month",
   "metadata": {},
   "source": [
    "- Convert Pandas Categorical Data For Scikit-Learn\n",
    "- Delete Observations With Missing Values\n",
    "- Deleting Missing Values\n",
    "- Detecting Outliers\n",
    "- Discretize Features\n",
    "- Encoding Ordinal Categorical Features\n",
    "- Handling Imbalanced Classes With Downsampling\n",
    "- Handling Imbalanced Classes With Upsampling\n",
    "- Handling Outliers\n",
    "- Impute Missing Values With Means\n",
    "- Imputing Missing Class Labels\n",
    "- Imputing Missing Class Labels Using k-Nearest Neighbors\n",
    "- Normalizing Observations\n",
    "- One-Hot Encode Features With Multiple Labels\n",
    "- One-Hot Encode Nominal Categorical Features\n",
    "- Preprocessing Categorical Features\n",
    "- Preprocessing Iris Data\n",
    "- Rescale A Feature\n",
    "- Standardize A Feature"
   ]
  },
  {
   "cell_type": "markdown",
   "id": "cooked-financing",
   "metadata": {},
   "source": [
    "##### Convert Pandas Categorical Data For Scikit-Learn"
   ]
  },
  {
   "cell_type": "markdown",
   "id": "distant-impression",
   "metadata": {},
   "source": [
    "##### Delete Observations With Missing Values"
   ]
  },
  {
   "cell_type": "markdown",
   "id": "trained-marriage",
   "metadata": {},
   "source": [
    "##### Deleting Missing Values"
   ]
  },
  {
   "cell_type": "markdown",
   "id": "former-cotton",
   "metadata": {},
   "source": [
    "##### Detecting Outliers"
   ]
  },
  {
   "cell_type": "markdown",
   "id": "indoor-optimum",
   "metadata": {},
   "source": [
    "##### Discretize Features"
   ]
  },
  {
   "cell_type": "markdown",
   "id": "atlantic-niagara",
   "metadata": {},
   "source": [
    "##### Encoding Ordinal Categorical Features"
   ]
  },
  {
   "cell_type": "markdown",
   "id": "silver-compound",
   "metadata": {},
   "source": [
    "##### Handling Imbalanced Classes With Downsampling"
   ]
  },
  {
   "cell_type": "markdown",
   "id": "internal-underground",
   "metadata": {},
   "source": [
    "##### Handling Imbalanced Classes With Upsampling"
   ]
  },
  {
   "cell_type": "markdown",
   "id": "worse-structure",
   "metadata": {},
   "source": [
    "##### Handling Outliers"
   ]
  },
  {
   "cell_type": "markdown",
   "id": "positive-shower",
   "metadata": {},
   "source": [
    "##### Impute Missing Values With Means"
   ]
  },
  {
   "cell_type": "markdown",
   "id": "educated-burning",
   "metadata": {},
   "source": [
    "##### Imputing Missing Class Labels"
   ]
  },
  {
   "cell_type": "markdown",
   "id": "married-event",
   "metadata": {},
   "source": [
    "##### Imputing Missing Class Labels Using k-Nearest Neighbors"
   ]
  },
  {
   "cell_type": "markdown",
   "id": "fantastic-folks",
   "metadata": {},
   "source": [
    "##### Normalizing Observations"
   ]
  },
  {
   "cell_type": "markdown",
   "id": "animal-chick",
   "metadata": {},
   "source": [
    "##### One-Hot Encode Features With Multiple Labels"
   ]
  },
  {
   "cell_type": "markdown",
   "id": "seven-gates",
   "metadata": {},
   "source": [
    "##### One-Hot Encode Nominal Categorical Features"
   ]
  },
  {
   "cell_type": "markdown",
   "id": "nearby-literature",
   "metadata": {},
   "source": [
    "##### Preprocessing Categorical Features"
   ]
  },
  {
   "cell_type": "markdown",
   "id": "constant-looking",
   "metadata": {},
   "source": [
    "##### Preprocessing Iris Data"
   ]
  },
  {
   "cell_type": "markdown",
   "id": "other-finish",
   "metadata": {},
   "source": [
    "##### Rescale A Feature"
   ]
  },
  {
   "cell_type": "markdown",
   "id": "surprising-oxford",
   "metadata": {},
   "source": [
    "##### Standardize A Feature"
   ]
  },
  {
   "cell_type": "markdown",
   "id": "knowing-mustang",
   "metadata": {
    "heading_collapsed": "true",
    "tags": []
   },
   "source": [
    "#### Preprocessing Images"
   ]
  },
  {
   "cell_type": "markdown",
   "id": "acoustic-swimming",
   "metadata": {},
   "source": [
    "- Binarize Images\n",
    "- Blurring Images\n",
    "- Cropping Images\n",
    "- Detect Edges\n",
    "- Enhance Contrast Of Color Image\n",
    "- Enhance Contrast Of Greyscale Image\n",
    "- Harris Corner Detector\n",
    "- Installing OpenCV\n",
    "- Isolate Colors\n",
    "- Load Images\n",
    "- Remove Backgrounds\n",
    "- Save Images\n",
    "- Sharpen Images\n",
    "- Shi-Tomasi Corner Detector\n",
    "- Using Mean Color As A Feature"
   ]
  },
  {
   "cell_type": "markdown",
   "id": "governing-garage",
   "metadata": {},
   "source": [
    "##### Binarize Images"
   ]
  },
  {
   "cell_type": "markdown",
   "id": "banner-installation",
   "metadata": {},
   "source": [
    "##### Blurring Images"
   ]
  },
  {
   "cell_type": "markdown",
   "id": "divine-satisfaction",
   "metadata": {},
   "source": [
    "##### Cropping Images"
   ]
  },
  {
   "cell_type": "markdown",
   "id": "promising-plasma",
   "metadata": {},
   "source": [
    "##### Detect Edges"
   ]
  },
  {
   "cell_type": "markdown",
   "id": "pacific-affairs",
   "metadata": {},
   "source": [
    "##### Enhance Contrast Of Color Image"
   ]
  },
  {
   "cell_type": "markdown",
   "id": "unnecessary-resource",
   "metadata": {},
   "source": [
    "##### Enhance Contrast Of Greyscale Image"
   ]
  },
  {
   "cell_type": "markdown",
   "id": "promising-given",
   "metadata": {},
   "source": [
    "##### Harris Corner Detector"
   ]
  },
  {
   "cell_type": "markdown",
   "id": "selected-beaver",
   "metadata": {},
   "source": [
    "##### Installing OpenCV"
   ]
  },
  {
   "cell_type": "markdown",
   "id": "medieval-stone",
   "metadata": {},
   "source": [
    "##### Isolate Colors"
   ]
  },
  {
   "cell_type": "markdown",
   "id": "swiss-dylan",
   "metadata": {},
   "source": [
    "##### Load Images"
   ]
  },
  {
   "cell_type": "markdown",
   "id": "endless-sight",
   "metadata": {},
   "source": [
    "##### Remove Backgrounds"
   ]
  },
  {
   "cell_type": "markdown",
   "id": "hungarian-variation",
   "metadata": {},
   "source": [
    "##### Save Images"
   ]
  },
  {
   "cell_type": "markdown",
   "id": "fallen-sally",
   "metadata": {},
   "source": [
    "##### Sharpen Images"
   ]
  },
  {
   "cell_type": "markdown",
   "id": "fifty-procurement",
   "metadata": {},
   "source": [
    "##### Shi-Tomasi Corner Detector"
   ]
  },
  {
   "cell_type": "markdown",
   "id": "pleasant-skiing",
   "metadata": {},
   "source": [
    "##### Using Mean Color As A Feature"
   ]
  },
  {
   "cell_type": "markdown",
   "id": "offshore-stylus",
   "metadata": {
    "heading_collapsed": "true",
    "tags": []
   },
   "source": [
    "#### Preprocessing Text"
   ]
  },
  {
   "cell_type": "markdown",
   "id": "delayed-supervisor",
   "metadata": {},
   "source": [
    "- Bag Of Words\n",
    "- Parse HTML\n",
    "- Remove Punctuation\n",
    "- Remove Stop Words\n",
    "- Replace Characters\n",
    "- Stemming Words\n",
    "- Strip Whitespace\n",
    "- Tag Parts Of Speech\n",
    "- Term Frequency Inverse Document Frequency\n",
    "- Tokenize Text"
   ]
  },
  {
   "cell_type": "markdown",
   "id": "smart-fairy",
   "metadata": {},
   "source": [
    "##### Bag Of Words"
   ]
  },
  {
   "cell_type": "markdown",
   "id": "optical-globe",
   "metadata": {},
   "source": [
    "##### Parse HTML"
   ]
  },
  {
   "cell_type": "markdown",
   "id": "fundamental-steam",
   "metadata": {},
   "source": [
    "##### Remove Punctuation"
   ]
  },
  {
   "cell_type": "markdown",
   "id": "graphic-cross",
   "metadata": {},
   "source": [
    "##### Remove Stop Words"
   ]
  },
  {
   "cell_type": "markdown",
   "id": "forbidden-proposition",
   "metadata": {},
   "source": [
    "##### Replace Characters"
   ]
  },
  {
   "cell_type": "markdown",
   "id": "prescribed-cooler",
   "metadata": {},
   "source": [
    "##### Stemming Words"
   ]
  },
  {
   "cell_type": "markdown",
   "id": "choice-notification",
   "metadata": {},
   "source": [
    "##### Strip Whitespace"
   ]
  },
  {
   "cell_type": "markdown",
   "id": "underlying-occurrence",
   "metadata": {},
   "source": [
    "##### Tag Parts Of Speech"
   ]
  },
  {
   "cell_type": "markdown",
   "id": "pursuant-residence",
   "metadata": {},
   "source": [
    "##### Term Frequency Inverse Document Frequency"
   ]
  },
  {
   "cell_type": "markdown",
   "id": "smart-restriction",
   "metadata": {},
   "source": [
    "##### Tokenize Text"
   ]
  },
  {
   "cell_type": "markdown",
   "id": "apparent-madison",
   "metadata": {
    "heading_collapsed": "true",
    "tags": []
   },
   "source": [
    "#### Preprocessing Dates and Times"
   ]
  },
  {
   "cell_type": "markdown",
   "id": "temporal-triple",
   "metadata": {},
   "source": [
    "- Break Up Dates And Times Into Multiple Features\n",
    "- Calculate Difference Between Dates And Times\n",
    "- Convert pandas Columns Time Zone\n",
    "- Convert Strings To Dates\n",
    "- Encode Days Of The Week\n",
    "- Handling Missing Values In Time Series\n",
    "- Handling Time Zones\n",
    "- Lag A Time Feature\n",
    "- Rolling Time Window\n",
    "- Select Date And Time Ranges"
   ]
  },
  {
   "cell_type": "markdown",
   "id": "ordinary-luxembourg",
   "metadata": {},
   "source": [
    "##### Break Up Dates And Times Into Multiple Features"
   ]
  },
  {
   "cell_type": "markdown",
   "id": "bearing-distinction",
   "metadata": {},
   "source": [
    "##### Calculate Difference Between Dates And Times"
   ]
  },
  {
   "cell_type": "markdown",
   "id": "aware-sense",
   "metadata": {},
   "source": [
    "##### Convert pandas Columns Time Zone"
   ]
  },
  {
   "cell_type": "markdown",
   "id": "informal-costume",
   "metadata": {},
   "source": [
    "##### Convert Strings To Dates"
   ]
  },
  {
   "cell_type": "markdown",
   "id": "motivated-directory",
   "metadata": {},
   "source": [
    "##### Encode Days Of The Week"
   ]
  },
  {
   "cell_type": "markdown",
   "id": "correct-shell",
   "metadata": {},
   "source": [
    "##### Handling Missing Values In Time Series"
   ]
  },
  {
   "cell_type": "markdown",
   "id": "champion-deputy",
   "metadata": {},
   "source": [
    "##### Handling Time Zones"
   ]
  },
  {
   "cell_type": "markdown",
   "id": "traditional-floating",
   "metadata": {},
   "source": [
    "##### Lag A Time Feature"
   ]
  },
  {
   "cell_type": "markdown",
   "id": "approximate-london",
   "metadata": {},
   "source": [
    "##### Rolling Time Window"
   ]
  },
  {
   "cell_type": "markdown",
   "id": "organized-feedback",
   "metadata": {},
   "source": [
    "##### Select Date And Time Ranges"
   ]
  },
  {
   "cell_type": "markdown",
   "id": "medium-baseline",
   "metadata": {
    "heading_collapsed": "true",
    "tags": []
   },
   "source": [
    "#### Feature Engineering"
   ]
  },
  {
   "cell_type": "markdown",
   "id": "reduced-economy",
   "metadata": {},
   "source": [
    "- Dimensionality Reduction On Sparse Feature Matrix\n",
    "- Dimensionality Reduction With Kernel PCA\n",
    "- Dimensionality Reduction With PCA\n",
    "- Feature Extraction With PCA\n",
    "- Group Observations Using K-Means Clustering\n",
    "- Selecting The Best Number Of Components For LDA\n",
    "- Selecting The Best Number Of Components For TSVD\n",
    "- Using Linear Discriminant Analysis For Dimensionality Reduction"
   ]
  },
  {
   "cell_type": "markdown",
   "id": "fundamental-effort",
   "metadata": {},
   "source": [
    "##### Dimensionality Reduction On Sparse Feature Matrix"
   ]
  },
  {
   "cell_type": "markdown",
   "id": "ultimate-pension",
   "metadata": {},
   "source": [
    "##### Dimensionality Reduction With Kernel PCA"
   ]
  },
  {
   "cell_type": "markdown",
   "id": "orange-sapphire",
   "metadata": {},
   "source": [
    "##### Dimensionality Reduction With PCA"
   ]
  },
  {
   "cell_type": "markdown",
   "id": "familiar-illustration",
   "metadata": {},
   "source": [
    "##### Feature Extraction With PCA"
   ]
  },
  {
   "cell_type": "markdown",
   "id": "meaningful-policy",
   "metadata": {},
   "source": [
    "##### Group Observations Using K-Means Clustering"
   ]
  },
  {
   "cell_type": "markdown",
   "id": "romantic-change",
   "metadata": {},
   "source": [
    "##### Selecting The Best Number Of Components For LDA"
   ]
  },
  {
   "cell_type": "markdown",
   "id": "arctic-father",
   "metadata": {},
   "source": [
    "##### Selecting The Best Number Of Components For TSVD"
   ]
  },
  {
   "cell_type": "markdown",
   "id": "forced-wesley",
   "metadata": {},
   "source": [
    "##### Using Linear Discriminant Analysis For Dimensionality Reduction"
   ]
  },
  {
   "cell_type": "markdown",
   "id": "quarterly-adjustment",
   "metadata": {
    "heading_collapsed": "true",
    "tags": []
   },
   "source": [
    "#### Feature Selection"
   ]
  },
  {
   "cell_type": "markdown",
   "id": "dental-rachel",
   "metadata": {},
   "source": [
    "- ANOVA F-value For Feature Selection\n",
    "- Chi-Squared For Feature Selection\n",
    "- Drop Highly Correlated Features\n",
    "- Recursive Feature Elimination\n",
    "- Variance Thresholding Binary Features\n",
    "- Variance Thresholding For Feature Selection"
   ]
  },
  {
   "cell_type": "markdown",
   "id": "employed-copying",
   "metadata": {},
   "source": [
    "##### ANOVA F-value For Feature Selection"
   ]
  },
  {
   "cell_type": "markdown",
   "id": "later-enhancement",
   "metadata": {},
   "source": [
    "##### Chi-Squared For Feature Selection"
   ]
  },
  {
   "cell_type": "markdown",
   "id": "developing-region",
   "metadata": {},
   "source": [
    "##### Drop Highly Correlated Features"
   ]
  },
  {
   "cell_type": "markdown",
   "id": "rocky-orchestra",
   "metadata": {},
   "source": [
    "##### Recursive Feature Elimination"
   ]
  },
  {
   "cell_type": "markdown",
   "id": "bronze-period",
   "metadata": {},
   "source": [
    "##### Variance Thresholding Binary Features"
   ]
  },
  {
   "cell_type": "markdown",
   "id": "retired-study",
   "metadata": {},
   "source": [
    "##### Variance Thresholding For Feature Selection"
   ]
  },
  {
   "cell_type": "markdown",
   "id": "manufactured-latvia",
   "metadata": {
    "heading_collapsed": "true",
    "tags": []
   },
   "source": [
    "#### Model Evaluation"
   ]
  },
  {
   "cell_type": "markdown",
   "id": "underlying-august",
   "metadata": {},
   "source": [
    "- Accuracy\n",
    "- Create Baseline Classification Model\n",
    "- Create Baseline Regression Model\n",
    "- Cross Validation Pipeline\n",
    "- Cross Validation With Parameter Tuning Using Grid Search\n",
    "- Cross-Validation\n",
    "- Custom Performance Metric\n",
    "- F1 Score\n",
    "- Generate Text Reports On Performance\n",
    "- Nested Cross Validation\n",
    "- Plot The Learning Curve\n",
    "- Plot The Receiving Operating Characteristic Curve\n",
    "- Plot The Validation Curve\n",
    "- Precision\n",
    "- Recall\n",
    "- Split Data Into Training And Test Sets"
   ]
  },
  {
   "cell_type": "markdown",
   "id": "allied-active",
   "metadata": {},
   "source": [
    "##### Accuracy"
   ]
  },
  {
   "cell_type": "markdown",
   "id": "referenced-remove",
   "metadata": {},
   "source": [
    "##### Create Baseline Classification Model"
   ]
  },
  {
   "cell_type": "markdown",
   "id": "amber-shower",
   "metadata": {},
   "source": [
    "##### Create Baseline Regression Model"
   ]
  },
  {
   "cell_type": "markdown",
   "id": "sonic-remains",
   "metadata": {},
   "source": [
    "##### Cross Validation Pipeline"
   ]
  },
  {
   "cell_type": "markdown",
   "id": "valid-cosmetic",
   "metadata": {},
   "source": [
    "##### Cross Validation With Parameter Tuning Using Grid Search"
   ]
  },
  {
   "cell_type": "markdown",
   "id": "hydraulic-staff",
   "metadata": {},
   "source": [
    "##### Cross-Validation"
   ]
  },
  {
   "cell_type": "markdown",
   "id": "sealed-timber",
   "metadata": {},
   "source": [
    "##### Custom Performance Metric"
   ]
  },
  {
   "cell_type": "markdown",
   "id": "female-reality",
   "metadata": {},
   "source": [
    "##### F1 Score"
   ]
  },
  {
   "cell_type": "markdown",
   "id": "wrapped-norway",
   "metadata": {},
   "source": [
    "##### Generate Text Reports On Performance"
   ]
  },
  {
   "cell_type": "markdown",
   "id": "enormous-ministry",
   "metadata": {},
   "source": [
    "##### Nested Cross Validation"
   ]
  },
  {
   "cell_type": "markdown",
   "id": "numerical-prefix",
   "metadata": {},
   "source": [
    "##### Plot The Learning Curve"
   ]
  },
  {
   "cell_type": "markdown",
   "id": "upper-simulation",
   "metadata": {},
   "source": [
    "##### Plot The Receiving Operating Characteristic Curve"
   ]
  },
  {
   "cell_type": "markdown",
   "id": "fatal-midnight",
   "metadata": {},
   "source": [
    "##### Plot The Validation Curve"
   ]
  },
  {
   "cell_type": "markdown",
   "id": "correct-salvation",
   "metadata": {},
   "source": [
    "##### Precision"
   ]
  },
  {
   "cell_type": "markdown",
   "id": "conscious-mapping",
   "metadata": {},
   "source": [
    "##### Recall"
   ]
  },
  {
   "cell_type": "markdown",
   "id": "careful-mason",
   "metadata": {},
   "source": [
    "##### Split Data Into Training And Test Sets"
   ]
  },
  {
   "cell_type": "markdown",
   "id": "particular-correspondence",
   "metadata": {
    "heading_collapsed": "true",
    "tags": []
   },
   "source": [
    "#### Model Selection"
   ]
  },
  {
   "cell_type": "markdown",
   "id": "certain-islam",
   "metadata": {},
   "source": [
    "- Find Best Preprocessing Steps During Model Selection\n",
    "- Hyperparameter Tuning Using Grid Search\n",
    "- Hyperparameter Tuning Using Random Search\n",
    "- Model Selection Using Grid Search\n",
    "- Pipelines With Parameter Optimization"
   ]
  },
  {
   "cell_type": "markdown",
   "id": "australian-douglas",
   "metadata": {},
   "source": [
    "##### Find Best Preprocessing Steps During Model Selection"
   ]
  },
  {
   "cell_type": "markdown",
   "id": "extraordinary-shanghai",
   "metadata": {},
   "source": [
    "##### Hyperparameter Tuning Using Grid Search"
   ]
  },
  {
   "cell_type": "markdown",
   "id": "developing-trainer",
   "metadata": {},
   "source": [
    "##### Hyperparameter Tuning Using Random Search"
   ]
  },
  {
   "cell_type": "markdown",
   "id": "bearing-eagle",
   "metadata": {},
   "source": [
    "##### Model Selection Using Grid Search"
   ]
  },
  {
   "cell_type": "markdown",
   "id": "virgin-brick",
   "metadata": {},
   "source": [
    "##### Pipelines With Parameter Optimization"
   ]
  },
  {
   "cell_type": "markdown",
   "id": "constant-index",
   "metadata": {
    "heading_collapsed": "true",
    "tags": []
   },
   "source": [
    "#### Linear Regression"
   ]
  },
  {
   "cell_type": "markdown",
   "id": "golden-invalid",
   "metadata": {},
   "source": [
    "- Adding Interaction Terms\n",
    "- Create Interaction Features\n",
    "- Effect Of Alpha On Lasso Regression\n",
    "- Lasso Regression\n",
    "- Linear Regression\n",
    "- Linear Regression Using Scikit-Learn\n",
    "- Ridge Regression\n",
    "- Selecting The Best Alpha Value In Ridge Regression"
   ]
  },
  {
   "cell_type": "markdown",
   "id": "smoking-address",
   "metadata": {},
   "source": [
    "##### Adding Interaction Terms"
   ]
  },
  {
   "cell_type": "markdown",
   "id": "rising-elephant",
   "metadata": {},
   "source": [
    "##### Create Interaction Features"
   ]
  },
  {
   "cell_type": "markdown",
   "id": "legislative-exclusion",
   "metadata": {},
   "source": [
    "##### Effect Of Alpha On Lasso Regression"
   ]
  },
  {
   "cell_type": "markdown",
   "id": "ultimate-convenience",
   "metadata": {},
   "source": [
    "##### Lasso Regression"
   ]
  },
  {
   "cell_type": "markdown",
   "id": "sustained-daughter",
   "metadata": {},
   "source": [
    "##### Linear Regression"
   ]
  },
  {
   "cell_type": "markdown",
   "id": "based-panama",
   "metadata": {},
   "source": [
    "##### Linear Regression Using Scikit-Learn"
   ]
  },
  {
   "cell_type": "markdown",
   "id": "comparative-plane",
   "metadata": {},
   "source": [
    "##### Ridge Regression"
   ]
  },
  {
   "cell_type": "markdown",
   "id": "ordered-sense",
   "metadata": {},
   "source": [
    "##### Selecting The Best Alpha Value In Ridge Regression"
   ]
  },
  {
   "cell_type": "markdown",
   "id": "english-florence",
   "metadata": {
    "heading_collapsed": "true",
    "tags": []
   },
   "source": [
    "#### Logistic Regression"
   ]
  },
  {
   "cell_type": "markdown",
   "id": "sound-kitty",
   "metadata": {},
   "source": [
    "- Fast C Hyperparameter Tuning\n",
    "- Handling Imbalanced Classes In Logistic Regression\n",
    "- Logistic Regression\n",
    "- Logistic Regression On Very Large Data\n",
    "- Logistic Regression With L1 Regularization\n",
    "- One Vs. Rest Logistic Regression"
   ]
  },
  {
   "cell_type": "markdown",
   "id": "applied-moore",
   "metadata": {},
   "source": [
    "##### Fast C Hyperparameter Tuning"
   ]
  },
  {
   "cell_type": "markdown",
   "id": "invalid-repeat",
   "metadata": {},
   "source": [
    "##### Handling Imbalanced Classes In Logistic Regression"
   ]
  },
  {
   "cell_type": "markdown",
   "id": "significant-atlanta",
   "metadata": {},
   "source": [
    "##### Logistic Regression"
   ]
  },
  {
   "cell_type": "markdown",
   "id": "hungarian-communication",
   "metadata": {},
   "source": [
    "##### Logistic Regression On Very Large Data"
   ]
  },
  {
   "cell_type": "markdown",
   "id": "wanted-nurse",
   "metadata": {},
   "source": [
    "##### Logistic Regression With L1 Regularization"
   ]
  },
  {
   "cell_type": "markdown",
   "id": "capable-component",
   "metadata": {},
   "source": [
    "##### One Vs. Rest Logistic Regression"
   ]
  },
  {
   "cell_type": "markdown",
   "id": "loose-sweden",
   "metadata": {
    "heading_collapsed": "true",
    "tags": []
   },
   "source": [
    "#### Trees and Forests"
   ]
  },
  {
   "cell_type": "markdown",
   "id": "ambient-xerox",
   "metadata": {},
   "source": [
    "- Outlier Detection With Isolation Forests\n",
    "- Adaboost Classifier\n",
    "- Decision Tree Classifier\n",
    "- Decision Tree Regression\n",
    "- Feature Importance\n",
    "- Feature Selection Using Random Forest\n",
    "- Handle Imbalanced Classes In Random Forest\n",
    "- Random Forest Classifier\n",
    "- Random Forest Classifier Example\n",
    "- Random Forest Regression\n",
    "- Select Important Features In Random Forest\n",
    "- Titanic Competition With Random Forest\n",
    "- Visualize A Decision Tree"
   ]
  },
  {
   "cell_type": "markdown",
   "id": "celtic-murder",
   "metadata": {},
   "source": [
    "##### Outlier Detection With Isolation Forests"
   ]
  },
  {
   "cell_type": "markdown",
   "id": "fuzzy-triple",
   "metadata": {},
   "source": [
    "##### Adaboost Classifier"
   ]
  },
  {
   "cell_type": "markdown",
   "id": "active-bachelor",
   "metadata": {},
   "source": [
    "##### Decision Tree Classifier"
   ]
  },
  {
   "cell_type": "markdown",
   "id": "ceramic-documentary",
   "metadata": {},
   "source": [
    "##### Decision Tree Regression"
   ]
  },
  {
   "cell_type": "markdown",
   "id": "royal-repeat",
   "metadata": {},
   "source": [
    "##### Feature Importance"
   ]
  },
  {
   "cell_type": "markdown",
   "id": "funny-teens",
   "metadata": {},
   "source": [
    "##### Feature Selection Using Random Forest"
   ]
  },
  {
   "cell_type": "markdown",
   "id": "configured-texture",
   "metadata": {},
   "source": [
    "##### Handle Imbalanced Classes In Random Forest"
   ]
  },
  {
   "cell_type": "markdown",
   "id": "ambient-tuesday",
   "metadata": {},
   "source": [
    "##### Random Forest Classifier"
   ]
  },
  {
   "cell_type": "markdown",
   "id": "needed-stable",
   "metadata": {},
   "source": [
    "##### Random Forest Classifier Example"
   ]
  },
  {
   "cell_type": "markdown",
   "id": "usual-romania",
   "metadata": {},
   "source": [
    "##### Random Forest Regression"
   ]
  },
  {
   "cell_type": "markdown",
   "id": "direct-funeral",
   "metadata": {},
   "source": [
    "##### Select Important Features In Random Forest"
   ]
  },
  {
   "cell_type": "markdown",
   "id": "whole-vacation",
   "metadata": {},
   "source": [
    "##### Titanic Competition With Random Forest"
   ]
  },
  {
   "cell_type": "markdown",
   "id": "noted-entrepreneur",
   "metadata": {},
   "source": [
    "##### Visualize A Decision Tree"
   ]
  },
  {
   "cell_type": "markdown",
   "id": "likely-delay",
   "metadata": {
    "heading_collapsed": "true",
    "tags": []
   },
   "source": [
    "#### Nearest Neighbors"
   ]
  },
  {
   "cell_type": "markdown",
   "id": "parental-accessory",
   "metadata": {},
   "source": [
    "- Identifying Best Value Of k\n",
    "- K-Nearest Neighbors Classification\n",
    "- Radius-Based Nearest Neighbor Classifier"
   ]
  },
  {
   "cell_type": "markdown",
   "id": "arranged-swaziland",
   "metadata": {},
   "source": [
    "##### Identifying Best Value Of k"
   ]
  },
  {
   "cell_type": "markdown",
   "id": "sixth-disease",
   "metadata": {},
   "source": [
    "##### K-Nearest Neighbors Classification"
   ]
  },
  {
   "cell_type": "markdown",
   "id": "specific-russian",
   "metadata": {},
   "source": [
    "##### Radius-Based Nearest Neighbor Classifier"
   ]
  },
  {
   "cell_type": "markdown",
   "id": "thirty-batch",
   "metadata": {
    "heading_collapsed": "true",
    "tags": []
   },
   "source": [
    "#### Support Vector Machines"
   ]
  },
  {
   "cell_type": "markdown",
   "id": "wooden-stupid",
   "metadata": {},
   "source": [
    "- Calibrate Predicted Probabilities In SVC\n",
    "- Find Nearest Neighbors\n",
    "- Find Support Vectors\n",
    "- Imbalanced Classes In SVM\n",
    "- Plot The Support Vector Classifiers Hyperplane\n",
    "- Support Vector Classifier\n",
    "- SVC Parameters When Using RBF Kernel"
   ]
  },
  {
   "cell_type": "markdown",
   "id": "fallen-recovery",
   "metadata": {},
   "source": [
    "##### Calibrate Predicted Probabilities In SVC"
   ]
  },
  {
   "cell_type": "markdown",
   "id": "variable-passage",
   "metadata": {},
   "source": [
    "##### Find Nearest Neighbors"
   ]
  },
  {
   "cell_type": "markdown",
   "id": "vital-rouge",
   "metadata": {},
   "source": [
    "##### Find Support Vectors"
   ]
  },
  {
   "cell_type": "markdown",
   "id": "lyric-invalid",
   "metadata": {},
   "source": [
    "##### Imbalanced Classes In SVM"
   ]
  },
  {
   "cell_type": "markdown",
   "id": "revised-peter",
   "metadata": {},
   "source": [
    "##### Plot The Support Vector Classifiers Hyperplane"
   ]
  },
  {
   "cell_type": "markdown",
   "id": "dated-switzerland",
   "metadata": {},
   "source": [
    "##### Support Vector Classifier"
   ]
  },
  {
   "cell_type": "markdown",
   "id": "humanitarian-chancellor",
   "metadata": {},
   "source": [
    "##### SVC Parameters When Using RBF Kernel"
   ]
  },
  {
   "cell_type": "markdown",
   "id": "straight-pasta",
   "metadata": {
    "heading_collapsed": "true",
    "tags": []
   },
   "source": [
    "#### Naive Bayes"
   ]
  },
  {
   "cell_type": "markdown",
   "id": "killing-stocks",
   "metadata": {},
   "source": [
    "- Bernoulli Naive Bayes Classifier\n",
    "- Calibrate Predicted Probabilities\n",
    "- Gaussian Naive Bayes Classifier\n",
    "- Multinomial Logistic Regression\n",
    "- Multinomial Naive Bayes Classifier\n",
    "- Naive Bayes Classifier From Scratch"
   ]
  },
  {
   "cell_type": "markdown",
   "id": "impressive-promise",
   "metadata": {},
   "source": [
    "##### Bernoulli Naive Bayes Classifier"
   ]
  },
  {
   "cell_type": "markdown",
   "id": "fifth-longitude",
   "metadata": {},
   "source": [
    "##### Calibrate Predicted Probabilities"
   ]
  },
  {
   "cell_type": "markdown",
   "id": "searching-serbia",
   "metadata": {},
   "source": [
    "##### Gaussian Naive Bayes Classifier"
   ]
  },
  {
   "cell_type": "markdown",
   "id": "periodic-husband",
   "metadata": {},
   "source": [
    "##### Multinomial Logistic Regression"
   ]
  },
  {
   "cell_type": "markdown",
   "id": "still-french",
   "metadata": {},
   "source": [
    "##### Multinomial Naive Bayes Classifier"
   ]
  },
  {
   "cell_type": "markdown",
   "id": "loved-testament",
   "metadata": {},
   "source": [
    "##### Naive Bayes Classifier From Scratch"
   ]
  },
  {
   "cell_type": "markdown",
   "id": "naval-fraction",
   "metadata": {
    "heading_collapsed": "true",
    "tags": []
   },
   "source": [
    "#### Clustering"
   ]
  },
  {
   "cell_type": "markdown",
   "id": "nasty-inventory",
   "metadata": {},
   "source": [
    "- Agglomerative Clustering\n",
    "- DBSCAN Clustering\n",
    "- Evaluating Clustering\n",
    "- k-Means Clustering\n",
    "- Meanshift Clustering\n",
    "- Mini-Batch k-Means Clustering"
   ]
  },
  {
   "cell_type": "markdown",
   "id": "international-legislature",
   "metadata": {},
   "source": [
    "##### Agglomerative Clustering"
   ]
  },
  {
   "cell_type": "markdown",
   "id": "tutorial-spine",
   "metadata": {},
   "source": [
    "##### DBSCAN Clustering"
   ]
  },
  {
   "cell_type": "markdown",
   "id": "rural-comedy",
   "metadata": {},
   "source": [
    "##### Evaluating Clustering"
   ]
  },
  {
   "cell_type": "markdown",
   "id": "chinese-runner",
   "metadata": {},
   "source": [
    "##### k-Means Clustering"
   ]
  },
  {
   "cell_type": "markdown",
   "id": "framed-monitor",
   "metadata": {},
   "source": [
    "##### Meanshift Clustering"
   ]
  },
  {
   "cell_type": "markdown",
   "id": "undefined-maryland",
   "metadata": {},
   "source": [
    "##### Mini-Batch k-Means Clustering"
   ]
  },
  {
   "cell_type": "markdown",
   "id": "demonstrated-filename",
   "metadata": {
    "heading_collapsed": "true",
    "tags": []
   },
   "source": [
    "### Deep Learning"
   ]
  },
  {
   "cell_type": "markdown",
   "id": "essential-faculty",
   "metadata": {
    "heading_collapsed": "true",
    "tags": []
   },
   "source": [
    "#### Setup"
   ]
  },
  {
   "cell_type": "markdown",
   "id": "broadband-madonna",
   "metadata": {},
   "source": [
    "- Prevent Ubuntu 18.06 And Nvidia Drivers From Updating"
   ]
  },
  {
   "cell_type": "markdown",
   "id": "pressing-milan",
   "metadata": {},
   "source": [
    "##### Prevent Ubuntu 18.06 And Nvidia Drivers From Updating"
   ]
  },
  {
   "cell_type": "markdown",
   "id": "hungarian-namibia",
   "metadata": {
    "heading_collapsed": "true",
    "tags": []
   },
   "source": [
    "#### Keras"
   ]
  },
  {
   "cell_type": "markdown",
   "id": "surrounded-centre",
   "metadata": {},
   "source": [
    "- Adding Dropout\n",
    "- Convolutional Neural Network\n",
    "- Feedforward Neural Network For Binary Classification\n",
    "- Feedforward Neural Network For Multiclass Classification\n",
    "- Feedforward Neural Networks For Regression\n",
    "- k-Fold Cross-Validating Neural Networks\n",
    "- LSTM Recurrent Neural Network\n",
    "- Neural Network Early Stopping\n",
    "- Neural Network Weight Regularization\n",
    "- Preprocessing Data For Neural Networks\n",
    "- Save Model Training Progress\n",
    "- Tuning Neural Network Hyperparameters\n",
    "- Visualize Loss History\n",
    "- Visualize Neural Network Architecutre\n",
    "- Visualize Performance History"
   ]
  },
  {
   "cell_type": "markdown",
   "id": "muslim-railway",
   "metadata": {},
   "source": [
    "##### Adding Dropout"
   ]
  },
  {
   "cell_type": "markdown",
   "id": "instant-filename",
   "metadata": {},
   "source": [
    "##### Convolutional Neural Network"
   ]
  },
  {
   "cell_type": "markdown",
   "id": "thirty-federal",
   "metadata": {},
   "source": [
    "##### Feedforward Neural Network For Binary Classification"
   ]
  },
  {
   "cell_type": "markdown",
   "id": "incorporate-dressing",
   "metadata": {},
   "source": [
    "##### Feedforward Neural Network For Multiclass Classification"
   ]
  },
  {
   "cell_type": "markdown",
   "id": "superior-union",
   "metadata": {},
   "source": [
    "##### Feedforward Neural Networks For Regression"
   ]
  },
  {
   "cell_type": "markdown",
   "id": "sustainable-vessel",
   "metadata": {},
   "source": [
    "##### k-Fold Cross-Validating Neural Networks"
   ]
  },
  {
   "cell_type": "markdown",
   "id": "received-membrane",
   "metadata": {},
   "source": [
    "##### LSTM Recurrent Neural Network"
   ]
  },
  {
   "cell_type": "markdown",
   "id": "protecting-drinking",
   "metadata": {},
   "source": [
    "##### Neural Network Early Stopping"
   ]
  },
  {
   "cell_type": "markdown",
   "id": "practical-square",
   "metadata": {},
   "source": [
    "##### Neural Network Weight Regularization"
   ]
  },
  {
   "cell_type": "markdown",
   "id": "military-sierra",
   "metadata": {},
   "source": [
    "##### Preprocessing Data For Neural Networks"
   ]
  },
  {
   "cell_type": "markdown",
   "id": "adapted-wheat",
   "metadata": {},
   "source": [
    "##### Save Model Training Progress"
   ]
  },
  {
   "cell_type": "markdown",
   "id": "continuous-coating",
   "metadata": {},
   "source": [
    "##### Tuning Neural Network Hyperparameters"
   ]
  },
  {
   "cell_type": "markdown",
   "id": "retired-iceland",
   "metadata": {},
   "source": [
    "##### Visualize Loss History"
   ]
  },
  {
   "cell_type": "markdown",
   "id": "missing-studio",
   "metadata": {},
   "source": [
    "##### Visualize Neural Network Architecutre"
   ]
  },
  {
   "cell_type": "markdown",
   "id": "funky-despite",
   "metadata": {},
   "source": [
    "##### Visualize Performance History"
   ]
  },
  {
   "cell_type": "markdown",
   "id": "flying-lloyd",
   "metadata": {
    "tags": []
   },
   "source": [
    "#### PyTorch"
   ]
  },
  {
   "cell_type": "markdown",
   "id": "early-relay",
   "metadata": {},
   "source": [
    "- Check If PyTorch Is Using The GPU"
   ]
  },
  {
   "cell_type": "markdown",
   "id": "wooden-glasgow",
   "metadata": {},
   "source": [
    "##### Check If PyTorch Is Using The GPU"
   ]
  },
  {
   "cell_type": "markdown",
   "id": "applied-investigation",
   "metadata": {
    "heading_collapsed": "true",
    "tags": []
   },
   "source": [
    "### Statistics"
   ]
  },
  {
   "cell_type": "markdown",
   "id": "native-observer",
   "metadata": {
    "heading_collapsed": "true",
    "tags": []
   },
   "source": [
    "#### Basics"
   ]
  },
  {
   "cell_type": "markdown",
   "id": "damaged-wednesday",
   "metadata": {},
   "source": [
    "- Linear Interpolation\n",
    "- Trimmed Mean"
   ]
  },
  {
   "cell_type": "markdown",
   "id": "cultural-supplier",
   "metadata": {},
   "source": [
    "##### Linear Interpolation\n"
   ]
  },
  {
   "cell_type": "markdown",
   "id": "shared-verse",
   "metadata": {},
   "source": [
    "##### Trimmed Mean"
   ]
  },
  {
   "cell_type": "markdown",
   "id": "proved-singapore",
   "metadata": {
    "heading_collapsed": "true",
    "tags": []
   },
   "source": [
    "#### Frequentist"
   ]
  },
  {
   "cell_type": "markdown",
   "id": "inappropriate-simon",
   "metadata": {},
   "source": [
    "- Bessels Correction\n",
    "- Demonstrate The Central Limit Theorem\n",
    "- Pearsons Correlation Coefficient\n",
    "- Probability Mass Functions\n",
    "- Spearmans Rank Correlation\n",
    "- T-Tests\n",
    "- Variance And Standard Deviation"
   ]
  },
  {
   "cell_type": "markdown",
   "id": "deluxe-stomach",
   "metadata": {},
   "source": [
    "##### Bessels Correction"
   ]
  },
  {
   "cell_type": "markdown",
   "id": "alive-canberra",
   "metadata": {},
   "source": [
    "##### Demonstrate The Central Limit Theorem"
   ]
  },
  {
   "cell_type": "markdown",
   "id": "rocky-natural",
   "metadata": {},
   "source": [
    "##### Pearsons Correlation Coefficient"
   ]
  },
  {
   "cell_type": "markdown",
   "id": "charged-cincinnati",
   "metadata": {},
   "source": [
    "##### Probability Mass Functions"
   ]
  },
  {
   "cell_type": "markdown",
   "id": "innocent-violence",
   "metadata": {},
   "source": [
    "##### Spearmans Rank Correlation"
   ]
  },
  {
   "cell_type": "markdown",
   "id": "periodic-delicious",
   "metadata": {},
   "source": [
    "##### T-Tests"
   ]
  },
  {
   "cell_type": "markdown",
   "id": "billion-kingdom",
   "metadata": {},
   "source": [
    "##### Variance And Standard Deviation"
   ]
  },
  {
   "cell_type": "markdown",
   "id": "further-aquarium",
   "metadata": {
    "heading_collapsed": "true",
    "tags": []
   },
   "source": [
    "### Mathematics"
   ]
  },
  {
   "cell_type": "markdown",
   "id": "animated-castle",
   "metadata": {},
   "source": [
    "- argmin and argmax "
   ]
  },
  {
   "cell_type": "markdown",
   "id": "collectible-portable",
   "metadata": {
    "heading_collapsed": "true",
    "tags": []
   },
   "source": [
    "##### argmin and argmax "
   ]
  },
  {
   "cell_type": "markdown",
   "id": "activated-beginning",
   "metadata": {
    "heading_collapsed": "true",
    "tags": []
   },
   "source": [
    "## Programming"
   ]
  },
  {
   "cell_type": "markdown",
   "id": "expressed-latex",
   "metadata": {
    "heading_collapsed": "true",
    "tags": []
   },
   "source": [
    "### Python"
   ]
  },
  {
   "cell_type": "markdown",
   "id": "smaller-voltage",
   "metadata": {
    "heading_collapsed": "true",
    "tags": []
   },
   "source": [
    "#### Basics"
   ]
  },
  {
   "cell_type": "markdown",
   "id": "planned-clark",
   "metadata": {},
   "source": [
    "- Add Padding Around String\n",
    "- All Combinations For A List Of Objects\n",
    "- any(), all(), max(), min(), sum()\n",
    "- Append Using The Operator\n",
    "- Apply Operations Over Items In A List\n",
    "- Applying Functions To List Items\n",
    "- Arithmetic Basics\n",
    "- Assignment Operators\n",
    "- Basic Operations With NumPy Array\n",
    "- Breaking Up String Variables\n",
    "- Brute Force D20 Roll Simulator\n",
    "- Cartesian Product\n",
    "- Chain Together Lists\n",
    "- Cleaning Text\n",
    "- Compare Two Dictionaries\n",
    "- Concurrent Processing\n",
    "- Continue And Break Loops\n",
    "- Convert HTML Characters To Strings\n",
    "- Converting Strings To Datetime\n",
    "- Create A New File Then Write To It\n",
    "- Create A Temporary File\n",
    "- Data Structure Basics\n",
    "- Date And Time Basics\n",
    "- Dictionary Basics\n",
    "- Display JSON\n",
    "- Display Scientific Notation As Floats\n",
    "- Exiting A Loop\n",
    "- Find The Max Value In A Dictionary\n",
    "- Flatten Lists Of Lists\n",
    "- For Loop\n",
    "- Formatting Numbers\n",
    "- Function Annotation Examples\n",
    "- Function Basics\n",
    "- Function Example\n",
    "- Functions Vs. Generators\n",
    "- Generating Random Numbers With NumPy\n",
    "- Generator Expressions\n",
    "- Handling Long Lines Of Code\n",
    "- Hard Wrapping Text\n",
    "- How To Use Default Dicts\n",
    "- If and If Else\n",
    "- If Else On Any Or All Elements\n",
    "- Indexing And Slicing NumPy Arrays\n",
    "- Indexing And Slicing NumPy Arrays\n",
    "- Iterate An Ifelse Over A List\n",
    "- Iterate Over Multiple Lists Simultaneously\n",
    "- Iterating Over Dictionary Keys\n",
    "- Lambda Functions\n",
    "- List All Files Of Certain Type In A Directory\n",
    "- Logical Operations\n",
    "- Looping Over Two Lists\n",
    "- Mathematical Operations\n",
    "- Mocking Functions\n",
    "- Nested For Loops Using List Comprehension\n",
    "- Nesting Lists\n",
    "- Numpy Array Basics\n",
    "- Parallel Processing\n",
    "- Partial Function Applications\n",
    "- Priority Queues\n",
    "- Queues And Stacks\n",
    "- Recursive Functions\n",
    "- repr vs. str\n",
    "- Scheduling Jobs In The Future\n",
    "- Select Random Element From A List\n",
    "- Selecting Items In A List With Filters\n",
    "- Set The Color Of A Matplotlib Plot\n",
    "- Sort A List Of Names By Last Name\n",
    "- Sort A List Of Strings By Length\n",
    "- Store API Credentials For Open Source Projects\n",
    "- String Formatting\n",
    "- String Indexing\n",
    "- String Operations\n",
    "- Swapping Variable Values\n",
    "- Try, Except, and Finally\n",
    "- Tuples Vs. Named Tuples\n",
    "- Unpacking A Tuple\n",
    "- Unpacking Function Arguments\n",
    "- Use Command Line Arguments In A Function\n",
    "- Using Iterable As Function Arguments\n",
    "- Using Named Tuples To Store Data\n",
    "- while Statement "
   ]
  },
  {
   "cell_type": "markdown",
   "id": "seven-appliance",
   "metadata": {},
   "source": [
    "##### Add Padding Around String"
   ]
  },
  {
   "cell_type": "markdown",
   "id": "separate-nurse",
   "metadata": {},
   "source": [
    "##### All Combinations For A List Of Objects"
   ]
  },
  {
   "cell_type": "markdown",
   "id": "developing-supplement",
   "metadata": {},
   "source": [
    "##### any(), all(), max(), min(), sum()"
   ]
  },
  {
   "cell_type": "markdown",
   "id": "operating-persian",
   "metadata": {},
   "source": [
    "##### Append Using The Operator"
   ]
  },
  {
   "cell_type": "markdown",
   "id": "designed-illness",
   "metadata": {},
   "source": [
    "##### Apply Operations Over Items In A List "
   ]
  },
  {
   "cell_type": "markdown",
   "id": "ecological-still",
   "metadata": {},
   "source": [
    "##### Applying Functions To List Items"
   ]
  },
  {
   "cell_type": "markdown",
   "id": "earned-fraction",
   "metadata": {},
   "source": [
    "##### Arithmetic Basics"
   ]
  },
  {
   "cell_type": "markdown",
   "id": "unauthorized-import",
   "metadata": {},
   "source": [
    "##### Assignment Operators"
   ]
  },
  {
   "cell_type": "markdown",
   "id": "checked-spirit",
   "metadata": {},
   "source": [
    "##### Basic Operations With NumPy Array"
   ]
  },
  {
   "cell_type": "markdown",
   "id": "likely-focus",
   "metadata": {},
   "source": [
    "##### Breaking Up String Variables"
   ]
  },
  {
   "cell_type": "markdown",
   "id": "surface-purchase",
   "metadata": {},
   "source": [
    "##### Brute Force D20 Roll Simulator"
   ]
  },
  {
   "cell_type": "markdown",
   "id": "vietnamese-brake",
   "metadata": {},
   "source": [
    "##### Cartesian Product"
   ]
  },
  {
   "cell_type": "markdown",
   "id": "north-airline",
   "metadata": {},
   "source": [
    "##### Chain Together Lists"
   ]
  },
  {
   "cell_type": "markdown",
   "id": "japanese-knight",
   "metadata": {},
   "source": [
    "##### Cleaning Text"
   ]
  },
  {
   "cell_type": "markdown",
   "id": "classified-august",
   "metadata": {},
   "source": [
    "##### Compare Two Dictionaries"
   ]
  },
  {
   "cell_type": "markdown",
   "id": "interpreted-modification",
   "metadata": {},
   "source": [
    "##### Concurrent Processing"
   ]
  },
  {
   "cell_type": "markdown",
   "id": "adjacent-sentence",
   "metadata": {},
   "source": [
    "##### Continue And Break Loops"
   ]
  },
  {
   "cell_type": "markdown",
   "id": "hispanic-house",
   "metadata": {},
   "source": [
    "##### Convert HTML Characters To Strings"
   ]
  },
  {
   "cell_type": "markdown",
   "id": "level-wilson",
   "metadata": {},
   "source": [
    "##### Converting Strings To Datetime"
   ]
  },
  {
   "cell_type": "markdown",
   "id": "systematic-athens",
   "metadata": {},
   "source": [
    "##### Create A New File Then Write To It"
   ]
  },
  {
   "cell_type": "markdown",
   "id": "protective-worse",
   "metadata": {},
   "source": [
    "##### Create A Temporary File"
   ]
  },
  {
   "cell_type": "markdown",
   "id": "continental-romania",
   "metadata": {},
   "source": [
    "##### Data Structure Basics"
   ]
  },
  {
   "cell_type": "markdown",
   "id": "thermal-consumption",
   "metadata": {},
   "source": [
    "##### Date And Time Basics"
   ]
  },
  {
   "cell_type": "markdown",
   "id": "pleased-symphony",
   "metadata": {},
   "source": [
    "##### Dictionary Basics"
   ]
  },
  {
   "cell_type": "markdown",
   "id": "macro-radar",
   "metadata": {},
   "source": [
    "##### Display JSON"
   ]
  },
  {
   "cell_type": "markdown",
   "id": "sensitive-scheme",
   "metadata": {},
   "source": [
    "##### Display Scientific Notation As Floats"
   ]
  },
  {
   "cell_type": "markdown",
   "id": "legitimate-japanese",
   "metadata": {},
   "source": [
    "##### Exiting A Loop"
   ]
  },
  {
   "cell_type": "markdown",
   "id": "decreased-quilt",
   "metadata": {},
   "source": [
    "##### Find The Max Value In A Dictionary"
   ]
  },
  {
   "cell_type": "markdown",
   "id": "comparative-remainder",
   "metadata": {},
   "source": [
    "##### Flatten Lists Of Lists"
   ]
  },
  {
   "cell_type": "markdown",
   "id": "manufactured-navigator",
   "metadata": {},
   "source": [
    "##### For Loop"
   ]
  },
  {
   "cell_type": "markdown",
   "id": "seventh-surface",
   "metadata": {},
   "source": [
    "##### Formatting Numbers"
   ]
  },
  {
   "cell_type": "markdown",
   "id": "celtic-delivery",
   "metadata": {},
   "source": [
    "##### Function Annotation Examples"
   ]
  },
  {
   "cell_type": "markdown",
   "id": "adjusted-extreme",
   "metadata": {},
   "source": [
    "##### Function Basics"
   ]
  },
  {
   "cell_type": "markdown",
   "id": "original-liverpool",
   "metadata": {},
   "source": [
    "##### Function Example"
   ]
  },
  {
   "cell_type": "markdown",
   "id": "nervous-steel",
   "metadata": {},
   "source": [
    "##### Functions Vs. Generators"
   ]
  },
  {
   "cell_type": "markdown",
   "id": "immune-entertainment",
   "metadata": {},
   "source": [
    "##### Generating Random Numbers With NumPy"
   ]
  },
  {
   "cell_type": "markdown",
   "id": "employed-vessel",
   "metadata": {},
   "source": [
    "##### Generator Expressions"
   ]
  },
  {
   "cell_type": "markdown",
   "id": "fossil-mapping",
   "metadata": {},
   "source": [
    "##### Handling Long Lines Of Code"
   ]
  },
  {
   "cell_type": "markdown",
   "id": "mature-sleeping",
   "metadata": {},
   "source": [
    "##### Hard Wrapping Text"
   ]
  },
  {
   "cell_type": "markdown",
   "id": "prescription-command",
   "metadata": {},
   "source": [
    "##### How To Use Default Dicts"
   ]
  },
  {
   "cell_type": "markdown",
   "id": "embedded-civilization",
   "metadata": {},
   "source": [
    "##### If and If Else"
   ]
  },
  {
   "cell_type": "markdown",
   "id": "conscious-quantum",
   "metadata": {},
   "source": [
    "##### If Else On Any Or All Elements"
   ]
  },
  {
   "cell_type": "markdown",
   "id": "marked-ecuador",
   "metadata": {},
   "source": [
    "##### Indexing And Slicing NumPy Arrays"
   ]
  },
  {
   "cell_type": "markdown",
   "id": "fleet-netscape",
   "metadata": {},
   "source": [
    "##### Indexing And Slicing NumPy Arrays"
   ]
  },
  {
   "cell_type": "markdown",
   "id": "talented-position",
   "metadata": {},
   "source": [
    "##### Iterate An Ifelse Over A List"
   ]
  },
  {
   "cell_type": "markdown",
   "id": "quarterly-obligation",
   "metadata": {},
   "source": [
    "##### Iterate Over Multiple Lists Simultaneously"
   ]
  },
  {
   "cell_type": "markdown",
   "id": "olympic-cambridge",
   "metadata": {},
   "source": [
    "##### Iterating Over Dictionary Keys"
   ]
  },
  {
   "cell_type": "markdown",
   "id": "together-jones",
   "metadata": {},
   "source": [
    "##### Lambda Functions"
   ]
  },
  {
   "cell_type": "markdown",
   "id": "african-athletics",
   "metadata": {},
   "source": [
    "##### List All Files Of Certain Type In A Directory"
   ]
  },
  {
   "cell_type": "markdown",
   "id": "million-wholesale",
   "metadata": {},
   "source": [
    "##### Logical Operations"
   ]
  },
  {
   "cell_type": "markdown",
   "id": "dimensional-david",
   "metadata": {},
   "source": [
    "##### Looping Over Two Lists"
   ]
  },
  {
   "cell_type": "markdown",
   "id": "still-wells",
   "metadata": {},
   "source": [
    "##### Mathematical Operations"
   ]
  },
  {
   "cell_type": "markdown",
   "id": "backed-collapse",
   "metadata": {},
   "source": [
    "##### Mocking Functions"
   ]
  },
  {
   "cell_type": "markdown",
   "id": "following-makeup",
   "metadata": {},
   "source": [
    "##### Nested For Loops Using List Comprehension"
   ]
  },
  {
   "cell_type": "markdown",
   "id": "according-kazakhstan",
   "metadata": {},
   "source": [
    "##### Nesting Lists"
   ]
  },
  {
   "cell_type": "markdown",
   "id": "olive-improvement",
   "metadata": {},
   "source": [
    "##### Numpy Array Basics"
   ]
  },
  {
   "cell_type": "markdown",
   "id": "periodic-independence",
   "metadata": {},
   "source": [
    "##### Parallel Processing"
   ]
  },
  {
   "cell_type": "markdown",
   "id": "abroad-raising",
   "metadata": {},
   "source": [
    "##### Partial Function Applications"
   ]
  },
  {
   "cell_type": "markdown",
   "id": "fluid-content",
   "metadata": {},
   "source": [
    "##### Priority Queues"
   ]
  },
  {
   "cell_type": "markdown",
   "id": "grand-arrangement",
   "metadata": {},
   "source": [
    "##### Queues And Stacks"
   ]
  },
  {
   "cell_type": "markdown",
   "id": "french-folder",
   "metadata": {},
   "source": [
    "##### Recursive Functions"
   ]
  },
  {
   "cell_type": "markdown",
   "id": "controversial-sympathy",
   "metadata": {},
   "source": [
    "##### repr vs. str"
   ]
  },
  {
   "cell_type": "markdown",
   "id": "elect-rainbow",
   "metadata": {},
   "source": [
    "##### Scheduling Jobs In The Future"
   ]
  },
  {
   "cell_type": "markdown",
   "id": "illegal-tonight",
   "metadata": {},
   "source": [
    "##### Select Random Element From A List"
   ]
  },
  {
   "cell_type": "markdown",
   "id": "sharing-deficit",
   "metadata": {},
   "source": [
    "##### Selecting Items In A List With Filters"
   ]
  },
  {
   "cell_type": "markdown",
   "id": "marked-effects",
   "metadata": {},
   "source": [
    "##### Set The Color Of A Matplotlib Plot"
   ]
  },
  {
   "cell_type": "markdown",
   "id": "original-czech",
   "metadata": {},
   "source": [
    "##### Sort A List Of Names By Last Name"
   ]
  },
  {
   "cell_type": "markdown",
   "id": "antique-sight",
   "metadata": {},
   "source": [
    "##### Sort A List Of Strings By Length"
   ]
  },
  {
   "cell_type": "markdown",
   "id": "eight-cedar",
   "metadata": {},
   "source": [
    "##### Store API Credentials For Open Source Projects"
   ]
  },
  {
   "cell_type": "markdown",
   "id": "caroline-theory",
   "metadata": {},
   "source": [
    "##### String Formatting"
   ]
  },
  {
   "cell_type": "markdown",
   "id": "composite-allocation",
   "metadata": {},
   "source": [
    "##### String Indexing"
   ]
  },
  {
   "cell_type": "markdown",
   "id": "aware-steps",
   "metadata": {},
   "source": [
    "##### String Operations"
   ]
  },
  {
   "cell_type": "markdown",
   "id": "outside-hawaiian",
   "metadata": {},
   "source": [
    "##### Swapping Variable Values"
   ]
  },
  {
   "cell_type": "markdown",
   "id": "applied-departure",
   "metadata": {},
   "source": [
    "##### Try, Except, and Finally"
   ]
  },
  {
   "cell_type": "markdown",
   "id": "instructional-insulin",
   "metadata": {},
   "source": [
    "##### Tuples Vs. Named Tuples"
   ]
  },
  {
   "cell_type": "markdown",
   "id": "otherwise-platform",
   "metadata": {},
   "source": [
    "##### Unpacking A Tuple"
   ]
  },
  {
   "cell_type": "markdown",
   "id": "incorporate-plain",
   "metadata": {},
   "source": [
    "##### Unpacking Function Arguments"
   ]
  },
  {
   "cell_type": "markdown",
   "id": "victorian-instruction",
   "metadata": {},
   "source": [
    "##### Use Command Line Arguments In A Function"
   ]
  },
  {
   "cell_type": "markdown",
   "id": "fantastic-beast",
   "metadata": {},
   "source": [
    "##### Using Iterable As Function Arguments"
   ]
  },
  {
   "cell_type": "markdown",
   "id": "behavioral-major",
   "metadata": {},
   "source": [
    "##### Using Named Tuples To Store Data"
   ]
  },
  {
   "cell_type": "markdown",
   "id": "closing-water",
   "metadata": {},
   "source": [
    "##### while Statement"
   ]
  },
  {
   "cell_type": "markdown",
   "id": "strong-extreme",
   "metadata": {
    "heading_collapsed": "true",
    "tags": []
   },
   "source": [
    "#### Data Wrangling"
   ]
  },
  {
   "cell_type": "markdown",
   "id": "healthy-hamilton",
   "metadata": {},
   "source": [
    "- Columns Shared By Two Data Frames\n",
    "- Apply Functions By Group In Pandas\n",
    "- Apply Operations To Groups In Pandas\n",
    "- Applying Operations Over pandas Dataframes\n",
    "- Assign A New Column To A Pandas DataFrame\n",
    "- Break A List Into N-Sized Chunks\n",
    "- Breaking Up A String Into Columns Using Regex In pandas\n",
    "- Construct A Dictionary From Multiple Lists\n",
    "- Convert A Categorical Variable Into Dummy Variables\n",
    "- Convert A Categorical Variable Into Dummy Variables\n",
    "- Convert A CSV Into Python Code To Recreate It\n",
    "- Convert A String Categorical Variable To A Numeric Variable\n",
    "- Convert A Variable To A Time Variable In pandas\n",
    "- Count Values In Pandas Dataframe\n",
    "- Create a Column Based on a Conditional in pandas\n",
    "- Create A pandas Column With A For Loop\n",
    "- Create A Pipeline In Pandas\n",
    "- Create Counts Of Items\n",
    "- Creating Lists From Dictionary Keys And Values\n",
    "- Crosstabs In pandas\n",
    "- Delete Duplicates In pandas\n",
    "- Descriptive Statistics For pandas Dataframe\n",
    "- Dropping Rows And Columns In pandas Dataframe\n",
    "- Enumerate A List\n",
    "- Expand Cells Containing Lists Into Their Own Variables In Pandas\n",
    "- Filter pandas Dataframes\n",
    "- Find Largest Value In A Dataframe Column\n",
    "- Find Unique Values In Pandas Dataframes\n",
    "- Geocoding And Reverse Geocoding\n",
    "- Geolocate A City And Country\n",
    "- Geolocate A City Or Country\n",
    "- Group A Time Series With pandas\n",
    "- Group Data By Time\n",
    "- Group Pandas Data By Hour Of The Day\n",
    "- Grouping Rows In pandas\n",
    "- Hierarchical Data In pandas\n",
    "- Join And Merge Pandas Dataframe\n",
    "- List Unique Values In A pandas Column\n",
    "- Load A JSON File Into Pandas\n",
    "- Load An Excel File Into Pandas\n",
    "- Load Excel Spreadsheet As pandas Dataframe\n",
    "- Loading A CSV Into pandas\n",
    "- Long To Wide Format\n",
    "- Lower Case Column Names In Pandas Dataframe\n",
    "- Make New Columns Using Functions\n",
    "- Map External Values To Dataframe Values in pandas\n",
    "- Missing Data In pandas Dataframes\n",
    "- Moving Averages In pandas\n",
    "- Normalize A Column In pandas\n",
    "- pandas Data Structures\n",
    "- pandas Time Series Basics\n",
    "- Pivot Tables In pandas\n",
    "- Quickly Change A Column Of Strings In Pandas\n",
    "- Random Sampling Dataframe\n",
    "- Ranking Rows Of Pandas Dataframes\n",
    "- Regular Expression Basics\n",
    "- Regular Expression By Example\n",
    "- Reindexing pandas Series And Dataframes\n",
    "- Rename Column Headers In pandas\n",
    "- Rename Multiple pandas Dataframe Column Names\n",
    "- Replacing Values In pandas\n",
    "- Saving A pandas Dataframe As A CSV\n",
    "- Search A pandas Column For A Value\n",
    "- Select Rows When Columns Contain Certain Values\n",
    "- Select Rows With A Certain Value\n",
    "- Select Rows With Multiple Filters\n",
    "- Selecting pandas DataFrame Rows Based On Conditions\n",
    "- Simple Example Dataframes In pandas\n",
    "- Sorting Rows In pandas Dataframes\n",
    "- Split Lat/Long Coordinate Variables Into Separate Variables\n",
    "- Streaming Data Pipeline\n",
    "- String Munging In Dataframe\n",
    "- Using List Comprehensions With pandas\n",
    "- Using Seaborn To Visualize A pandas Dataframe"
   ]
  },
  {
   "cell_type": "markdown",
   "id": "right-congress",
   "metadata": {},
   "source": [
    "##### Columns Shared By Two Data Frames"
   ]
  },
  {
   "cell_type": "markdown",
   "id": "based-japanese",
   "metadata": {},
   "source": [
    "##### Apply Functions By Group In Pandas"
   ]
  },
  {
   "cell_type": "markdown",
   "id": "coated-lecture",
   "metadata": {},
   "source": [
    "##### Apply Operations To Groups In Pandas"
   ]
  },
  {
   "cell_type": "markdown",
   "id": "educational-lover",
   "metadata": {},
   "source": [
    "##### Applying Operations Over pandas Dataframes"
   ]
  },
  {
   "cell_type": "markdown",
   "id": "flying-homework",
   "metadata": {},
   "source": [
    "##### Assign A New Column To A Pandas DataFrame"
   ]
  },
  {
   "cell_type": "markdown",
   "id": "typical-james",
   "metadata": {},
   "source": [
    "##### Break A List Into N-Sized Chunks"
   ]
  },
  {
   "cell_type": "markdown",
   "id": "nominated-bradley",
   "metadata": {},
   "source": [
    "##### Breaking Up A String Into Columns Using Regex In pandas"
   ]
  },
  {
   "cell_type": "markdown",
   "id": "coordinate-learning",
   "metadata": {},
   "source": [
    "##### Construct A Dictionary From Multiple Lists"
   ]
  },
  {
   "cell_type": "markdown",
   "id": "unknown-thursday",
   "metadata": {},
   "source": [
    "##### Convert A Categorical Variable Into Dummy Variables"
   ]
  },
  {
   "cell_type": "markdown",
   "id": "chemical-baking",
   "metadata": {},
   "source": [
    "##### Convert A Categorical Variable Into Dummy Variables"
   ]
  },
  {
   "cell_type": "markdown",
   "id": "genetic-visiting",
   "metadata": {},
   "source": [
    "##### Convert A CSV Into Python Code To Recreate It"
   ]
  },
  {
   "cell_type": "markdown",
   "id": "experimental-basin",
   "metadata": {},
   "source": [
    "##### Convert A String Categorical Variable To A Numeric Variable"
   ]
  },
  {
   "cell_type": "markdown",
   "id": "competent-whole",
   "metadata": {},
   "source": [
    "##### Convert A Variable To A Time Variable In pandas"
   ]
  },
  {
   "cell_type": "markdown",
   "id": "enormous-crack",
   "metadata": {},
   "source": [
    "##### Count Values In Pandas Dataframe"
   ]
  },
  {
   "cell_type": "markdown",
   "id": "suspected-burst",
   "metadata": {},
   "source": [
    "##### Create a Column Based on a Conditional in pandas"
   ]
  },
  {
   "cell_type": "markdown",
   "id": "religious-aging",
   "metadata": {},
   "source": [
    "##### Create A pandas Column With A For Loop"
   ]
  },
  {
   "cell_type": "markdown",
   "id": "balanced-basement",
   "metadata": {},
   "source": [
    "##### Create A Pipeline In Pandas"
   ]
  },
  {
   "cell_type": "markdown",
   "id": "postal-lover",
   "metadata": {},
   "source": [
    "##### Create Counts Of Items"
   ]
  },
  {
   "cell_type": "markdown",
   "id": "electronic-outdoors",
   "metadata": {},
   "source": [
    "##### Creating Lists From Dictionary Keys And Values"
   ]
  },
  {
   "cell_type": "markdown",
   "id": "driven-consortium",
   "metadata": {},
   "source": [
    "##### Crosstabs In pandas"
   ]
  },
  {
   "cell_type": "markdown",
   "id": "accomplished-welsh",
   "metadata": {},
   "source": [
    "##### Delete Duplicates In pandas"
   ]
  },
  {
   "cell_type": "markdown",
   "id": "assisted-bachelor",
   "metadata": {},
   "source": [
    "##### Descriptive Statistics For pandas Dataframe"
   ]
  },
  {
   "cell_type": "markdown",
   "id": "supreme-discovery",
   "metadata": {},
   "source": [
    "##### Dropping Rows And Columns In pandas Dataframe"
   ]
  },
  {
   "cell_type": "markdown",
   "id": "senior-affect",
   "metadata": {},
   "source": [
    "##### Enumerate A List"
   ]
  },
  {
   "cell_type": "markdown",
   "id": "biblical-joseph",
   "metadata": {},
   "source": [
    "##### Expand Cells Containing Lists Into Their Own Variables In Pandas"
   ]
  },
  {
   "cell_type": "markdown",
   "id": "novel-carry",
   "metadata": {},
   "source": [
    "##### Filter pandas Dataframes"
   ]
  },
  {
   "cell_type": "markdown",
   "id": "closing-psychology",
   "metadata": {},
   "source": [
    "##### Find Largest Value In A Dataframe Column"
   ]
  },
  {
   "cell_type": "markdown",
   "id": "reverse-sender",
   "metadata": {},
   "source": [
    "##### Find Unique Values In Pandas Dataframes"
   ]
  },
  {
   "cell_type": "markdown",
   "id": "golden-parking",
   "metadata": {},
   "source": [
    "##### Geocoding And Reverse Geocoding"
   ]
  },
  {
   "cell_type": "markdown",
   "id": "studied-sender",
   "metadata": {},
   "source": [
    "##### Geolocate A City And Country"
   ]
  },
  {
   "cell_type": "markdown",
   "id": "polish-transaction",
   "metadata": {},
   "source": [
    "##### Geolocate A City Or Country"
   ]
  },
  {
   "cell_type": "markdown",
   "id": "consistent-neighbor",
   "metadata": {},
   "source": [
    "##### Group A Time Series With pandas"
   ]
  },
  {
   "cell_type": "markdown",
   "id": "working-morning",
   "metadata": {},
   "source": [
    "##### Group Data By Time"
   ]
  },
  {
   "cell_type": "markdown",
   "id": "underlying-aging",
   "metadata": {},
   "source": [
    "##### Group Pandas Data By Hour Of The Day"
   ]
  },
  {
   "cell_type": "markdown",
   "id": "described-ecuador",
   "metadata": {},
   "source": [
    "##### Grouping Rows In pandas"
   ]
  },
  {
   "cell_type": "markdown",
   "id": "deluxe-preservation",
   "metadata": {},
   "source": [
    "##### Hierarchical Data In pandas"
   ]
  },
  {
   "cell_type": "markdown",
   "id": "sharing-amazon",
   "metadata": {},
   "source": [
    "##### Join And Merge Pandas Dataframe"
   ]
  },
  {
   "cell_type": "markdown",
   "id": "seeing-celtic",
   "metadata": {},
   "source": [
    "##### List Unique Values In A pandas Column"
   ]
  },
  {
   "cell_type": "markdown",
   "id": "palestinian-vacation",
   "metadata": {},
   "source": [
    "##### Load A JSON File Into Pandas"
   ]
  },
  {
   "cell_type": "markdown",
   "id": "resistant-wright",
   "metadata": {},
   "source": [
    "##### Load An Excel File Into Pandas"
   ]
  },
  {
   "cell_type": "markdown",
   "id": "endangered-brain",
   "metadata": {},
   "source": [
    "##### Load Excel Spreadsheet As pandas Dataframe"
   ]
  },
  {
   "cell_type": "markdown",
   "id": "million-roots",
   "metadata": {},
   "source": [
    "##### Loading A CSV Into pandas"
   ]
  },
  {
   "cell_type": "markdown",
   "id": "plain-allen",
   "metadata": {},
   "source": [
    "##### Long To Wide Format"
   ]
  },
  {
   "cell_type": "markdown",
   "id": "union-particle",
   "metadata": {},
   "source": [
    "##### Lower Case Column Names In Pandas Dataframe"
   ]
  },
  {
   "cell_type": "markdown",
   "id": "continued-leonard",
   "metadata": {},
   "source": [
    "##### Make New Columns Using Functions"
   ]
  },
  {
   "cell_type": "markdown",
   "id": "double-transcript",
   "metadata": {},
   "source": [
    "##### Map External Values To Dataframe Values in pandas"
   ]
  },
  {
   "cell_type": "markdown",
   "id": "faced-armenia",
   "metadata": {},
   "source": [
    "##### Missing Data In pandas Dataframes"
   ]
  },
  {
   "cell_type": "markdown",
   "id": "owned-responsibility",
   "metadata": {},
   "source": [
    "##### Moving Averages In pandas"
   ]
  },
  {
   "cell_type": "markdown",
   "id": "selective-vinyl",
   "metadata": {},
   "source": [
    "##### Normalize A Column In pandas"
   ]
  },
  {
   "cell_type": "markdown",
   "id": "infinite-north",
   "metadata": {},
   "source": [
    "##### pandas Data Structures"
   ]
  },
  {
   "cell_type": "markdown",
   "id": "brave-bruce",
   "metadata": {},
   "source": [
    "##### pandas Time Series Basics"
   ]
  },
  {
   "cell_type": "markdown",
   "id": "interior-discharge",
   "metadata": {},
   "source": [
    "##### Pivot Tables In pandas"
   ]
  },
  {
   "cell_type": "markdown",
   "id": "crazy-assistant",
   "metadata": {},
   "source": [
    "##### Quickly Change A Column Of Strings In Pandas"
   ]
  },
  {
   "cell_type": "markdown",
   "id": "cordless-product",
   "metadata": {},
   "source": [
    "##### Random Sampling Dataframe"
   ]
  },
  {
   "cell_type": "markdown",
   "id": "decimal-plasma",
   "metadata": {},
   "source": [
    "##### Ranking Rows Of Pandas Dataframes"
   ]
  },
  {
   "cell_type": "markdown",
   "id": "baking-brown",
   "metadata": {},
   "source": [
    "##### Regular Expression Basics"
   ]
  },
  {
   "cell_type": "markdown",
   "id": "ordinary-barcelona",
   "metadata": {},
   "source": [
    "##### Regular Expression By Example"
   ]
  },
  {
   "cell_type": "markdown",
   "id": "beneficial-birmingham",
   "metadata": {},
   "source": [
    "##### Reindexing pandas Series And Dataframes"
   ]
  },
  {
   "cell_type": "markdown",
   "id": "helpful-devil",
   "metadata": {},
   "source": [
    "##### Rename Column Headers In pandas"
   ]
  },
  {
   "cell_type": "markdown",
   "id": "warming-discount",
   "metadata": {},
   "source": [
    "##### Rename Multiple pandas Dataframe Column Names"
   ]
  },
  {
   "cell_type": "markdown",
   "id": "through-venice",
   "metadata": {},
   "source": [
    "##### Replacing Values In pandas"
   ]
  },
  {
   "cell_type": "markdown",
   "id": "younger-territory",
   "metadata": {},
   "source": [
    "##### Saving A pandas Dataframe As A CSV"
   ]
  },
  {
   "cell_type": "markdown",
   "id": "editorial-buying",
   "metadata": {},
   "source": [
    "##### Search A pandas Column For A Value"
   ]
  },
  {
   "cell_type": "markdown",
   "id": "reasonable-donna",
   "metadata": {},
   "source": [
    "##### Select Rows When Columns Contain Certain Values"
   ]
  },
  {
   "cell_type": "markdown",
   "id": "extensive-heaven",
   "metadata": {},
   "source": [
    "##### Select Rows With A Certain Value"
   ]
  },
  {
   "cell_type": "markdown",
   "id": "broad-terry",
   "metadata": {},
   "source": [
    "##### Select Rows With Multiple Filters"
   ]
  },
  {
   "cell_type": "markdown",
   "id": "charming-theology",
   "metadata": {},
   "source": [
    "##### Selecting pandas DataFrame Rows Based On Conditions"
   ]
  },
  {
   "cell_type": "markdown",
   "id": "psychological-shelter",
   "metadata": {},
   "source": [
    "##### Simple Example Dataframes In pandas"
   ]
  },
  {
   "cell_type": "markdown",
   "id": "specified-forum",
   "metadata": {},
   "source": [
    "##### Sorting Rows In pandas Dataframes"
   ]
  },
  {
   "cell_type": "markdown",
   "id": "amino-cleaners",
   "metadata": {},
   "source": [
    "##### Split Lat/Long Coordinate Variables Into Separate Variables"
   ]
  },
  {
   "cell_type": "markdown",
   "id": "steady-thesaurus",
   "metadata": {},
   "source": [
    "##### Streaming Data Pipeline"
   ]
  },
  {
   "cell_type": "markdown",
   "id": "exposed-reform",
   "metadata": {},
   "source": [
    "##### String Munging In Dataframe"
   ]
  },
  {
   "cell_type": "markdown",
   "id": "apparent-swedish",
   "metadata": {},
   "source": [
    "##### Using List Comprehensions With pandas"
   ]
  },
  {
   "cell_type": "markdown",
   "id": "local-chambers",
   "metadata": {},
   "source": [
    "##### Using Seaborn To Visualize A pandas Dataframe"
   ]
  },
  {
   "cell_type": "markdown",
   "id": "available-depression",
   "metadata": {
    "heading_collapsed": "true",
    "tags": []
   },
   "source": [
    "#### Data Visualization"
   ]
  },
  {
   "cell_type": "markdown",
   "id": "oriental-heaven",
   "metadata": {},
   "source": [
    "- Back To Back Bar Plot In MatPlotLib\n",
    "- Bar Plot In MatPlotLib\n",
    "- Color Palettes in Seaborn\n",
    "- Creating A Time Series Plot With Seaborn And pandas\n",
    "- Creating Scatterplots With Seaborn\n",
    "- Group Bar Plot In MatPlotLib\n",
    "- Histograms In MatPlotLib\n",
    "- Making A Matplotlib Scatterplot From A Pandas Dataframe\n",
    "- Matplotlib, A Simple Example\n",
    "- Pie Chart In MatPlotLib\n",
    "- Scatterplot In MatPlotLib\n",
    "- Stacked Percentage Bar Plot In MatPlotLib"
   ]
  },
  {
   "cell_type": "markdown",
   "id": "joint-birth",
   "metadata": {},
   "source": [
    "##### Back To Back Bar Plot In MatPlotLib"
   ]
  },
  {
   "cell_type": "markdown",
   "id": "direct-offer",
   "metadata": {},
   "source": [
    "##### Bar Plot In MatPlotLib"
   ]
  },
  {
   "cell_type": "markdown",
   "id": "active-caution",
   "metadata": {},
   "source": [
    "##### Color Palettes in Seaborn"
   ]
  },
  {
   "cell_type": "markdown",
   "id": "crucial-preparation",
   "metadata": {},
   "source": [
    "##### Creating A Time Series Plot With Seaborn And pandas"
   ]
  },
  {
   "cell_type": "markdown",
   "id": "greenhouse-earthquake",
   "metadata": {},
   "source": [
    "##### Creating Scatterplots With Seaborn"
   ]
  },
  {
   "cell_type": "markdown",
   "id": "extreme-arbor",
   "metadata": {},
   "source": [
    "##### Group Bar Plot In MatPlotLib"
   ]
  },
  {
   "cell_type": "markdown",
   "id": "outer-sending",
   "metadata": {},
   "source": [
    "##### Histograms In MatPlotLib"
   ]
  },
  {
   "cell_type": "markdown",
   "id": "explicit-toolbox",
   "metadata": {},
   "source": [
    "##### Making A Matplotlib Scatterplot From A Pandas Dataframe"
   ]
  },
  {
   "cell_type": "markdown",
   "id": "defensive-draft",
   "metadata": {},
   "source": [
    "##### Matplotlib, A Simple Example"
   ]
  },
  {
   "cell_type": "markdown",
   "id": "billion-specification",
   "metadata": {},
   "source": [
    "##### Pie Chart In MatPlotLib"
   ]
  },
  {
   "cell_type": "markdown",
   "id": "polar-formation",
   "metadata": {},
   "source": [
    "##### Scatterplot In MatPlotLib"
   ]
  },
  {
   "cell_type": "markdown",
   "id": "packed-settlement",
   "metadata": {},
   "source": [
    "##### Stacked Percentage Bar Plot In MatPlotLib"
   ]
  },
  {
   "cell_type": "markdown",
   "id": "convertible-difference",
   "metadata": {
    "heading_collapsed": "true",
    "tags": []
   },
   "source": [
    "#### Web Scraping"
   ]
  },
  {
   "cell_type": "markdown",
   "id": "bored-stand",
   "metadata": {},
   "source": [
    "- Beautiful Soup Basic HTML Scraping\n",
    "- Drilling Down With Beautiful Soup\n",
    "- Monitor A Website For Changes With Python"
   ]
  },
  {
   "cell_type": "markdown",
   "id": "informed-replication",
   "metadata": {},
   "source": [
    "##### Beautiful Soup Basic HTML Scraping"
   ]
  },
  {
   "cell_type": "markdown",
   "id": "unavailable-dancing",
   "metadata": {},
   "source": [
    "##### Drilling Down With Beautiful Soup"
   ]
  },
  {
   "cell_type": "markdown",
   "id": "abstract-coaching",
   "metadata": {},
   "source": [
    "##### Monitor A Website For Changes With Python"
   ]
  },
  {
   "cell_type": "markdown",
   "id": "sudden-stocks",
   "metadata": {
    "heading_collapsed": "true",
    "tags": []
   },
   "source": [
    "#### Testing"
   ]
  },
  {
   "cell_type": "markdown",
   "id": "civic-engagement",
   "metadata": {},
   "source": [
    "- Simple Unit Test\n",
    "- Test Code Speed\n",
    "- Test For A Specific Exception\n",
    "- Test If Output Is Close To A Value\n",
    "- Testable Documentation"
   ]
  },
  {
   "cell_type": "markdown",
   "id": "passing-effectiveness",
   "metadata": {},
   "source": [
    "##### Simple Unit Test"
   ]
  },
  {
   "cell_type": "markdown",
   "id": "dangerous-smooth",
   "metadata": {},
   "source": [
    "##### Test Code Speed"
   ]
  },
  {
   "cell_type": "markdown",
   "id": "collectible-abuse",
   "metadata": {},
   "source": [
    "##### Test For A Specific Exception"
   ]
  },
  {
   "cell_type": "markdown",
   "id": "laden-interference",
   "metadata": {},
   "source": [
    "##### Test If Output Is Close To A Value"
   ]
  },
  {
   "cell_type": "markdown",
   "id": "supreme-combination",
   "metadata": {},
   "source": [
    "##### Testable Documentation"
   ]
  },
  {
   "cell_type": "markdown",
   "id": "peripheral-longitude",
   "metadata": {
    "heading_collapsed": "true",
    "tags": []
   },
   "source": [
    "#### Logging"
   ]
  },
  {
   "cell_type": "markdown",
   "id": "broken-effect",
   "metadata": {},
   "source": [
    "- Basic Logging"
   ]
  },
  {
   "cell_type": "markdown",
   "id": "rental-screen",
   "metadata": {},
   "source": [
    "##### Basic Logging"
   ]
  },
  {
   "cell_type": "markdown",
   "id": "dutch-grill",
   "metadata": {
    "heading_collapsed": "true",
    "tags": []
   },
   "source": [
    "#### Other"
   ]
  },
  {
   "cell_type": "markdown",
   "id": "reported-narrow",
   "metadata": {},
   "source": [
    "- Generate Tweets Using Markov Chains\n",
    "- Mine Twitter's Stream For Hashtags Or Words\n",
    "- Simple Clustering With SciPy\n",
    "- What Is The Probability An Economy Class Seat Is An Aisle Seat?"
   ]
  },
  {
   "cell_type": "markdown",
   "id": "persistent-breathing",
   "metadata": {},
   "source": [
    "##### Generate Tweets Using Markov Chains"
   ]
  },
  {
   "cell_type": "markdown",
   "id": "other-coach",
   "metadata": {},
   "source": [
    "##### Mine Twitter's Stream For Hashtags Or Words"
   ]
  },
  {
   "cell_type": "markdown",
   "id": "rural-committee",
   "metadata": {},
   "source": [
    "##### Simple Clustering With SciPy"
   ]
  },
  {
   "cell_type": "markdown",
   "id": "offshore-emerald",
   "metadata": {},
   "source": [
    "##### What Is The Probability An Economy Class Seat Is An Aisle Seat?"
   ]
  },
  {
   "cell_type": "markdown",
   "id": "connected-flexibility",
   "metadata": {
    "heading_collapsed": "true",
    "tags": []
   },
   "source": [
    "### Git & GitHub"
   ]
  },
  {
   "cell_type": "markdown",
   "id": "fundamental-stevens",
   "metadata": {},
   "source": [
    "- Stop Git From Asking For Password Every Push And Pull From GitHub\n",
    "- GitHub Cheatsheet"
   ]
  },
  {
   "cell_type": "markdown",
   "id": "industrial-deposit",
   "metadata": {
    "heading_collapsed": "true",
    "tags": []
   },
   "source": [
    "##### Stop Git From Asking For Password Every Push And Pull From GitHub"
   ]
  },
  {
   "cell_type": "markdown",
   "id": "fantastic-inspiration",
   "metadata": {
    "heading_collapsed": "true",
    "tags": []
   },
   "source": [
    "##### GitHub Cheatsheet"
   ]
  },
  {
   "cell_type": "markdown",
   "id": "bibliographic-administration",
   "metadata": {
    "heading_collapsed": "true",
    "tags": []
   },
   "source": [
    "### Linux Command Line"
   ]
  },
  {
   "cell_type": "markdown",
   "id": "occupied-niagara",
   "metadata": {
    "heading_collapsed": "true",
    "tags": []
   },
   "source": [
    "#### Basics"
   ]
  },
  {
   "cell_type": "markdown",
   "id": "expected-shanghai",
   "metadata": {},
   "source": [
    "- Close A Program\n",
    "- End Standard Input Entry\n",
    "- Copy Files And Directories\n",
    "- Delete Files And Directories\n",
    "- Delete Files And Directories In Current Directory\n",
    "- Modify File Permissions\n",
    "- Move Files And Directories\n",
    "- Rename File\n",
    "- See Disk Drive Space\n",
    "- View Disk Information\n",
    "- Archive And Unarchive Files\n",
    "- Change Permissions\n",
    "- Changing Directories\n",
    "- Check Current Date And Time\n",
    "- Create Command\n",
    "- Create Directory\n",
    "- Create File\n",
    "- Create Sequential List Of Files And Directories\n",
    "- Create Symbolic Links\n",
    "- Exit Terminal Session\n",
    "- Get Help With A Command\n",
    "- Get Information On A File\n",
    "- List Avaliable Commands\n",
    "- List The Contents Of A Directory\n",
    "- Multiple Commands On One Line\n",
    "- Ping Website\n",
    "- See Free Memory\n",
    "- See Who Is Logged Into A System\n",
    "- Select Files Based On Filename\n",
    "- Synchronize Files And Directories\n",
    "- Track Route Of Network Traffic\n",
    "- View A File's Type\n",
    "- View A Text File's Contents\n",
    "- View Current Working Directory\n",
    "- View First And Last Parts Of Files\n",
    "- View The Version Of A Package\n",
    "- Zip And Unzip Directories\n",
    "- Zip And Unzip Files"
   ]
  },
  {
   "cell_type": "markdown",
   "id": "tribal-spencer",
   "metadata": {},
   "source": [
    "##### Close A Program"
   ]
  },
  {
   "cell_type": "markdown",
   "id": "understood-chuck",
   "metadata": {},
   "source": [
    "##### End Standard Input Entry"
   ]
  },
  {
   "cell_type": "markdown",
   "id": "understanding-columbus",
   "metadata": {},
   "source": [
    "##### Copy Files And Directories"
   ]
  },
  {
   "cell_type": "markdown",
   "id": "opposed-front",
   "metadata": {},
   "source": [
    "##### Delete Files And Directories"
   ]
  },
  {
   "cell_type": "markdown",
   "id": "angry-infrared",
   "metadata": {},
   "source": [
    "##### Delete Files And Directories In Current Directory"
   ]
  },
  {
   "cell_type": "markdown",
   "id": "effective-equality",
   "metadata": {},
   "source": [
    "##### Modify File Permissions"
   ]
  },
  {
   "cell_type": "markdown",
   "id": "specific-violin",
   "metadata": {},
   "source": [
    "##### Move Files And Directories"
   ]
  },
  {
   "cell_type": "markdown",
   "id": "japanese-florist",
   "metadata": {},
   "source": [
    "##### Rename File"
   ]
  },
  {
   "cell_type": "markdown",
   "id": "bacterial-cleaning",
   "metadata": {},
   "source": [
    "##### See Disk Drive Space"
   ]
  },
  {
   "cell_type": "markdown",
   "id": "acceptable-subsection",
   "metadata": {},
   "source": [
    "##### View Disk Information"
   ]
  },
  {
   "cell_type": "markdown",
   "id": "distant-memorabilia",
   "metadata": {},
   "source": [
    "##### Archive And Unarchive Files"
   ]
  },
  {
   "cell_type": "markdown",
   "id": "defined-holiday",
   "metadata": {},
   "source": [
    "##### Change Permissions"
   ]
  },
  {
   "cell_type": "markdown",
   "id": "appointed-worcester",
   "metadata": {},
   "source": [
    "##### Changing Directories"
   ]
  },
  {
   "cell_type": "markdown",
   "id": "orange-table",
   "metadata": {},
   "source": [
    "##### Check Current Date And Time"
   ]
  },
  {
   "cell_type": "markdown",
   "id": "destroyed-tobago",
   "metadata": {},
   "source": [
    "##### Create Command"
   ]
  },
  {
   "cell_type": "markdown",
   "id": "fallen-hearts",
   "metadata": {},
   "source": [
    "##### Create Directory"
   ]
  },
  {
   "cell_type": "markdown",
   "id": "instant-thesaurus",
   "metadata": {},
   "source": [
    "##### Create File"
   ]
  },
  {
   "cell_type": "markdown",
   "id": "laden-bacteria",
   "metadata": {},
   "source": [
    "##### Create Sequential List Of Files And Directories"
   ]
  },
  {
   "cell_type": "markdown",
   "id": "improving-craps",
   "metadata": {},
   "source": [
    "##### Create Symbolic Links"
   ]
  },
  {
   "cell_type": "markdown",
   "id": "hollywood-highway",
   "metadata": {},
   "source": [
    "##### Exit Terminal Session"
   ]
  },
  {
   "cell_type": "markdown",
   "id": "national-alexandria",
   "metadata": {},
   "source": [
    "##### Get Help With A Command"
   ]
  },
  {
   "cell_type": "markdown",
   "id": "explicit-highway",
   "metadata": {},
   "source": [
    "##### Get Information On A File"
   ]
  },
  {
   "cell_type": "markdown",
   "id": "promotional-defendant",
   "metadata": {},
   "source": [
    "##### List Avaliable Commands"
   ]
  },
  {
   "cell_type": "markdown",
   "id": "musical-alpha",
   "metadata": {},
   "source": [
    "##### List The Contents Of A Directory"
   ]
  },
  {
   "cell_type": "markdown",
   "id": "conceptual-vaccine",
   "metadata": {},
   "source": [
    "##### Multiple Commands On One Line"
   ]
  },
  {
   "cell_type": "markdown",
   "id": "abandoned-pencil",
   "metadata": {},
   "source": [
    "##### Ping Website"
   ]
  },
  {
   "cell_type": "markdown",
   "id": "charged-warehouse",
   "metadata": {},
   "source": [
    "##### See Free Memory"
   ]
  },
  {
   "cell_type": "markdown",
   "id": "pressing-boost",
   "metadata": {},
   "source": [
    "##### See Who Is Logged Into A System"
   ]
  },
  {
   "cell_type": "markdown",
   "id": "initial-walter",
   "metadata": {},
   "source": [
    "##### Select Files Based On Filename"
   ]
  },
  {
   "cell_type": "markdown",
   "id": "cardiac-shell",
   "metadata": {},
   "source": [
    "##### Synchronize Files And Directories"
   ]
  },
  {
   "cell_type": "markdown",
   "id": "supposed-harrison",
   "metadata": {},
   "source": [
    "##### Track Route Of Network Traffic"
   ]
  },
  {
   "cell_type": "markdown",
   "id": "atomic-indonesian",
   "metadata": {},
   "source": [
    "##### View A File's Type"
   ]
  },
  {
   "cell_type": "markdown",
   "id": "patient-ethiopia",
   "metadata": {},
   "source": [
    "##### View A Text File's Contents"
   ]
  },
  {
   "cell_type": "markdown",
   "id": "needed-seminar",
   "metadata": {},
   "source": [
    "##### View Current Working Directory"
   ]
  },
  {
   "cell_type": "markdown",
   "id": "short-singing",
   "metadata": {},
   "source": [
    "##### View First And Last Parts Of Files"
   ]
  },
  {
   "cell_type": "markdown",
   "id": "played-farming",
   "metadata": {},
   "source": [
    "##### View The Version Of A Package"
   ]
  },
  {
   "cell_type": "markdown",
   "id": "dress-filter",
   "metadata": {},
   "source": [
    "##### Zip And Unzip Directories"
   ]
  },
  {
   "cell_type": "markdown",
   "id": "positive-spectacular",
   "metadata": {},
   "source": [
    "##### Zip And Unzip Files"
   ]
  },
  {
   "cell_type": "markdown",
   "id": "developed-township",
   "metadata": {
    "heading_collapsed": "true",
    "tags": []
   },
   "source": [
    "#### Inputs and Outputs"
   ]
  },
  {
   "cell_type": "markdown",
   "id": "instant-bride",
   "metadata": {},
   "source": [
    "- Append Error To File\n",
    "- Append File Contents To Another File\n",
    "- Append Output To File\n",
    "- Append Outputs And Errors To File\n",
    "- Chain Multiple Commands\n",
    "- Concatenate Multiple Files\n",
    "- Save Output To File In Middle Of Command Chain\n",
    "- Silence Errors\n",
    "- Sort Rows\n",
    "- Write Errors To File\n",
    "- Write Output To File"
   ]
  },
  {
   "cell_type": "markdown",
   "id": "reliable-japanese",
   "metadata": {},
   "source": [
    "##### Append Error To File"
   ]
  },
  {
   "cell_type": "markdown",
   "id": "radio-pontiac",
   "metadata": {},
   "source": [
    "##### Append File Contents To Another File"
   ]
  },
  {
   "cell_type": "markdown",
   "id": "sized-argentina",
   "metadata": {},
   "source": [
    "##### Append Output To File"
   ]
  },
  {
   "cell_type": "markdown",
   "id": "worldwide-station",
   "metadata": {},
   "source": [
    "##### Append Outputs And Errors To File"
   ]
  },
  {
   "cell_type": "markdown",
   "id": "aware-graphic",
   "metadata": {},
   "source": [
    "##### Chain Multiple Commands"
   ]
  },
  {
   "cell_type": "markdown",
   "id": "worth-giving",
   "metadata": {},
   "source": [
    "##### Concatenate Multiple Files"
   ]
  },
  {
   "cell_type": "markdown",
   "id": "isolated-hydrogen",
   "metadata": {},
   "source": [
    "##### Save Output To File In Middle Of Command Chain"
   ]
  },
  {
   "cell_type": "markdown",
   "id": "stone-warning",
   "metadata": {},
   "source": [
    "##### Silence Errors"
   ]
  },
  {
   "cell_type": "markdown",
   "id": "whole-walnut",
   "metadata": {},
   "source": [
    "##### Sort Rows"
   ]
  },
  {
   "cell_type": "markdown",
   "id": "excess-pregnancy",
   "metadata": {},
   "source": [
    "##### Write Errors To File"
   ]
  },
  {
   "cell_type": "markdown",
   "id": "comfortable-moses",
   "metadata": {},
   "source": [
    "##### Write Output To File"
   ]
  },
  {
   "cell_type": "markdown",
   "id": "rotary-provision",
   "metadata": {
    "heading_collapsed": "true",
    "tags": []
   },
   "source": [
    "#### Search"
   ]
  },
  {
   "cell_type": "markdown",
   "id": "existing-growth",
   "metadata": {},
   "source": [
    "- Find Directories\n",
    "- Find Files\n",
    "- Find Files Based On Multiple Conditions\n",
    "- Find Files By Filename\n",
    "- Find Files By Size\n",
    "- Find Program's Location\n",
    "- Find Symbolic Links\n",
    "- Search Contents Of All Files Of Certain Type\n",
    "- Search Filenames\n",
    "- Search The Contents Of A File"
   ]
  },
  {
   "cell_type": "markdown",
   "id": "conscious-composition",
   "metadata": {},
   "source": [
    "##### Find Directories"
   ]
  },
  {
   "cell_type": "markdown",
   "id": "young-chicken",
   "metadata": {},
   "source": [
    "##### Find Files"
   ]
  },
  {
   "cell_type": "markdown",
   "id": "naval-chaos",
   "metadata": {},
   "source": [
    "##### Find Files Based On Multiple Conditions"
   ]
  },
  {
   "cell_type": "markdown",
   "id": "referenced-bride",
   "metadata": {},
   "source": [
    "##### Find Files By Filename"
   ]
  },
  {
   "cell_type": "markdown",
   "id": "excess-hostel",
   "metadata": {},
   "source": [
    "##### Find Files By Size"
   ]
  },
  {
   "cell_type": "markdown",
   "id": "twenty-conservative",
   "metadata": {},
   "source": [
    "##### Find Program's Location"
   ]
  },
  {
   "cell_type": "markdown",
   "id": "dress-paint",
   "metadata": {},
   "source": [
    "##### Find Symbolic Links"
   ]
  },
  {
   "cell_type": "markdown",
   "id": "complimentary-biotechnology",
   "metadata": {},
   "source": [
    "##### Search Contents Of All Files Of Certain Type"
   ]
  },
  {
   "cell_type": "markdown",
   "id": "removable-clone",
   "metadata": {},
   "source": [
    "##### Search Filenames"
   ]
  },
  {
   "cell_type": "markdown",
   "id": "wrapped-kazakhstan",
   "metadata": {},
   "source": [
    "##### Search The Contents Of A File"
   ]
  },
  {
   "cell_type": "markdown",
   "id": "massive-porcelain",
   "metadata": {
    "heading_collapsed": "true",
    "tags": []
   },
   "source": [
    "#### Text"
   ]
  },
  {
   "cell_type": "markdown",
   "id": "superior-skiing",
   "metadata": {},
   "source": [
    "- Add Columns To Text\n",
    "- Count Unique Rows\n",
    "- Extract Text\n",
    "- Find And Replace\n",
    "- Adding Line Numbers\n",
    "- Comparing Text Files\n",
    "- Join And Sort Text\n",
    "- Join Columns\n",
    "- Quickly View File Contents"
   ]
  },
  {
   "cell_type": "markdown",
   "id": "stock-tower",
   "metadata": {},
   "source": [
    "##### Add Columns To Text"
   ]
  },
  {
   "cell_type": "markdown",
   "id": "major-wright",
   "metadata": {},
   "source": [
    "##### Count Unique Rows"
   ]
  },
  {
   "cell_type": "markdown",
   "id": "animated-identification",
   "metadata": {},
   "source": [
    "##### Extract Text"
   ]
  },
  {
   "cell_type": "markdown",
   "id": "worldwide-standard",
   "metadata": {},
   "source": [
    "##### Find And Replace"
   ]
  },
  {
   "cell_type": "markdown",
   "id": "awful-saint",
   "metadata": {},
   "source": [
    "##### Adding Line Numbers"
   ]
  },
  {
   "cell_type": "markdown",
   "id": "arranged-maria",
   "metadata": {},
   "source": [
    "##### Comparing Text Files"
   ]
  },
  {
   "cell_type": "markdown",
   "id": "delayed-stereo",
   "metadata": {},
   "source": [
    "##### Join And Sort Text"
   ]
  },
  {
   "cell_type": "markdown",
   "id": "heavy-sauce",
   "metadata": {},
   "source": [
    "##### Join Columns"
   ]
  },
  {
   "cell_type": "markdown",
   "id": "detected-ghana",
   "metadata": {},
   "source": [
    "##### Quickly View File Contents"
   ]
  },
  {
   "cell_type": "markdown",
   "id": "brave-portable",
   "metadata": {
    "heading_collapsed": "true",
    "tags": []
   },
   "source": [
    "#### Flow Control"
   ]
  },
  {
   "cell_type": "markdown",
   "id": "certified-improvement",
   "metadata": {},
   "source": [
    "- For Loops\n",
    "- If Else For Integers\n",
    "- If Else For Strings\n",
    "- If Else With Multiple Conditions"
   ]
  },
  {
   "cell_type": "markdown",
   "id": "static-observer",
   "metadata": {},
   "source": [
    "##### For Loops"
   ]
  },
  {
   "cell_type": "markdown",
   "id": "mounted-passenger",
   "metadata": {},
   "source": [
    "##### If Else For Integers"
   ]
  },
  {
   "cell_type": "markdown",
   "id": "ultimate-worth",
   "metadata": {},
   "source": [
    "##### If Else For Strings"
   ]
  },
  {
   "cell_type": "markdown",
   "id": "detailed-genome",
   "metadata": {},
   "source": [
    "##### If Else With Multiple Conditions"
   ]
  },
  {
   "cell_type": "markdown",
   "id": "independent-journey",
   "metadata": {
    "heading_collapsed": "true",
    "tags": []
   },
   "source": [
    "#### Processes"
   ]
  },
  {
   "cell_type": "markdown",
   "id": "chicken-circuit",
   "metadata": {},
   "source": [
    "- Measure How Long A Process Takes\n",
    "- List Processes\n",
    "- Monitor Processes"
   ]
  },
  {
   "cell_type": "markdown",
   "id": "desirable-disaster",
   "metadata": {},
   "source": [
    "##### Measure How Long A Process Takes"
   ]
  },
  {
   "cell_type": "markdown",
   "id": "graphic-commercial",
   "metadata": {},
   "source": [
    "##### List Processes"
   ]
  },
  {
   "cell_type": "markdown",
   "id": "mounted-newfoundland",
   "metadata": {},
   "source": [
    "##### Monitor Processes"
   ]
  },
  {
   "cell_type": "markdown",
   "id": "collected-logistics",
   "metadata": {
    "heading_collapsed": "true",
    "tags": []
   },
   "source": [
    "#### Shell Scripts"
   ]
  },
  {
   "cell_type": "markdown",
   "id": "mighty-snowboard",
   "metadata": {},
   "source": [
    "- Arguments\n",
    "- Conditionals\n",
    "- Double Vs. Single Quotes\n",
    "- Simple Shell Script"
   ]
  },
  {
   "cell_type": "markdown",
   "id": "desperate-general",
   "metadata": {},
   "source": [
    "##### Arguments"
   ]
  },
  {
   "cell_type": "markdown",
   "id": "adult-registrar",
   "metadata": {},
   "source": [
    "##### Conditionals"
   ]
  },
  {
   "cell_type": "markdown",
   "id": "specialized-application",
   "metadata": {},
   "source": [
    "##### Double Vs. Single Quotes"
   ]
  },
  {
   "cell_type": "markdown",
   "id": "herbal-recognition",
   "metadata": {},
   "source": [
    "##### Simple Shell Script"
   ]
  },
  {
   "cell_type": "markdown",
   "id": "junior-extension",
   "metadata": {
    "heading_collapsed": "true",
    "tags": []
   },
   "source": [
    "### Regular Expressions"
   ]
  },
  {
   "cell_type": "markdown",
   "id": "attractive-april",
   "metadata": {},
   "source": [
    "- Match A Symbol\n",
    "- Match A Unicode Character\n",
    "- Match A Word\n",
    "- Match Any Character\n",
    "- Match Any Of A List Of Characters\n",
    "- Match Any Of A Series Of Options\n",
    "- Match Any Of A Series Of Words\n",
    "- Match Dates\n",
    "- Match Email Addresses\n",
    "- Match Exact Text\n",
    "- Match Integers Of Any Length\n",
    "- Match Text Between HTML Tags\n",
    "- Match Times\n",
    "- Match URLs\n",
    "- Match US and UK Spellings\n",
    "- Match US Phone Numbers\n",
    "- Match Words With A Certain Ending\n",
    "- Match ZIP Codes"
   ]
  },
  {
   "cell_type": "markdown",
   "id": "broken-return",
   "metadata": {},
   "source": [
    "##### Match A Symbol"
   ]
  },
  {
   "cell_type": "markdown",
   "id": "indoor-socket",
   "metadata": {},
   "source": [
    "##### Match A Unicode Character"
   ]
  },
  {
   "cell_type": "markdown",
   "id": "patent-civilization",
   "metadata": {},
   "source": [
    "##### Match A Word"
   ]
  },
  {
   "cell_type": "markdown",
   "id": "aging-thing",
   "metadata": {},
   "source": [
    "##### Match Any Character"
   ]
  },
  {
   "cell_type": "markdown",
   "id": "conservative-ready",
   "metadata": {},
   "source": [
    "##### Match Any Of A List Of Characters"
   ]
  },
  {
   "cell_type": "markdown",
   "id": "incorporate-turtle",
   "metadata": {},
   "source": [
    "##### Match Any Of A Series Of Options"
   ]
  },
  {
   "cell_type": "markdown",
   "id": "beautiful-custody",
   "metadata": {},
   "source": [
    "##### Match Any Of A Series Of Words"
   ]
  },
  {
   "cell_type": "markdown",
   "id": "danish-small",
   "metadata": {},
   "source": [
    "##### Match Dates"
   ]
  },
  {
   "cell_type": "markdown",
   "id": "bizarre-pollution",
   "metadata": {},
   "source": [
    "##### Match Email Addresses"
   ]
  },
  {
   "cell_type": "markdown",
   "id": "qualified-biodiversity",
   "metadata": {},
   "source": [
    "##### Match Exact Text"
   ]
  },
  {
   "cell_type": "markdown",
   "id": "muslim-neighborhood",
   "metadata": {},
   "source": [
    "##### Match Integers Of Any Length"
   ]
  },
  {
   "cell_type": "markdown",
   "id": "bound-raleigh",
   "metadata": {},
   "source": [
    "##### Match Text Between HTML Tags"
   ]
  },
  {
   "cell_type": "markdown",
   "id": "official-elder",
   "metadata": {},
   "source": [
    "##### Match Times"
   ]
  },
  {
   "cell_type": "markdown",
   "id": "super-crowd",
   "metadata": {},
   "source": [
    "##### Match URLs"
   ]
  },
  {
   "cell_type": "markdown",
   "id": "periodic-sullivan",
   "metadata": {},
   "source": [
    "##### Match US and UK Spellings"
   ]
  },
  {
   "cell_type": "markdown",
   "id": "chief-click",
   "metadata": {},
   "source": [
    "##### Match US Phone Numbers"
   ]
  },
  {
   "cell_type": "markdown",
   "id": "settled-arrangement",
   "metadata": {},
   "source": [
    "##### Match Words With A Certain Ending"
   ]
  },
  {
   "cell_type": "markdown",
   "id": "normal-instrument",
   "metadata": {
    "tags": []
   },
   "source": [
    "##### Match ZIP Codes"
   ]
  },
  {
   "cell_type": "markdown",
   "id": "proved-crystal",
   "metadata": {
    "heading_collapsed": "true",
    "tags": []
   },
   "source": [
    "### PostgreSQL"
   ]
  },
  {
   "cell_type": "markdown",
   "id": "vietnamese-diamond",
   "metadata": {
    "heading_collapsed": "true",
    "tags": []
   },
   "source": [
    "#### Basics"
   ]
  },
  {
   "cell_type": "markdown",
   "id": "environmental-effectiveness",
   "metadata": {},
   "source": [
    "- Apply Operation To Column\n",
    "- Compare Values To Subquery\n",
    "- Copy Rows From One Table To Another\n",
    "- Count Rows\n",
    "- Count Unique Values\n",
    "- Create Column Index\n",
    "- Create PostgreSQL Database With Python\n",
    "- Create Subquery\n",
    "- Create View\n",
    "- Delete View\n",
    "- Examine A Query\n",
    "- Group Rows\n",
    "- Group Rows With Conditions\n",
    "- If Else\n",
    "- List Index Columns\n",
    "- List Tables In Database\n",
    "- Rename Columns In Views\n",
    "- Replace Missing Values\n",
    "- Retrieve Only A Few Rows\n",
    "- Retrieve Random Subset Of Rows\n",
    "- Retrieve Row\n",
    "- Retrieve Rows Based On Condition\n",
    "- Retrieve Rows Based On Multiple Condition\n",
    "- Retrieve Subset Of Columns\n",
    "- Retrieving Missing Values\n",
    "- Save Queries As Variables\n",
    "- Select Highest Value In Each Group\n",
    "- Select Values Between Two Values\n",
    "- Sort Rows\n",
    "- Sort Rows In Groups\n",
    "- Test If Rows Exist In Subquery\n",
    "- Use Column Aliases With Where Clause\n",
    "- Value Matches Element Of A List\n",
    "- View Unique Values"
   ]
  },
  {
   "cell_type": "markdown",
   "id": "acting-resident",
   "metadata": {},
   "source": [
    "##### Apply Operation To Column"
   ]
  },
  {
   "cell_type": "markdown",
   "id": "affiliated-affiliation",
   "metadata": {},
   "source": [
    "##### Compare Values To Subquery"
   ]
  },
  {
   "cell_type": "markdown",
   "id": "fundamental-convention",
   "metadata": {},
   "source": [
    "##### Copy Rows From One Table To Another"
   ]
  },
  {
   "cell_type": "markdown",
   "id": "elegant-retirement",
   "metadata": {},
   "source": [
    "##### Count Rows"
   ]
  },
  {
   "cell_type": "markdown",
   "id": "written-antenna",
   "metadata": {},
   "source": [
    "##### Count Unique Values"
   ]
  },
  {
   "cell_type": "markdown",
   "id": "native-talent",
   "metadata": {},
   "source": [
    "##### Create Column Index"
   ]
  },
  {
   "cell_type": "markdown",
   "id": "effective-accused",
   "metadata": {},
   "source": [
    "##### Create PostgreSQL Database With Python"
   ]
  },
  {
   "cell_type": "markdown",
   "id": "moderate-joining",
   "metadata": {},
   "source": [
    "##### Create Subquery"
   ]
  },
  {
   "cell_type": "markdown",
   "id": "extended-balance",
   "metadata": {},
   "source": [
    "##### Create View"
   ]
  },
  {
   "cell_type": "markdown",
   "id": "economic-webmaster",
   "metadata": {},
   "source": [
    "##### Delete View"
   ]
  },
  {
   "cell_type": "markdown",
   "id": "mexican-promotion",
   "metadata": {},
   "source": [
    "##### Examine A Query"
   ]
  },
  {
   "cell_type": "markdown",
   "id": "mathematical-amino",
   "metadata": {},
   "source": [
    "##### Group Rows"
   ]
  },
  {
   "cell_type": "markdown",
   "id": "bright-explanation",
   "metadata": {},
   "source": [
    "##### Group Rows With Conditions"
   ]
  },
  {
   "cell_type": "markdown",
   "id": "sound-configuration",
   "metadata": {},
   "source": [
    "##### If Else"
   ]
  },
  {
   "cell_type": "markdown",
   "id": "inside-furniture",
   "metadata": {},
   "source": [
    "##### List Index Columns"
   ]
  },
  {
   "cell_type": "markdown",
   "id": "instrumental-pattern",
   "metadata": {},
   "source": [
    "##### List Tables In Database"
   ]
  },
  {
   "cell_type": "markdown",
   "id": "moral-insured",
   "metadata": {},
   "source": [
    "##### Rename Columns In Views"
   ]
  },
  {
   "cell_type": "markdown",
   "id": "otherwise-consortium",
   "metadata": {},
   "source": [
    "##### Replace Missing Values"
   ]
  },
  {
   "cell_type": "markdown",
   "id": "overhead-beaver",
   "metadata": {},
   "source": [
    "##### Retrieve Only A Few Rows"
   ]
  },
  {
   "cell_type": "markdown",
   "id": "higher-murray",
   "metadata": {},
   "source": [
    "##### Retrieve Random Subset Of Rows"
   ]
  },
  {
   "cell_type": "markdown",
   "id": "worst-manchester",
   "metadata": {},
   "source": [
    "##### Retrieve Row"
   ]
  },
  {
   "cell_type": "markdown",
   "id": "decimal-curtis",
   "metadata": {},
   "source": [
    "##### Retrieve Rows Based On Condition"
   ]
  },
  {
   "cell_type": "markdown",
   "id": "distinguished-tiger",
   "metadata": {
    "tags": []
   },
   "source": [
    "##### Retrieve Rows Based On Multiple Condition"
   ]
  },
  {
   "cell_type": "markdown",
   "id": "grand-workplace",
   "metadata": {
    "tags": []
   },
   "source": [
    "##### Retrieve Subset Of Columns"
   ]
  },
  {
   "cell_type": "markdown",
   "id": "seventh-covering",
   "metadata": {
    "tags": []
   },
   "source": [
    "##### Retrieving Missing Values"
   ]
  },
  {
   "cell_type": "markdown",
   "id": "emerging-atlanta",
   "metadata": {
    "tags": []
   },
   "source": [
    "##### Save Queries As Variables"
   ]
  },
  {
   "cell_type": "markdown",
   "id": "indonesian-senator",
   "metadata": {
    "tags": []
   },
   "source": [
    "##### Select Highest Value In Each Group"
   ]
  },
  {
   "cell_type": "markdown",
   "id": "prospective-wheat",
   "metadata": {
    "tags": []
   },
   "source": [
    "##### Select Values Between Two Values"
   ]
  },
  {
   "cell_type": "markdown",
   "id": "surprised-republican",
   "metadata": {
    "tags": []
   },
   "source": [
    "##### Sort Rows"
   ]
  },
  {
   "cell_type": "markdown",
   "id": "cross-pioneer",
   "metadata": {
    "tags": []
   },
   "source": [
    "##### Sort Rows In Groups"
   ]
  },
  {
   "cell_type": "markdown",
   "id": "hispanic-doubt",
   "metadata": {
    "tags": []
   },
   "source": [
    "##### Test If Rows Exist In Subquery"
   ]
  },
  {
   "cell_type": "markdown",
   "id": "alike-blowing",
   "metadata": {
    "tags": []
   },
   "source": [
    "##### Use Column Aliases With Where Clause"
   ]
  },
  {
   "cell_type": "markdown",
   "id": "quick-organization",
   "metadata": {
    "tags": []
   },
   "source": [
    "##### Value Matches Element Of A List"
   ]
  },
  {
   "cell_type": "markdown",
   "id": "characteristic-device",
   "metadata": {
    "tags": []
   },
   "source": [
    "##### View Unique Values"
   ]
  },
  {
   "cell_type": "markdown",
   "id": "southern-verse",
   "metadata": {
    "heading_collapsed": "true",
    "tags": []
   },
   "source": [
    "#### Add, Delete, Change Rows"
   ]
  },
  {
   "cell_type": "markdown",
   "id": "overall-sequence",
   "metadata": {},
   "source": [
    "- Add Column\n",
    "- Change Values\n",
    "- Create Column Aliases\n",
    "- Create Column Conditional On Another Column\n",
    "- Create Column Of Values\n",
    "- Create Primary Key\n",
    "- Delete All Rows\n",
    "- Delete Duplicates\n",
    "- Delete Primary Key\n",
    "- Delete Rows\n",
    "- Delete Rows That Don't Exist In Another Table\n",
    "- Export To CSV\n",
    "- Import CSV\n",
    "- Insert Rows\n",
    "- Update Rows Based On Another Table"
   ]
  },
  {
   "cell_type": "markdown",
   "id": "front-polymer",
   "metadata": {},
   "source": [
    "##### Add Column"
   ]
  },
  {
   "cell_type": "markdown",
   "id": "hindu-stockholm",
   "metadata": {},
   "source": [
    "##### Change Values"
   ]
  },
  {
   "cell_type": "markdown",
   "id": "fabulous-supervisor",
   "metadata": {},
   "source": [
    "##### Create Column Aliases"
   ]
  },
  {
   "cell_type": "markdown",
   "id": "medium-salem",
   "metadata": {},
   "source": [
    "##### Create Column Conditional On Another Column"
   ]
  },
  {
   "cell_type": "markdown",
   "id": "sophisticated-stylus",
   "metadata": {},
   "source": [
    "##### Create Column Of Values"
   ]
  },
  {
   "cell_type": "markdown",
   "id": "standard-carry",
   "metadata": {},
   "source": [
    "##### Create Primary Key"
   ]
  },
  {
   "cell_type": "markdown",
   "id": "chemical-murray",
   "metadata": {},
   "source": [
    "##### Delete All Rows"
   ]
  },
  {
   "cell_type": "markdown",
   "id": "unauthorized-delay",
   "metadata": {},
   "source": [
    "##### Delete Duplicates"
   ]
  },
  {
   "cell_type": "markdown",
   "id": "pleased-constitution",
   "metadata": {},
   "source": [
    "##### Delete Primary Key"
   ]
  },
  {
   "cell_type": "markdown",
   "id": "trained-durham",
   "metadata": {},
   "source": [
    "##### Delete Rows"
   ]
  },
  {
   "cell_type": "markdown",
   "id": "executive-prefix",
   "metadata": {},
   "source": [
    "##### Delete Rows That Don't Exist In Another Table"
   ]
  },
  {
   "cell_type": "markdown",
   "id": "herbal-fiber",
   "metadata": {},
   "source": [
    "##### Export To CSV"
   ]
  },
  {
   "cell_type": "markdown",
   "id": "acknowledged-checkout",
   "metadata": {},
   "source": [
    "##### Import CSV"
   ]
  },
  {
   "cell_type": "markdown",
   "id": "electrical-rebel",
   "metadata": {},
   "source": [
    "##### Insert Rows"
   ]
  },
  {
   "cell_type": "markdown",
   "id": "tight-violin",
   "metadata": {},
   "source": [
    "##### Update Rows Based On Another Table"
   ]
  },
  {
   "cell_type": "markdown",
   "id": "metric-superior",
   "metadata": {
    "heading_collapsed": "true",
    "tags": []
   },
   "source": [
    "#### Merging and Joining"
   ]
  },
  {
   "cell_type": "markdown",
   "id": "unlimited-match",
   "metadata": {},
   "source": [
    "- All Unique Values In Two Tables\n",
    "- Cartesian Product Of Tables\n",
    "- Concatenate Multiple Table\n",
    "- Find Values In Both Tables\n",
    "- Find Values In One Table And Not Another\n",
    "- Inner Join Tables\n",
    "- Join Multiple Table\n",
    "- Left Join Tables\n",
    "- Outer Join Tables\n",
    "- Right Join Tables\n",
    "- Self Join Table\n",
    "- Stack Tables"
   ]
  },
  {
   "cell_type": "markdown",
   "id": "abstract-beverage",
   "metadata": {},
   "source": [
    "##### All Unique Values In Two Tables"
   ]
  },
  {
   "cell_type": "markdown",
   "id": "commercial-mandate",
   "metadata": {},
   "source": [
    "##### Cartesian Product Of Tables"
   ]
  },
  {
   "cell_type": "markdown",
   "id": "spiritual-timer",
   "metadata": {},
   "source": [
    "##### Concatenate Multiple Table"
   ]
  },
  {
   "cell_type": "markdown",
   "id": "acceptable-recording",
   "metadata": {},
   "source": [
    "##### Find Values In Both Tables"
   ]
  },
  {
   "cell_type": "markdown",
   "id": "derived-pressing",
   "metadata": {},
   "source": [
    "##### Find Values In One Table And Not Another"
   ]
  },
  {
   "cell_type": "markdown",
   "id": "female-picnic",
   "metadata": {},
   "source": [
    "##### Inner Join Tables"
   ]
  },
  {
   "cell_type": "markdown",
   "id": "compliant-vehicle",
   "metadata": {},
   "source": [
    "##### Join Multiple Table"
   ]
  },
  {
   "cell_type": "markdown",
   "id": "supreme-strain",
   "metadata": {},
   "source": [
    "##### Left Join Tables"
   ]
  },
  {
   "cell_type": "markdown",
   "id": "undefined-opinion",
   "metadata": {},
   "source": [
    "##### Outer Join Tables"
   ]
  },
  {
   "cell_type": "markdown",
   "id": "brown-dominant",
   "metadata": {},
   "source": [
    "##### Right Join Tables"
   ]
  },
  {
   "cell_type": "markdown",
   "id": "together-brain",
   "metadata": {},
   "source": [
    "##### Self Join Table"
   ]
  },
  {
   "cell_type": "markdown",
   "id": "bored-trauma",
   "metadata": {},
   "source": [
    "##### Stack Tables"
   ]
  },
  {
   "cell_type": "markdown",
   "id": "different-office",
   "metadata": {
    "heading_collapsed": "true",
    "tags": []
   },
   "source": [
    "#### Tables"
   ]
  },
  {
   "cell_type": "markdown",
   "id": "loaded-principle",
   "metadata": {},
   "source": [
    "- Copy Table Structure\n",
    "- Create Table\n",
    "- Create Table With Default Values\n",
    "- Create Table With UUIDs\n",
    "- Create Temporary Table\n",
    "- Delete Table\n",
    "- Delete Table With Views\n",
    "- Duplicate Table\n",
    "- List Columns In Table\n",
    "- Show Column Information\n",
    "- View Size Of Table"
   ]
  },
  {
   "cell_type": "markdown",
   "id": "consistent-consideration",
   "metadata": {},
   "source": [
    "##### Copy Table Structure"
   ]
  },
  {
   "cell_type": "markdown",
   "id": "golden-sword",
   "metadata": {},
   "source": [
    "##### Create Table"
   ]
  },
  {
   "cell_type": "markdown",
   "id": "pressing-annual",
   "metadata": {},
   "source": [
    "##### Create Table With Default Values"
   ]
  },
  {
   "cell_type": "markdown",
   "id": "double-classics",
   "metadata": {},
   "source": [
    "##### Create Table With UUIDs"
   ]
  },
  {
   "cell_type": "markdown",
   "id": "imposed-aging",
   "metadata": {},
   "source": [
    "##### Create Temporary Table"
   ]
  },
  {
   "cell_type": "markdown",
   "id": "corresponding-hudson",
   "metadata": {},
   "source": [
    "##### Delete Table"
   ]
  },
  {
   "cell_type": "markdown",
   "id": "arabic-president",
   "metadata": {},
   "source": [
    "##### Delete Table With Views"
   ]
  },
  {
   "cell_type": "markdown",
   "id": "prime-syndication",
   "metadata": {},
   "source": [
    "##### Duplicate Table"
   ]
  },
  {
   "cell_type": "markdown",
   "id": "comic-homeless",
   "metadata": {},
   "source": [
    "##### List Columns In Table"
   ]
  },
  {
   "cell_type": "markdown",
   "id": "unlikely-rugby",
   "metadata": {},
   "source": [
    "##### Show Column Information"
   ]
  },
  {
   "cell_type": "markdown",
   "id": "military-spelling",
   "metadata": {},
   "source": [
    "##### View Size Of Table"
   ]
  },
  {
   "cell_type": "markdown",
   "id": "spread-cause",
   "metadata": {
    "heading_collapsed": "true",
    "tags": []
   },
   "source": [
    "#### Text"
   ]
  },
  {
   "cell_type": "markdown",
   "id": "built-species",
   "metadata": {},
   "source": [
    "- Concatenate Values\n",
    "- Extract Characters From Strings\n",
    "- Lower And Upper Case\n",
    "- Partial String Match"
   ]
  },
  {
   "cell_type": "markdown",
   "id": "interpreted-rolling",
   "metadata": {},
   "source": [
    "##### Concatenate Values"
   ]
  },
  {
   "cell_type": "markdown",
   "id": "lesbian-davis",
   "metadata": {},
   "source": [
    "##### Extract Characters From Strings"
   ]
  },
  {
   "cell_type": "markdown",
   "id": "sunrise-carrier",
   "metadata": {},
   "source": [
    "##### Lower And Upper Case"
   ]
  },
  {
   "cell_type": "markdown",
   "id": "monetary-shelter",
   "metadata": {},
   "source": [
    "##### Partial String Match"
   ]
  },
  {
   "cell_type": "markdown",
   "id": "sweet-essay",
   "metadata": {
    "heading_collapsed": "true",
    "tags": []
   },
   "source": [
    "#### Numeric"
   ]
  },
  {
   "cell_type": "markdown",
   "id": "generous-gregory",
   "metadata": {},
   "source": [
    "- Calculate Max, Min, Or Average Of Column\n",
    "- Calculate Running Total\n",
    "- Calculate Sum Of Column\n",
    "- Convert Floats To Integers\n",
    "- Mathematical Operations On Columns"
   ]
  },
  {
   "cell_type": "markdown",
   "id": "under-gregory",
   "metadata": {},
   "source": [
    "##### Calculate Max, Min, Or Average Of Column"
   ]
  },
  {
   "cell_type": "markdown",
   "id": "organic-ghost",
   "metadata": {},
   "source": [
    "##### Calculate Running Total"
   ]
  },
  {
   "cell_type": "markdown",
   "id": "surrounded-fifty",
   "metadata": {},
   "source": [
    "##### Calculate Sum Of Column"
   ]
  },
  {
   "cell_type": "markdown",
   "id": "sunrise-philip",
   "metadata": {},
   "source": [
    "##### Convert Floats To Integers"
   ]
  },
  {
   "cell_type": "markdown",
   "id": "offensive-salem",
   "metadata": {},
   "source": [
    "##### Mathematical Operations On Columns"
   ]
  },
  {
   "cell_type": "markdown",
   "id": "piano-report",
   "metadata": {
    "heading_collapsed": "true",
    "tags": []
   },
   "source": [
    "#### Dates"
   ]
  },
  {
   "cell_type": "markdown",
   "id": "continental-corner",
   "metadata": {},
   "source": [
    "- Adding Or Substracting Time\n",
    "- Calculate Time Duration"
   ]
  },
  {
   "cell_type": "markdown",
   "id": "adult-thread",
   "metadata": {},
   "source": [
    "##### Adding Or Substracting Time"
   ]
  },
  {
   "cell_type": "markdown",
   "id": "received-cowboy",
   "metadata": {},
   "source": [
    "##### Calculate Time Duration"
   ]
  },
  {
   "cell_type": "markdown",
   "id": "mathematical-permit",
   "metadata": {
    "heading_collapsed": "true",
    "tags": []
   },
   "source": [
    "#### Interview Questions"
   ]
  },
  {
   "cell_type": "markdown",
   "id": "wired-share",
   "metadata": {},
   "source": [
    "- Calculate Requests Sent\n",
    "- Sort By Natural Ordering\n",
    "- What Happens When You Add NULL And Integer"
   ]
  },
  {
   "cell_type": "markdown",
   "id": "exclusive-coalition",
   "metadata": {},
   "source": [
    "##### Calculate Requests Sent"
   ]
  },
  {
   "cell_type": "markdown",
   "id": "parliamentary-offset",
   "metadata": {},
   "source": [
    "##### Sort By Natural Ordering"
   ]
  },
  {
   "cell_type": "markdown",
   "id": "smart-missouri",
   "metadata": {
    "heading_collapsed": "true",
    "tags": []
   },
   "source": [
    "##### What Happens When You Add NULL And Integer"
   ]
  },
  {
   "cell_type": "markdown",
   "id": "dynamic-delaware",
   "metadata": {
    "heading_collapsed": "true",
    "tags": []
   },
   "source": [
    "### Computer Science"
   ]
  },
  {
   "cell_type": "markdown",
   "id": "subtle-telephone",
   "metadata": {
    "heading_collapsed": "true",
    "tags": []
   },
   "source": [
    "#### Algorithms"
   ]
  },
  {
   "cell_type": "markdown",
   "id": "endless-tumor",
   "metadata": {},
   "source": [
    "- Big-O Notation\n",
    "- Binary Search\n",
    "- Bubble Sort\n",
    "- Insertion Sort\n",
    "- Selection Sort"
   ]
  },
  {
   "cell_type": "markdown",
   "id": "entire-satisfaction",
   "metadata": {},
   "source": [
    "##### Big-O Notation"
   ]
  },
  {
   "cell_type": "markdown",
   "id": "reserved-wholesale",
   "metadata": {},
   "source": [
    "##### Binary Search"
   ]
  },
  {
   "cell_type": "markdown",
   "id": "substantial-least",
   "metadata": {},
   "source": [
    "##### Bubble Sort"
   ]
  },
  {
   "cell_type": "markdown",
   "id": "stuffed-friendly",
   "metadata": {},
   "source": [
    "##### Insertion Sort"
   ]
  },
  {
   "cell_type": "markdown",
   "id": "nonprofit-housing",
   "metadata": {},
   "source": [
    "##### Selection Sort"
   ]
  },
  {
   "cell_type": "markdown",
   "id": "interesting-battery",
   "metadata": {
    "heading_collapsed": "true",
    "tags": []
   },
   "source": [
    "## DevOp"
   ]
  },
  {
   "cell_type": "markdown",
   "id": "proprietary-honor",
   "metadata": {
    "heading_collapsed": "true",
    "tags": []
   },
   "source": [
    "### ML Engineering"
   ]
  },
  {
   "cell_type": "markdown",
   "id": "swedish-synthesis",
   "metadata": {
    "heading_collapsed": "true",
    "tags": []
   },
   "source": [
    "#### YAML"
   ]
  },
  {
   "cell_type": "markdown",
   "id": "mature-acrylic",
   "metadata": {},
   "source": [
    "- Basic YAML File\n",
    "- Comments\n",
    "- Key-Value Pairs\n",
    "- Lists\n",
    "- Multiline Strings\n",
    "- Strings"
   ]
  },
  {
   "cell_type": "markdown",
   "id": "related-aquarium",
   "metadata": {},
   "source": [
    "##### Basic YAML File"
   ]
  },
  {
   "cell_type": "markdown",
   "id": "retained-genius",
   "metadata": {},
   "source": [
    "##### Comments"
   ]
  },
  {
   "cell_type": "markdown",
   "id": "plain-compatibility",
   "metadata": {},
   "source": [
    "##### Key-Value Pairs"
   ]
  },
  {
   "cell_type": "markdown",
   "id": "inside-chain",
   "metadata": {},
   "source": [
    "##### Lists"
   ]
  },
  {
   "cell_type": "markdown",
   "id": "informed-affiliate",
   "metadata": {},
   "source": [
    "##### Multiline Strings"
   ]
  },
  {
   "cell_type": "markdown",
   "id": "restricted-colorado",
   "metadata": {},
   "source": [
    "##### Strings"
   ]
  },
  {
   "cell_type": "markdown",
   "id": "dental-classics",
   "metadata": {
    "heading_collapsed": "true",
    "tags": []
   },
   "source": [
    "#### Kubeflow"
   ]
  },
  {
   "cell_type": "markdown",
   "id": "eligible-drill",
   "metadata": {},
   "source": [
    "- Installing Kubeflow On Ubuntu"
   ]
  },
  {
   "cell_type": "markdown",
   "id": "moral-lease",
   "metadata": {},
   "source": [
    "##### Installing Kubeflow On Ubuntu"
   ]
  },
  {
   "cell_type": "markdown",
   "id": "brief-deficit",
   "metadata": {
    "heading_collapsed": "true",
    "tags": []
   },
   "source": [
    "### Docker"
   ]
  },
  {
   "cell_type": "markdown",
   "id": "together-samoa",
   "metadata": {
    "heading_collapsed": "true",
    "tags": []
   },
   "source": [
    "#### Command Line"
   ]
  },
  {
   "cell_type": "markdown",
   "id": "chubby-swimming",
   "metadata": {},
   "source": [
    "- Automatically Generate Human-Readable Container Names\n",
    "- Automatically Restart Containers\n",
    "- Connect Container's Filesystem To Computer's Filesystem\n",
    "- Create A Container\n",
    "- Create An Image\n",
    "- Create Read-Only Filesystems In Containers\n",
    "- Export All Files And Folders Out Of A Container\n",
    "- Get Bash Shell In A Container\n",
    "- Inspect A Container\n",
    "- Inspect An Image\n",
    "- List Containers\n",
    "- Publish To Docker Hub\n",
    "- Pull An Image From A Repository\n",
    "- Remove An Image\n",
    "- Rename A Container\n",
    "- Restart A Container\n",
    "- Run A Detached Container\n",
    "- Save A Container's Bash History\n",
    "- Saving An Image As A File\n",
    "- Set Container To Run A Bash Command On Start\n",
    "- Start A Container\n",
    "- Stop A Container\n",
    "- Use Environment Variables\n",
    "- View All Changes To A Container\n",
    "- View Container Logs\n",
    "- View Image Size\n",
    "- Watch Container Logs Live\n",
    "- Work In A Container"
   ]
  },
  {
   "cell_type": "markdown",
   "id": "greater-process",
   "metadata": {},
   "source": [
    "##### Automatically Generate Human-Readable Container Names"
   ]
  },
  {
   "cell_type": "markdown",
   "id": "amino-kidney",
   "metadata": {},
   "source": [
    "##### Automatically Restart Containers"
   ]
  },
  {
   "cell_type": "markdown",
   "id": "sorted-facial",
   "metadata": {},
   "source": [
    "##### Connect Container's Filesystem To Computer's Filesystem"
   ]
  },
  {
   "cell_type": "markdown",
   "id": "naughty-pilot",
   "metadata": {},
   "source": [
    "##### Create A Container"
   ]
  },
  {
   "cell_type": "markdown",
   "id": "known-talent",
   "metadata": {},
   "source": [
    "##### Create An Image"
   ]
  },
  {
   "cell_type": "markdown",
   "id": "dominant-iceland",
   "metadata": {},
   "source": [
    "##### Create Read-Only Filesystems In Containers"
   ]
  },
  {
   "cell_type": "markdown",
   "id": "appreciated-failing",
   "metadata": {},
   "source": [
    "##### Export All Files And Folders Out Of A Container"
   ]
  },
  {
   "cell_type": "markdown",
   "id": "threaded-scoop",
   "metadata": {},
   "source": [
    "##### Get Bash Shell In A Container"
   ]
  },
  {
   "cell_type": "markdown",
   "id": "identified-intent",
   "metadata": {},
   "source": [
    "##### Inspect A Container"
   ]
  },
  {
   "cell_type": "markdown",
   "id": "nuclear-oxygen",
   "metadata": {},
   "source": [
    "##### Inspect An Image"
   ]
  },
  {
   "cell_type": "markdown",
   "id": "corrected-trunk",
   "metadata": {},
   "source": [
    "##### List Containers"
   ]
  },
  {
   "cell_type": "markdown",
   "id": "collected-remains",
   "metadata": {},
   "source": [
    "##### Publish To Docker Hub"
   ]
  },
  {
   "cell_type": "markdown",
   "id": "twenty-instrumentation",
   "metadata": {},
   "source": [
    "##### Pull An Image From A Repository"
   ]
  },
  {
   "cell_type": "markdown",
   "id": "facial-journalist",
   "metadata": {},
   "source": [
    "##### Remove An Image"
   ]
  },
  {
   "cell_type": "markdown",
   "id": "greek-pharmacy",
   "metadata": {},
   "source": [
    "##### Rename A Container"
   ]
  },
  {
   "cell_type": "markdown",
   "id": "surprising-occupation",
   "metadata": {},
   "source": [
    "##### Restart A Container"
   ]
  },
  {
   "cell_type": "markdown",
   "id": "secret-commission",
   "metadata": {},
   "source": [
    "##### Run A Detached Container"
   ]
  },
  {
   "cell_type": "markdown",
   "id": "every-saskatchewan",
   "metadata": {},
   "source": [
    "##### Save A Container's Bash History"
   ]
  },
  {
   "cell_type": "markdown",
   "id": "sufficient-flashing",
   "metadata": {},
   "source": [
    "##### Saving An Image As A File"
   ]
  },
  {
   "cell_type": "markdown",
   "id": "bibliographic-trailer",
   "metadata": {},
   "source": [
    "##### Set Container To Run A Bash Command On Start"
   ]
  },
  {
   "cell_type": "markdown",
   "id": "major-answer",
   "metadata": {},
   "source": [
    "##### Start A Container"
   ]
  },
  {
   "cell_type": "markdown",
   "id": "living-cleanup",
   "metadata": {},
   "source": [
    "##### Stop A Container"
   ]
  },
  {
   "cell_type": "markdown",
   "id": "existing-tennis",
   "metadata": {},
   "source": [
    "##### Use Environment Variables"
   ]
  },
  {
   "cell_type": "markdown",
   "id": "welsh-sweden",
   "metadata": {},
   "source": [
    "##### View All Changes To A Container"
   ]
  },
  {
   "cell_type": "markdown",
   "id": "complex-bread",
   "metadata": {},
   "source": [
    "##### View Container Logs"
   ]
  },
  {
   "cell_type": "markdown",
   "id": "formal-reynolds",
   "metadata": {},
   "source": [
    "##### View Image Size"
   ]
  },
  {
   "cell_type": "markdown",
   "id": "trained-differential",
   "metadata": {},
   "source": [
    "##### Watch Container Logs Live"
   ]
  },
  {
   "cell_type": "markdown",
   "id": "cognitive-lesson",
   "metadata": {},
   "source": [
    "##### Work In A Container"
   ]
  },
  {
   "cell_type": "markdown",
   "id": "common-barbados",
   "metadata": {
    "heading_collapsed": "true",
    "tags": []
   },
   "source": [
    "#### Dockerfiles"
   ]
  },
  {
   "cell_type": "markdown",
   "id": "impressed-mortgage",
   "metadata": {},
   "source": [
    "- Add A File From A URL To Images\n",
    "- Add A Volume\n",
    "- Add Comments\n",
    "- Add Environment Variables\n",
    "- Add Files And Folders To Images\n",
    "- Add Metadata\n",
    "- Expose A Port\n",
    "- Ignore Files While Building\n",
    "- Run Command When Container Starts\n",
    "- Run Command While Building Image\n",
    "- Run Commands As A User\n",
    "- Run Many Commands While Building Image\n",
    "- Set A Default Working Directory\n",
    "- Set Default Working Directory"
   ]
  },
  {
   "cell_type": "markdown",
   "id": "dynamic-tomorrow",
   "metadata": {},
   "source": [
    "##### Add A File From A URL To Images"
   ]
  },
  {
   "cell_type": "markdown",
   "id": "liked-formation",
   "metadata": {},
   "source": [
    "##### Add A Volume"
   ]
  },
  {
   "cell_type": "markdown",
   "id": "overhead-reform",
   "metadata": {},
   "source": [
    "##### Add Comments"
   ]
  },
  {
   "cell_type": "markdown",
   "id": "delayed-celtic",
   "metadata": {},
   "source": [
    "##### Add Environment Variables"
   ]
  },
  {
   "cell_type": "markdown",
   "id": "twenty-liberia",
   "metadata": {},
   "source": [
    "##### Add Files And Folders To Images"
   ]
  },
  {
   "cell_type": "markdown",
   "id": "outdoor-reporter",
   "metadata": {},
   "source": [
    "##### Add Metadata"
   ]
  },
  {
   "cell_type": "markdown",
   "id": "every-heart",
   "metadata": {},
   "source": [
    "##### Expose A Port"
   ]
  },
  {
   "cell_type": "markdown",
   "id": "seventh-security",
   "metadata": {},
   "source": [
    "##### Ignore Files While Building"
   ]
  },
  {
   "cell_type": "markdown",
   "id": "chinese-antarctica",
   "metadata": {},
   "source": [
    "##### Run Command When Container Starts"
   ]
  },
  {
   "cell_type": "markdown",
   "id": "weekly-sculpture",
   "metadata": {},
   "source": [
    "##### Run Command While Building Image"
   ]
  },
  {
   "cell_type": "markdown",
   "id": "automotive-treasurer",
   "metadata": {},
   "source": [
    "##### Run Commands As A User"
   ]
  },
  {
   "cell_type": "markdown",
   "id": "animated-theta",
   "metadata": {},
   "source": [
    "##### Run Many Commands While Building Image"
   ]
  },
  {
   "cell_type": "markdown",
   "id": "surgical-shade",
   "metadata": {},
   "source": [
    "##### Set A Default Working Directory"
   ]
  },
  {
   "cell_type": "markdown",
   "id": "miniature-storage",
   "metadata": {},
   "source": [
    "##### Set Default Working Directory"
   ]
  },
  {
   "cell_type": "markdown",
   "id": "turkish-assist",
   "metadata": {
    "heading_collapsed": "true",
    "tags": []
   },
   "source": [
    "#### Docker Compose "
   ]
  },
  {
   "cell_type": "markdown",
   "id": "suffering-percentage",
   "metadata": {
    "heading_collapsed": "true",
    "tags": []
   },
   "source": [
    "### Scala"
   ]
  },
  {
   "cell_type": "markdown",
   "id": "athletic-delhi",
   "metadata": {},
   "source": [
    "- Break A Sequence Into Groups\n",
    "- Change Data Type\n",
    "- Chunk Sequence In Equal Sized Groups\n",
    "- Compare Two Floats\n",
    "- Create A Range\n",
    "- Extract Substrings Using Regex\n",
    "- Filter A Sequence\n",
    "- Find Largest Key Or Value In A Map\n",
    "- Flatten Sequence Of Sequences\n",
    "- For Loop A Map\n",
    "- For Looping\n",
    "- Format Numbers As Currency\n",
    "- If Else\n",
    "- Increment And Decrement Numbers\n",
    "- Insert Variables Into Strings\n",
    "- Iterate Over A Map\n",
    "- Loop A Collection\n",
    "- Make Numbers Pretty\n",
    "- Mapping A Function To A Collection\n",
    "- Matching Conditions\n",
    "- Mutable Maps\n",
    "- N Dimension Arrays\n",
    "- Partial Functions\n",
    "- Random Integer Between Two Values\n",
    "- Replacing Parts Of Strings\n",
    "- Search A Map\n",
    "- Search Strings\n",
    "- Search Strings Using Regex\n",
    "- Set Operations On Sequences\n",
    "- Sorting Sequences\n",
    "- Split Strings\n",
    "- Try, Catch, Finally\n",
    "- Variables And Values\n",
    "- Zip Together Two Lists"
   ]
  },
  {
   "cell_type": "markdown",
   "id": "wanted-delicious",
   "metadata": {
    "heading_collapsed": "true",
    "tags": []
   },
   "source": [
    "##### Break A Sequence Into Groups"
   ]
  },
  {
   "cell_type": "markdown",
   "id": "published-relationship",
   "metadata": {
    "heading_collapsed": "true",
    "tags": []
   },
   "source": [
    "##### Change Data Type"
   ]
  },
  {
   "cell_type": "markdown",
   "id": "deluxe-effect",
   "metadata": {
    "heading_collapsed": "true",
    "tags": []
   },
   "source": [
    "##### Chunk Sequence In Equal Sized Groups"
   ]
  },
  {
   "cell_type": "markdown",
   "id": "material-kitty",
   "metadata": {
    "heading_collapsed": "true",
    "tags": []
   },
   "source": [
    "##### Compare Two Floats"
   ]
  },
  {
   "cell_type": "markdown",
   "id": "polyphonic-result",
   "metadata": {
    "heading_collapsed": "true",
    "tags": []
   },
   "source": [
    "##### Create A Range"
   ]
  },
  {
   "cell_type": "markdown",
   "id": "advisory-tracy",
   "metadata": {
    "heading_collapsed": "true",
    "tags": []
   },
   "source": [
    "##### Extract Substrings Using Regex"
   ]
  },
  {
   "cell_type": "markdown",
   "id": "surface-census",
   "metadata": {
    "heading_collapsed": "true",
    "tags": []
   },
   "source": [
    "##### Filter A Sequence"
   ]
  },
  {
   "cell_type": "markdown",
   "id": "patent-manchester",
   "metadata": {
    "heading_collapsed": "true",
    "tags": []
   },
   "source": [
    "##### Find Largest Key Or Value In A Map"
   ]
  },
  {
   "cell_type": "markdown",
   "id": "joined-characterization",
   "metadata": {
    "heading_collapsed": "true",
    "tags": []
   },
   "source": [
    "##### Flatten Sequence Of Sequences"
   ]
  },
  {
   "cell_type": "markdown",
   "id": "expired-eight",
   "metadata": {
    "heading_collapsed": "true",
    "tags": []
   },
   "source": [
    "##### For Loop A Map"
   ]
  },
  {
   "cell_type": "markdown",
   "id": "nominated-meter",
   "metadata": {
    "heading_collapsed": "true",
    "tags": []
   },
   "source": [
    "##### For Looping"
   ]
  },
  {
   "cell_type": "markdown",
   "id": "owned-reception",
   "metadata": {
    "heading_collapsed": "true",
    "tags": []
   },
   "source": [
    "##### Format Numbers As Currency"
   ]
  },
  {
   "cell_type": "markdown",
   "id": "dramatic-fishing",
   "metadata": {
    "heading_collapsed": "true",
    "tags": []
   },
   "source": [
    "##### If Else"
   ]
  },
  {
   "cell_type": "markdown",
   "id": "sustainable-arnold",
   "metadata": {
    "heading_collapsed": "true",
    "tags": []
   },
   "source": [
    "##### Increment And Decrement Numbers"
   ]
  },
  {
   "cell_type": "markdown",
   "id": "frank-pittsburgh",
   "metadata": {
    "heading_collapsed": "true",
    "tags": []
   },
   "source": [
    "##### Insert Variables Into Strings"
   ]
  },
  {
   "cell_type": "markdown",
   "id": "exempt-fruit",
   "metadata": {
    "heading_collapsed": "true",
    "tags": []
   },
   "source": [
    "##### Iterate Over A Map"
   ]
  },
  {
   "cell_type": "markdown",
   "id": "rolled-significance",
   "metadata": {
    "heading_collapsed": "true",
    "tags": []
   },
   "source": [
    "##### Loop A Collection"
   ]
  },
  {
   "cell_type": "markdown",
   "id": "certain-metallic",
   "metadata": {
    "heading_collapsed": "true",
    "tags": []
   },
   "source": [
    "##### Make Numbers Pretty"
   ]
  },
  {
   "cell_type": "markdown",
   "id": "fleet-program",
   "metadata": {
    "heading_collapsed": "true",
    "tags": []
   },
   "source": [
    "##### Mapping A Function To A Collection"
   ]
  },
  {
   "cell_type": "markdown",
   "id": "together-enzyme",
   "metadata": {
    "heading_collapsed": "true",
    "tags": []
   },
   "source": [
    "##### Matching Conditions"
   ]
  },
  {
   "cell_type": "markdown",
   "id": "facial-stick",
   "metadata": {
    "heading_collapsed": "true",
    "tags": []
   },
   "source": [
    "##### Mutable Maps"
   ]
  },
  {
   "cell_type": "markdown",
   "id": "catholic-orchestra",
   "metadata": {
    "heading_collapsed": "true",
    "tags": []
   },
   "source": [
    "##### N Dimension Arrays"
   ]
  },
  {
   "cell_type": "markdown",
   "id": "passive-symposium",
   "metadata": {
    "heading_collapsed": "true",
    "tags": []
   },
   "source": [
    "##### Partial Functions"
   ]
  },
  {
   "cell_type": "markdown",
   "id": "automotive-formula",
   "metadata": {
    "heading_collapsed": "true",
    "tags": []
   },
   "source": [
    "##### Random Integer Between Two Values"
   ]
  },
  {
   "cell_type": "markdown",
   "id": "fitting-sellers",
   "metadata": {
    "heading_collapsed": "true",
    "tags": []
   },
   "source": [
    "##### Replacing Parts Of Strings"
   ]
  },
  {
   "cell_type": "markdown",
   "id": "ranging-smith",
   "metadata": {
    "heading_collapsed": "true",
    "tags": []
   },
   "source": [
    "##### Search A Map"
   ]
  },
  {
   "cell_type": "markdown",
   "id": "modified-street",
   "metadata": {
    "heading_collapsed": "true",
    "tags": []
   },
   "source": [
    "##### Search Strings"
   ]
  },
  {
   "cell_type": "markdown",
   "id": "original-lithuania",
   "metadata": {
    "heading_collapsed": "true",
    "tags": []
   },
   "source": [
    "##### Search Strings Using Regex"
   ]
  },
  {
   "cell_type": "markdown",
   "id": "animal-nursery",
   "metadata": {
    "heading_collapsed": "true",
    "tags": []
   },
   "source": [
    "##### Set Operations On Sequences"
   ]
  },
  {
   "cell_type": "markdown",
   "id": "great-planning",
   "metadata": {
    "heading_collapsed": "true",
    "tags": []
   },
   "source": [
    "##### Sorting Sequences"
   ]
  },
  {
   "cell_type": "markdown",
   "id": "standard-martial",
   "metadata": {
    "heading_collapsed": "true",
    "tags": []
   },
   "source": [
    "##### Split Strings"
   ]
  },
  {
   "cell_type": "markdown",
   "id": "infrared-vocabulary",
   "metadata": {
    "heading_collapsed": "true",
    "tags": []
   },
   "source": [
    "##### Try, Catch, Finally"
   ]
  },
  {
   "cell_type": "markdown",
   "id": "elder-artwork",
   "metadata": {
    "heading_collapsed": "true",
    "tags": []
   },
   "source": [
    "##### Variables And Values"
   ]
  },
  {
   "cell_type": "markdown",
   "id": "great-atlanta",
   "metadata": {
    "heading_collapsed": "true",
    "tags": []
   },
   "source": [
    "##### Zip Together Two Lists"
   ]
  },
  {
   "cell_type": "markdown",
   "id": "loving-mathematics",
   "metadata": {
    "heading_collapsed": "true",
    "tags": []
   },
   "source": [
    "### AWS"
   ]
  },
  {
   "cell_type": "markdown",
   "id": "certified-apparel",
   "metadata": {},
   "source": [
    "- Run Project Jupyter Notebooks On Amazon EC2\n",
    "- Create Bucket\n",
    "- List Buckets"
   ]
  },
  {
   "cell_type": "markdown",
   "id": "waiting-speed",
   "metadata": {},
   "source": [
    "##### Run Project Jupyter Notebooks On Amazon EC2"
   ]
  },
  {
   "cell_type": "markdown",
   "id": "christian-bridge",
   "metadata": {},
   "source": [
    "##### Create Bucket"
   ]
  },
  {
   "cell_type": "markdown",
   "id": "variable-table",
   "metadata": {},
   "source": [
    "##### List Buckets"
   ]
  }
 ],
 "metadata": {
  "kernelspec": {
   "display_name": "Python 3",
   "language": "python",
   "name": "python3"
  },
  "language_info": {
   "codemirror_mode": {
    "name": "ipython",
    "version": 3
   },
   "file_extension": ".py",
   "mimetype": "text/x-python",
   "name": "python",
   "nbconvert_exporter": "python",
   "pygments_lexer": "ipython3",
   "version": "3.8.6"
  },
  "toc-autonumbering": false,
  "toc-showcode": false,
  "toc-showmarkdowntxt": false,
  "toc-showtags": false
 },
 "nbformat": 4,
 "nbformat_minor": 5
}
